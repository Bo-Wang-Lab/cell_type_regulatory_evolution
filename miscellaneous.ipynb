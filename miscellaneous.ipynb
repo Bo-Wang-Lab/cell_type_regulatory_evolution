{
 "cells": [
  {
   "cell_type": "code",
   "execution_count": null,
   "id": "1c13a00b-d5aa-47c3-a5e3-504fa668a30c",
   "metadata": {},
   "outputs": [],
   "source": [
    "import os\n",
    "from re import search\n",
    "import pandas as pd\n",
    "import numpy as np\n",
    "\n",
    "import scanpy as sc\n",
    "\n",
    "from sklearn.linear_model import LogisticRegression\n",
    "from sklearn.model_selection import train_test_split\n",
    "from sklearn.neighbors import KNeighborsRegressor\n",
    "from sklearn import metrics\n",
    "from sklearn.metrics import confusion_matrix\n",
    "\n",
    "from scipy.special import softmax\n",
    "from scipy.stats import zscore\n",
    "from scipy import sparse\n",
    "\n",
    "import matplotlib\n",
    "import matplotlib.pyplot as plt\n",
    "import seaborn as sns\n",
    "\n",
    "from multiprocessing import Pool\n",
    "\n",
    "from anndata import AnnData\n",
    "\n",
    "from numba import njit, prange\n",
    "\n",
    "from tqdm import tqdm\n",
    "\n",
    "import pickle\n",
    "import gc\n",
    "\n",
    "import warnings\n",
    "\n",
    "matplotlib.rcParams.update({'font.size': 12})\n",
    "%config InlineBackend.figure_format = 'retina'\n",
    "%matplotlib inline\n",
    "warnings.filterwarnings('ignore')"
   ]
  },
  {
   "cell_type": "markdown",
   "id": "137fe93c-73c0-48d6-b16d-f8e81798542c",
   "metadata": {},
   "source": [
    "# Peak set predictivity analysis"
   ]
  },
  {
   "cell_type": "markdown",
   "id": "83cea8af-467a-4375-b70a-2c262ed022da",
   "metadata": {},
   "source": [
    "## Load in the data"
   ]
  },
  {
   "cell_type": "code",
   "execution_count": 2,
   "id": "7863f506-d9e4-4cdf-b370-6044144ff79e",
   "metadata": {
    "tags": []
   },
   "outputs": [
    {
     "data": {
      "text/plain": [
       "AnnData object with n_obs × n_vars = 502 × 236016\n",
       "    obs: 'n_counts', 'GroupFigure', 'TissueSAM', 'Sample', 'SEACell'\n",
       "    var: 'GC_bin', 'counts_bin', 'n_cells', 'Chr', 'Start', 'Stop', 'PeakType', 'NearestGene'\n",
       "    uns: 'GroupFigure_colors', 'Sample_colors', 'log1p', 'neighbors', 'umap'\n",
       "    obsm: 'X_svd', 'X_umap'\n",
       "    layers: 'OpenPeaks', 'raw'\n",
       "    obsp: 'connectivities', 'distances'"
      ]
     },
     "execution_count": 2,
     "metadata": {},
     "output_type": "execute_result"
    }
   ],
   "source": [
    "mligPeaks = sc.read_h5ad( 'SEACellsOutput/Mlig.SEACells_ATAC.h5ad' )\n",
    "\n",
    "mligPeaks.var['Chr'] = [ n.split(':')[0] for n in mligPeaks.var_names ]\n",
    "mligPeaks.var['Start'] = [ int(n.split(':')[1].split('-')[0]) for n in mligPeaks.var_names ]\n",
    "mligPeaks.var['Stop'] = [ int(n.split(':')[1].split('-')[1]) for n in mligPeaks.var_names ]\n",
    "\n",
    "chipseekr = pd.read_csv( 'Metadata/Mlig.chipseekr_annots.csv' )\n",
    "chipseekr.index = chipseekr['seqnames'] + ':' + \\\n",
    "                  chipseekr['start'].astype(str) + '-' + \\\n",
    "                  chipseekr['end'].astype(str)\n",
    "overlap = chipseekr.index.intersection( mligPeaks.var_names )\n",
    "mligPeaks.var['PeakType'] = ''\n",
    "mligPeaks.var.loc[overlap,'PeakType'] = chipseekr.loc[overlap,'annotation']\n",
    "mligPeaks.var['NearestGene'] = ''\n",
    "mligPeaks.var.loc[overlap,'NearestGene'] = chipseekr.loc[overlap,'transcriptId']\n",
    "del chipseekr\n",
    "gc.collect()\n",
    "\n",
    "mligPeaks"
   ]
  },
  {
   "cell_type": "code",
   "execution_count": 3,
   "id": "4eb00852-325e-4ddc-93ac-12672ea7d03b",
   "metadata": {},
   "outputs": [
    {
     "data": {
      "text/plain": [
       "AnnData object with n_obs × n_vars = 277 × 317488\n",
       "    obs: 'n_counts', 'GroupFigure', 'TissueSAM', 'Sample', 'SEACell'\n",
       "    var: 'GC_bin', 'counts_bin', 'n_cells', 'Chr', 'Start', 'Stop', 'PeakType', 'NearestGene'\n",
       "    uns: 'GroupFigure_colors', 'Sample_colors', 'log1p', 'neighbors', 'umap'\n",
       "    obsm: 'X_svd', 'X_umap'\n",
       "    layers: 'OpenPeaks', 'raw'\n",
       "    obsp: 'connectivities', 'distances'"
      ]
     },
     "execution_count": 3,
     "metadata": {},
     "output_type": "execute_result"
    }
   ],
   "source": [
    "smedPeaks = sc.read_h5ad( 'SEACellsOutput/Smed.SEACells_ATAC.h5ad' )\n",
    "\n",
    "smedPeaks.var['Chr'] = [ n.split(':')[0] for n in smedPeaks.var_names ]\n",
    "smedPeaks.var['Start'] = [ int(n.split(':')[1].split('-')[0]) for n in smedPeaks.var_names ]\n",
    "smedPeaks.var['Stop'] = [ int(n.split(':')[1].split('-')[1]) for n in smedPeaks.var_names ]\n",
    "\n",
    "chipseekr = pd.read_csv( 'Metadata/Smed.chipseekr_annots.csv' )\n",
    "chipseekr.index = chipseekr['seqnames'] + ':' + \\\n",
    "                  chipseekr['start'].astype(str) + '-' + \\\n",
    "                  chipseekr['end'].astype(str)\n",
    "overlap = chipseekr.index.intersection( smedPeaks.var_names )\n",
    "smedPeaks.var['PeakType'] = ''\n",
    "smedPeaks.var.loc[overlap,'PeakType'] = chipseekr.loc[overlap,'annotation']\n",
    "smedPeaks.var['NearestGene'] = ''\n",
    "smedPeaks.var.loc[overlap,'NearestGene'] = chipseekr.loc[overlap,'transcriptId']\n",
    "del chipseekr\n",
    "gc.collect()\n",
    "\n",
    "smedPeaks"
   ]
  },
  {
   "cell_type": "code",
   "execution_count": 4,
   "id": "0786ca00-a1e9-4f2d-bf3d-fb8ae1396e9e",
   "metadata": {},
   "outputs": [
    {
     "data": {
      "text/plain": [
       "AnnData object with n_obs × n_vars = 435 × 162349\n",
       "    obs: 'n_counts', 'GroupFigure', 'TissueSAM', 'Sample', 'SEACell'\n",
       "    var: 'GC_bin', 'counts_bin', 'n_cells', 'Chr', 'Start', 'Stop', 'PeakType', 'NearestGene'\n",
       "    uns: 'GroupFigure_colors', 'Sample_colors', 'log1p', 'neighbors', 'umap'\n",
       "    obsm: 'X_svd', 'X_umap'\n",
       "    layers: 'OpenPeaks', 'raw'\n",
       "    obsp: 'connectivities', 'distances'"
      ]
     },
     "execution_count": 4,
     "metadata": {},
     "output_type": "execute_result"
    }
   ],
   "source": [
    "smanPeaks = sc.read_h5ad( 'SEACellsOutput/Sman.SEACells_ATAC.h5ad' )\n",
    "\n",
    "smanPeaks.var['Chr'] = [ n.split(':')[0] for n in smanPeaks.var_names ]\n",
    "smanPeaks.var['Start'] = [ int(n.split(':')[1].split('-')[0]) for n in smanPeaks.var_names ]\n",
    "smanPeaks.var['Stop'] = [ int(n.split(':')[1].split('-')[1]) for n in smanPeaks.var_names ]\n",
    "\n",
    "chipseekr = pd.read_csv( 'Metadata/Sman.chipseekr_annots.csv' )\n",
    "chipseekr.index = chipseekr['seqnames'] + ':' + \\\n",
    "                  chipseekr['start'].astype(str) + '-' + \\\n",
    "                  chipseekr['end'].astype(str)\n",
    "overlap = chipseekr.index.intersection( smanPeaks.var_names )\n",
    "smanPeaks.var['PeakType'] = ''\n",
    "smanPeaks.var.loc[overlap,'PeakType'] = chipseekr.loc[overlap,'annotation']\n",
    "smanPeaks.var['NearestGene'] = ''\n",
    "smanPeaks.var.loc[overlap,'NearestGene'] = chipseekr.loc[overlap,'transcriptId']\n",
    "del chipseekr\n",
    "gc.collect()\n",
    "\n",
    "smanPeaks"
   ]
  },
  {
   "cell_type": "markdown",
   "id": "22474730-f65c-489a-85bc-c2de4c9e2cbf",
   "metadata": {},
   "source": [
    "## Train the classifiers"
   ]
  },
  {
   "cell_type": "code",
   "execution_count": null,
   "id": "fcb30594-169d-417d-862e-9d80717c0bf2",
   "metadata": {},
   "outputs": [],
   "source": [
    "# Train a logistic regression model and\n",
    "# return matthews correlations values \n",
    "# for predictions of each unique label\n",
    "# @param inTup: tuple of ( initialized LogisticRegression model,\n",
    "#                          predictor array used for training,\n",
    "#                          training labels,\n",
    "#                          predictor array used for testing,\n",
    "#                          testing labels )\n",
    "def _trainCalcMatthews( inTup ):\n",
    "    if inTup is None:\n",
    "        return -1\n",
    "    # unpack the input\n",
    "    model, Xtr, Ytr, Xte, Yte = inTup\n",
    "    # Fit and test the model\n",
    "    model = model.fit( Xtr, Ytr )\n",
    "    pred = model.predict( Xte )\n",
    "    # Get all unique labels\n",
    "    uLabels = np.sort(np.unique(np.concatenate((Ytr,Yte))))\n",
    "    # Calculate Matthews correlation for each\n",
    "    M = np.zeros(uLabels.size)\n",
    "    for i, label in enumerate(uLabels):\n",
    "        if label not in Yte:\n",
    "            continue\n",
    "        y = Yte == label\n",
    "        yhat = pred == label\n",
    "        M[i] = matthews_corrcoef( y, yhat )\n",
    "    # return array of Matthews correlations per label\n",
    "    return M\n",
    "\n",
    "# Train logistic regression models for one-vs-rest predictions\n",
    "# of discrete labels over K unique train-test splits, \n",
    "# return Matthews correlations for true and predicted labels\n",
    "# corresponding to each split\n",
    "# @param data: (N_observations,N_features) predictors matrix\n",
    "# @param labels: (N_observations,) vector of discrete labels\n",
    "# @param nSplit: integer number of train-test splits to try\n",
    "# @param testRatio: fraction of the data to hold out for testing\n",
    "# @param nProc: number of threads to run in parallel\n",
    "# @param seed: random seed\n",
    "# @param downsampleFeatures: number of features to feed into the models\n",
    "# @return tuple of ( unique labels from labels,\n",
    "#                    list of nSplit Matthews correlation values for \n",
    "#                      each unique label,\n",
    "#                    binary vector indicating whether each label is \n",
    "#                      linearly separable within the provided feature space )\n",
    "def calcKSplitsMatthewsPerClass( data, labels, nSplit=5, testRatio=0.2, nProc=1, \n",
    "                                 seed=0, downsampleFeatures=None ):\n",
    "    uLabels = np.sort(np.unique(labels))\n",
    "    \n",
    "    # First, check whether data are linearly separable\n",
    "    # Do this by training and testing on the whole dataset\n",
    "    print( 'Calculating linear separability' )\n",
    "    L = _trainCalcMatthews( ( LogisticRegression( penalty='l2', C=1e5, n_jobs=nProc ),\n",
    "                              data, labels, data, labels ) )\n",
    "    \n",
    "    # Next, do train/test splits to get an idea of consistency\n",
    "    np.random.seed( seed )\n",
    "    M = np.zeros( (nSplit,uLabels.size) )\n",
    "    inputs = []\n",
    "    print( 'Preparing splits' )\n",
    "    for i in tqdm( range(nSplit) ):\n",
    "        X = data.copy()\n",
    "        # Downsample the data, if desired\n",
    "        if downsampleFeatures is not None and \\\n",
    "           downsampleFeatures <= data.shape[1]:\n",
    "            dsInd = np.random.choice( data.shape[1], downsampleFeatures, replace=False )\n",
    "            X = X[:,dsInd]\n",
    "        # Pick a random train-test split\n",
    "        Xtr, Xte, Ytr, Yte = train_test_split( X, labels, \n",
    "                                               test_size=testRatio,\n",
    "                                               stratify=labels )\n",
    "        # Prepare the input tuple for this train-test split\n",
    "        inputs.append( ( LogisticRegression( penalty='l2', C=1e5 ),\n",
    "                         Xtr, Ytr, Xte, Yte ) )\n",
    "    print( 'Calculating per-class consistency' )\n",
    "    # Do the training and calculate performance metrics in parallel\n",
    "    with Pool(processes=nProc) as p:\n",
    "        M = np.array(p.map(_trainCalcMatthews, inputs))\n",
    "    print( 'Done' )\n",
    "    \n",
    "    return ( uLabels, M, L )"
   ]
  },
  {
   "cell_type": "code",
   "execution_count": 11,
   "id": "01d64d05-b260-4477-b576-0d5f850e6014",
   "metadata": {},
   "outputs": [
    {
     "data": {
      "text/html": [
       "<div>\n",
       "<style scoped>\n",
       "    .dataframe tbody tr th:only-of-type {\n",
       "        vertical-align: middle;\n",
       "    }\n",
       "\n",
       "    .dataframe tbody tr th {\n",
       "        vertical-align: top;\n",
       "    }\n",
       "\n",
       "    .dataframe thead th {\n",
       "        text-align: right;\n",
       "    }\n",
       "</style>\n",
       "<table border=\"1\" class=\"dataframe\">\n",
       "  <thead>\n",
       "    <tr style=\"text-align: right;\">\n",
       "      <th></th>\n",
       "      <th>Species</th>\n",
       "      <th>CellType</th>\n",
       "      <th>Tissue</th>\n",
       "      <th>Features</th>\n",
       "      <th>Matthews</th>\n",
       "    </tr>\n",
       "  </thead>\n",
       "  <tbody>\n",
       "  </tbody>\n",
       "</table>\n",
       "</div>"
      ],
      "text/plain": [
       "Empty DataFrame\n",
       "Columns: [Species, CellType, Tissue, Features, Matthews]\n",
       "Index: []"
      ]
     },
     "execution_count": 11,
     "metadata": {},
     "output_type": "execute_result"
    }
   ],
   "source": [
    "nSplit = 10\n",
    "testRatio = 0.3\n",
    "matthewsDF = pd.DataFrame( columns=['Species','CellType','Tissue','Features','Matthews'] )\n",
    "\n",
    "matthewsDF"
   ]
  },
  {
   "cell_type": "markdown",
   "id": "55db6e96-cae9-4fbb-a302-09cf8576852d",
   "metadata": {},
   "source": [
    "Train on all of the different kinds of peaks for Mlig"
   ]
  },
  {
   "cell_type": "code",
   "execution_count": null,
   "id": "f54dce3c-25b7-4f8b-bc35-a0b648a41994",
   "metadata": {},
   "outputs": [],
   "source": [
    "cts, M, L = calcKSplitsMatthewsPerClass( mligPeaks.X.A, mligPeaks.obs.GroupFigure.values,\n",
    "                                         nSplit=nSplit, testRatio=testRatio, nProc=8 )\n",
    "print( 'Linear separability:' )\n",
    "print( list( zip( cts, L ) ) )\n",
    "\n",
    "sp = ['Mlig']*M.size\n",
    "ct = np.concatenate([[c]*nSplit for c in cts])\n",
    "t = ['']*M.size\n",
    "f = ['Peaks']*M.size\n",
    "m = np.concatenate([M[:,i] for i in range(cts.size)])\n",
    "\n",
    "matthewsDF = pd.concat( (matthewsDF,pd.DataFrame( {'Species': sp,\n",
    "                                                   'CellType': ct,\n",
    "                                                   'Tissue': t,\n",
    "                                                   'Features': f,\n",
    "                                                   'Matthews': m} )), axis=0 ).reset_index(drop=True)\n",
    "matthewsDF"
   ]
  },
  {
   "cell_type": "code",
   "execution_count": null,
   "id": "05331e13-71e9-45ef-9976-15e541877653",
   "metadata": {},
   "outputs": [],
   "source": [
    "cts, M, L = calcKSplitsMatthewsPerClass( mligPeaks[:,mligPeaks.var.PeakType=='Promoter'].X.A, \n",
    "                                         mligPeaks.obs.GroupFigure.values,\n",
    "                                         nSplit=nSplit, testRatio=testRatio, nProc=8 )\n",
    "print( 'Linear separability:' )\n",
    "print( list( zip( cts, L ) ) )\n",
    "\n",
    "sp = ['Mlig']*M.size\n",
    "ct = np.concatenate([[c]*nSplit for c in cts])\n",
    "t = ['']*M.size\n",
    "f = ['Promoters']*M.size\n",
    "m = np.concatenate([M[:,i] for i in range(cts.size)])\n",
    "\n",
    "matthewsDF = pd.concat( (matthewsDF,pd.DataFrame( {'Species': sp,\n",
    "                                                   'CellType': ct,\n",
    "                                                   'Tissue': t,\n",
    "                                                   'Features': f,\n",
    "                                                   'Matthews': m} )), axis=0 ).reset_index(drop=True)\n",
    "matthewsDF"
   ]
  },
  {
   "cell_type": "code",
   "execution_count": null,
   "id": "6b3ea95e-269d-4216-9566-9fd3fb4d67e5",
   "metadata": {},
   "outputs": [],
   "source": [
    "cts, M, L = calcKSplitsMatthewsPerClass( mligPeaks[:,mligPeaks.var.PeakType!='Promoter'].X.A, \n",
    "                                         mligPeaks.obs.GroupFigure.values,\n",
    "                                         nSplit=nSplit, testRatio=testRatio, nProc=8 )\n",
    "print( 'Linear separability:' )\n",
    "print( list( zip( cts, L ) ) )\n",
    "\n",
    "sp = ['Mlig']*M.size\n",
    "ct = np.concatenate([[c]*nSplit for c in cts])\n",
    "t = ['']*M.size\n",
    "f = ['NonPromoters']*M.size\n",
    "m = np.concatenate([M[:,i] for i in range(cts.size)])\n",
    "\n",
    "matthewsDF = pd.concat( (matthewsDF,pd.DataFrame( {'Species': sp,\n",
    "                                                   'CellType': ct,\n",
    "                                                   'Tissue': t,\n",
    "                                                   'Features': f,\n",
    "                                                   'Matthews': m} )), axis=0 ).reset_index(drop=True)\n",
    "matthewsDF"
   ]
  },
  {
   "cell_type": "code",
   "execution_count": null,
   "id": "e4b9715d-7839-42df-afae-3da94f8dbb7d",
   "metadata": {},
   "outputs": [],
   "source": [
    "cts, M, L = calcKSplitsMatthewsPerClass( mligPeaks[:,mligPeaks.var.PeakType=='Distal Intergenic'].X.A, \n",
    "                                         mligPeaks.obs.GroupFigure.values,\n",
    "                                         nSplit=nSplit, testRatio=testRatio, nProc=8 )\n",
    "print( 'Linear separability:' )\n",
    "print( list( zip( cts, L ) ) )\n",
    "\n",
    "sp = ['Mlig']*M.size\n",
    "ct = np.concatenate([[c]*nSplit for c in cts])\n",
    "t = ['']*M.size\n",
    "f = ['Distal']*M.size\n",
    "m = np.concatenate([M[:,i] for i in range(cts.size)])\n",
    "\n",
    "matthewsDF = pd.concat( (matthewsDF,pd.DataFrame( {'Species': sp,\n",
    "                                                   'CellType': ct,\n",
    "                                                   'Tissue': t,\n",
    "                                                   'Features': f,\n",
    "                                                   'Matthews': m} )), axis=0 ).reset_index(drop=True)\n",
    "matthewsDF"
   ]
  },
  {
   "cell_type": "markdown",
   "id": "518ccb69-00a8-4459-9698-a6e6de6ca8aa",
   "metadata": {},
   "source": [
    "Same deal for Smed"
   ]
  },
  {
   "cell_type": "code",
   "execution_count": null,
   "id": "80d30527-6dc9-4b4a-a504-efec802c19e2",
   "metadata": {},
   "outputs": [],
   "source": [
    "cts, M, L = calcKSplitsMatthewsPerClass( smedPeaks.X.A, smedPeaks.obs.GroupFigure.values,\n",
    "                                         nSplit=nSplit, testRatio=testRatio, nProc=8 )\n",
    "print( 'Linear separability:' )\n",
    "print( list( zip( cts, L ) ) )\n",
    "\n",
    "sp = ['Smed']*M.size\n",
    "ct = np.concatenate([[c]*nSplit for c in cts])\n",
    "t = ['']*M.size\n",
    "f = ['Peaks']*M.size\n",
    "m = np.concatenate([M[:,i] for i in range(cts.size)])\n",
    "\n",
    "matthewsDF = pd.concat( (matthewsDF,pd.DataFrame( {'Species': sp,\n",
    "                                                   'CellType': ct,\n",
    "                                                   'Tissue': t,\n",
    "                                                   'Features': f,\n",
    "                                                   'Matthews': m} )), axis=0 ).reset_index(drop=True)\n",
    "matthewsDF"
   ]
  },
  {
   "cell_type": "code",
   "execution_count": null,
   "id": "db38c095-d5b1-4af0-a71e-3095df5be0c1",
   "metadata": {},
   "outputs": [],
   "source": [
    "cts, M, L = calcKSplitsMatthewsPerClass( smedPeaks[:,smedPeaks.var.PeakType=='Promoter'].X.A, \n",
    "                                         smedPeaks.obs.GroupFigure.values,\n",
    "                                         nSplit=nSplit, testRatio=testRatio, nProc=8 )\n",
    "print( 'Linear separability:' )\n",
    "print( list( zip( cts, L ) ) )\n",
    "\n",
    "sp = ['Smed']*M.size\n",
    "ct = np.concatenate([[c]*nSplit for c in cts])\n",
    "t = ['']*M.size\n",
    "f = ['Promoters']*M.size\n",
    "m = np.concatenate([M[:,i] for i in range(cts.size)])\n",
    "\n",
    "matthewsDF = pd.concat( (matthewsDF,pd.DataFrame( {'Species': sp,\n",
    "                                                   'CellType': ct,\n",
    "                                                   'Tissue': t,\n",
    "                                                   'Features': f,\n",
    "                                                   'Matthews': m} )), axis=0 ).reset_index(drop=True)\n",
    "matthewsDF"
   ]
  },
  {
   "cell_type": "code",
   "execution_count": null,
   "id": "55180712-8f62-45e8-bae1-7832e112065b",
   "metadata": {},
   "outputs": [],
   "source": [
    "cts, M, L = calcKSplitsMatthewsPerClass( smedPeaks[:,smedPeaks.var.PeakType!='Promoter'].X.A, \n",
    "                                         smedPeaks.obs.GroupFigure.values,\n",
    "                                         nSplit=nSplit, testRatio=testRatio, nProc=8 )\n",
    "print( 'Linear separability:' )\n",
    "print( list( zip( cts, L ) ) )\n",
    "\n",
    "sp = ['Smed']*M.size\n",
    "ct = np.concatenate([[c]*nSplit for c in cts])\n",
    "t = ['']*M.size\n",
    "f = ['NonPromoters']*M.size\n",
    "m = np.concatenate([M[:,i] for i in range(cts.size)])\n",
    "\n",
    "matthewsDF = pd.concat( (matthewsDF,pd.DataFrame( {'Species': sp,\n",
    "                                                   'CellType': ct,\n",
    "                                                   'Tissue': t,\n",
    "                                                   'Features': f,\n",
    "                                                   'Matthews': m} )), axis=0 ).reset_index(drop=True)\n",
    "matthewsDF"
   ]
  },
  {
   "cell_type": "code",
   "execution_count": null,
   "id": "6114eaa5-04a1-49cc-acd6-b05c31488eed",
   "metadata": {},
   "outputs": [],
   "source": [
    "cts, M, L = calcKSplitsMatthewsPerClass( smedPeaks[:,smedPeaks.var.PeakType=='Distal Intergenic'].X.A, \n",
    "                                         smedPeaks.obs.GroupFigure.values,\n",
    "                                         nSplit=nSplit, testRatio=testRatio, nProc=8 )\n",
    "print( 'Linear separability:' )\n",
    "print( list( zip( cts, L ) ) )\n",
    "\n",
    "sp = ['Smed']*M.size\n",
    "ct = np.concatenate([[c]*nSplit for c in cts])\n",
    "t = ['']*M.size\n",
    "f = ['Distal']*M.size\n",
    "m = np.concatenate([M[:,i] for i in range(cts.size)])\n",
    "\n",
    "matthewsDF = pd.concat( (matthewsDF,pd.DataFrame( {'Species': sp,\n",
    "                                                   'CellType': ct,\n",
    "                                                   'Tissue': t,\n",
    "                                                   'Features': f,\n",
    "                                                   'Matthews': m} )), axis=0 ).reset_index(drop=True)\n",
    "matthewsDF"
   ]
  },
  {
   "cell_type": "markdown",
   "id": "6183502d-a63e-4d12-8829-bdfea3b01c8b",
   "metadata": {},
   "source": [
    "Same deal for Sman"
   ]
  },
  {
   "cell_type": "code",
   "execution_count": null,
   "id": "1c5e33b2-2047-4d44-a4bd-a05b3326d273",
   "metadata": {},
   "outputs": [],
   "source": [
    "cts, M, L = calcKSplitsMatthewsPerClass( smanPeaks.X.A, smanPeaks.obs.GroupFigure.values,\n",
    "                                         nSplit=nSplit, testRatio=testRatio, nProc=8 )\n",
    "print( 'Linear separability:' )\n",
    "print( list( zip( cts, L ) ) )\n",
    "\n",
    "sp = ['Sman']*M.size\n",
    "ct = np.concatenate([[c]*nSplit for c in cts])\n",
    "t = ['']*M.size\n",
    "f = ['Peaks']*M.size\n",
    "m = np.concatenate([M[:,i] for i in range(cts.size)])\n",
    "\n",
    "matthewsDF = pd.concat( (matthewsDF,pd.DataFrame( {'Species': sp,\n",
    "                                                   'CellType': ct,\n",
    "                                                   'Tissue': t,\n",
    "                                                   'Features': f,\n",
    "                                                   'Matthews': m} )), axis=0 ).reset_index(drop=True)\n",
    "matthewsDF"
   ]
  },
  {
   "cell_type": "code",
   "execution_count": null,
   "id": "ccebaaf8-4391-4900-8d36-f4499e387584",
   "metadata": {},
   "outputs": [],
   "source": [
    "cts, M, L = calcKSplitsMatthewsPerClass( smanPeaks[:,smanPeaks.var.PeakType=='Promoter'].X.A, \n",
    "                                         smanPeaks.obs.GroupFigure.values,\n",
    "                                         nSplit=nSplit, testRatio=testRatio, nProc=8 )\n",
    "print( 'Linear separability:' )\n",
    "print( list( zip( cts, L ) ) )\n",
    "\n",
    "sp = ['Sman']*M.size\n",
    "ct = np.concatenate([[c]*nSplit for c in cts])\n",
    "t = ['']*M.size\n",
    "f = ['Promoters']*M.size\n",
    "m = np.concatenate([M[:,i] for i in range(cts.size)])\n",
    "\n",
    "matthewsDF = pd.concat( (matthewsDF,pd.DataFrame( {'Species': sp,\n",
    "                                                   'CellType': ct,\n",
    "                                                   'Tissue': t,\n",
    "                                                   'Features': f,\n",
    "                                                   'Matthews': m} )), axis=0 ).reset_index(drop=True)\n",
    "matthewsDF"
   ]
  },
  {
   "cell_type": "code",
   "execution_count": null,
   "id": "d77471ad-9d44-437b-ae3f-0e0477f8ee33",
   "metadata": {},
   "outputs": [],
   "source": [
    "cts, M, L = calcKSplitsMatthewsPerClass( smanPeaks[:,smanPeaks.var.PeakType!='Promoter'].X.A, \n",
    "                                         smanPeaks.obs.GroupFigure.values,\n",
    "                                         nSplit=nSplit, testRatio=testRatio, nProc=8 )\n",
    "print( 'Linear separability:' )\n",
    "print( list( zip( cts, L ) ) )\n",
    "\n",
    "sp = ['Sman']*M.size\n",
    "ct = np.concatenate([[c]*nSplit for c in cts])\n",
    "t = ['']*M.size\n",
    "f = ['NonPromoters']*M.size\n",
    "m = np.concatenate([M[:,i] for i in range(cts.size)])\n",
    "\n",
    "matthewsDF = pd.concat( (matthewsDF,pd.DataFrame( {'Species': sp,\n",
    "                                                   'CellType': ct,\n",
    "                                                   'Tissue': t,\n",
    "                                                   'Features': f,\n",
    "                                                   'Matthews': m} )), axis=0 ).reset_index(drop=True)\n",
    "matthewsDF"
   ]
  },
  {
   "cell_type": "code",
   "execution_count": null,
   "id": "5d47ce66-d89d-4174-8434-05d5b35e1944",
   "metadata": {},
   "outputs": [],
   "source": [
    "cts, M, L = calcKSplitsMatthewsPerClass( smanPeaks[:,smanPeaks.var.PeakType=='Distal Intergenic'].X.A, \n",
    "                                         smanPeaks.obs.GroupFigure.values,\n",
    "                                         nSplit=nSplit, testRatio=testRatio, nProc=8 )\n",
    "print( 'Linear separability:' )\n",
    "print( list( zip( cts, L ) ) )\n",
    "\n",
    "sp = ['Sman']*M.size\n",
    "ct = np.concatenate([[c]*nSplit for c in cts])\n",
    "t = ['']*M.size\n",
    "f = ['Distal']*M.size\n",
    "m = np.concatenate([M[:,i] for i in range(cts.size)])\n",
    "\n",
    "matthewsDF = pd.concat( (matthewsDF,pd.DataFrame( {'Species': sp,\n",
    "                                                   'CellType': ct,\n",
    "                                                   'Tissue': t,\n",
    "                                                   'Features': f,\n",
    "                                                   'Matthews': m} )), axis=0 ).reset_index(drop=True)\n",
    "matthewsDF"
   ]
  },
  {
   "cell_type": "code",
   "execution_count": null,
   "id": "561887c4-82dd-4dac-a1df-04425a74bb47",
   "metadata": {},
   "outputs": [],
   "source": [
    "# Plot it\n",
    "g = sns.catplot( data=matthewsDF, \n",
    "                 col='Species', x='Matthews', y='CellType', hue='Features', \n",
    "                 sharey=False, sharex=True, kind='point', aspect=0.4, height=10,  \n",
    "                 errorbar='sd', linestyle='none', dodge=False )\n",
    "g.axes[0,0].set_xlim(-0.1,1.1)\n",
    "g.axes[0,0].set_xticks([0,0.5,1])\n",
    "plt.savefig( 'Plots/EDFig4/PanelED4b.svg', format='svg' )\n",
    "plt.show()"
   ]
  },
  {
   "cell_type": "markdown",
   "id": "023c50d3",
   "metadata": {},
   "source": [
    "# Per-cluster sample composition"
   ]
  },
  {
   "cell_type": "code",
   "execution_count": null,
   "id": "1cb51174",
   "metadata": {},
   "outputs": [],
   "source": [
    "dfM = pd.read_csv( 'Metadata/Mlig.final_cluster_annots.csv', index_col=0 )\n",
    "dfM = dfM.loc[dfM.GroupFigure!='???-1',:]\n",
    "dfM = pd.crosstab( dfM.GroupFigure, dfM.Sample )\n",
    "dfM = dfM.div( dfM.sum(1), axis=0 )\n",
    "plotOrder = ['Cathepsin', 'Intestine-1', 'Intestine-2', 'GSC', 'Female Germline', 'Male Germline', 'Neoblast', 'Neural Progenitors', 'Neural-1', 'Neural-2', 'Neural-3',\n",
    "             'Neural-4', 'Neural-5', 'Muscle', 'Epidermal Progenitors', 'Epidermal-1', 'Epidermal-2', 'Parenchymal-1', 'Parenchymal-2', 'Parenchymal-3', 'Parenchymal-4',\n",
    "             'Parenchymal-5', 'Protonephridia', 'Anchor Cells']\n",
    "\n",
    "dfM = dfM.reindex(plotOrder).reset_index()\n",
    "ax = dfM.plot.barh(x='GroupFigure', stacked=True, figsize=(6,12)).legend(bbox_to_anchor=(1.0,1.0))\n",
    "plt.gca().invert_yaxis()\n",
    "plt.savefig('Plots/EDFig2/PanelED2b_Mlig.svg',format = 'svg')"
   ]
  },
  {
   "cell_type": "code",
   "execution_count": null,
   "id": "0eafe9f1",
   "metadata": {},
   "outputs": [],
   "source": [
    "dfP = pd.read_csv( 'Metadata/Smed.final_cluster_annots.csv', index_col=0 )\n",
    "dfP = pd.crosstab( dfP.GroupFigure, dfP.Sample )\n",
    "dfP = dfP.div( dfM.sum(1), axis=0 )\n",
    "plotOrder = ['Cathepsin', 'Intestine-1', 'Intestine-2', 'Ophis', 'GSC', 'GSC progeny/diff germline', 'Neoblast-1', 'Neoblast-2', 'Neural Progenitors', \n",
    "             'Neural-1', 'Neural-2', 'Neural-3', 'Muscle-1', 'Muscle-2', 'Muscle-3', 'Epidermal-1', 'Epidermal-2', 'Pharynx', 'Parenchymal', \n",
    "             'Protonephridia']\n",
    "\n",
    "dfP = dfP.reindex(plotOrder).reset_index()\n",
    "ax = dfP.plot.barh(x='GroupFigure', stacked=True, figsize=(6,12)).legend(bbox_to_anchor=(1.0,1.0))\n",
    "plt.gca().invert_yaxis()\n",
    "plt.savefig('Plots/EDFig2/PanelED2b_Smed.svg',format = 'svg')"
   ]
  },
  {
   "cell_type": "code",
   "execution_count": null,
   "id": "5af82e69",
   "metadata": {},
   "outputs": [],
   "source": [
    "dfS = pd.read_csv( 'Metadata/Sman.final_cluster_annots.csv', index_col=0 )\n",
    "dfS = pd.crosstab( dfS.GroupFigure, dfM.Sample )\n",
    "dfS = dfS.div( dfS.sum(1), axis=0 )\n",
    "plotOrder = ['Cathepsin', 'Intestine', 'S1', 'GSC', 'Neoblast', 'Neural Progenitors', 'Neural-1', 'Neural-2', 'Neural-3', 'Neural-4', \n",
    "             'Neural-5', 'Neural-6', 'Muscle Progenitors', 'Muscle-1', 'Muscle-2', 'Muscle-3', 'Tegument Progenitors', 'Tegument-1', \n",
    "             'Tegument-2', 'Vitellocytes', 'Esophageal Gland', 'Protonephridia']\n",
    "\n",
    "dfS = dfS.reindex(plotOrder).reset_index()\n",
    "ax = dfS.plot.barh(x='GroupFigure', stacked=True, figsize=(6,12)).legend(bbox_to_anchor=(1.0,1.0))\n",
    "plt.gca().invert_yaxis()\n",
    "plt.savefig('Plots/EDFig2/PanelED2b_Sman.svg',format = 'svg')"
   ]
  }
 ],
 "metadata": {
  "kernelspec": {
   "display_name": "Python 3 (ipykernel)",
   "language": "python",
   "name": "python3"
  },
  "language_info": {
   "codemirror_mode": {
    "name": "ipython",
    "version": 3
   },
   "file_extension": ".py",
   "mimetype": "text/x-python",
   "name": "python",
   "nbconvert_exporter": "python",
   "pygments_lexer": "ipython3",
   "version": "3.8.13"
  }
 },
 "nbformat": 4,
 "nbformat_minor": 5
}
