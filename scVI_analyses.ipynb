{
 "cells": [
  {
   "cell_type": "code",
   "execution_count": null,
   "id": "c11c059e-8809-47c1-8c27-cc606cfdd8f5",
   "metadata": {},
   "outputs": [],
   "source": [
    "import pandas as pd\n",
    "import scvi\n",
    "import gc\n",
    "import scanpy as sc\n",
    "import torch\n",
    "import numpy as np\n",
    "import seaborn as sns\n",
    "import matplotlib.pyplot as plt"
   ]
  },
  {
   "cell_type": "code",
   "execution_count": null,
   "id": "3a59cdc9-f0bf-4c63-90c1-94b0653ba208",
   "metadata": {},
   "outputs": [],
   "source": [
    "sc.set_figure_params(figsize=(4, 4), frameon=False)\n",
    "torch.set_float32_matmul_precision(\"high\")\n",
    "scvi.settings.seed = 0"
   ]
  },
  {
   "cell_type": "code",
   "execution_count": null,
   "id": "778d47ad-990d-4916-b7ac-74c56b8213ec",
   "metadata": {},
   "outputs": [],
   "source": [
    "# Fraction of marker peaks to plot\n",
    "topFrac = 0.05"
   ]
  },
  {
   "cell_type": "markdown",
   "id": "fafe1d53-b1d6-40be-abf6-6bfaa05858d9",
   "metadata": {},
   "source": [
    "# *M. lignano*"
   ]
  },
  {
   "cell_type": "code",
   "execution_count": null,
   "id": "ed7210ea-8536-4722-8ff3-ee8f6db62bd6",
   "metadata": {},
   "outputs": [],
   "source": [
    "peaks = scvi.data.read_h5ad( 'ArchROutputs/Mlig/Mlig.peaks.h5ad' )\n",
    "\n",
    "peaks"
   ]
  },
  {
   "cell_type": "code",
   "execution_count": null,
   "id": "167b32c5-17e6-4df4-a269-5c48e32246d9",
   "metadata": {},
   "outputs": [],
   "source": [
    "peaks.obs['Injury'] = 'cut'\n",
    "peaks.obs.loc[peaks.obs.Sample=='uncut','Injury'] = 'uncut'"
   ]
  },
  {
   "cell_type": "code",
   "execution_count": null,
   "id": "7f95a419-2718-4588-97a1-b13363548a8a",
   "metadata": {},
   "outputs": [],
   "source": [
    "peakdf = pd.read_csv( 'ArchROutputs/Mlig/Mlig.peaks.csv', index_col=0 )\n",
    "\n",
    "peakdf.index = peakdf['seqnames'] + ':' + peakdf['start'].astype(str) + '-' + peakdf['end'].astype(str)\n",
    "peakdf.head()"
   ]
  },
  {
   "cell_type": "code",
   "execution_count": null,
   "id": "fd9496ea-ca19-473c-b8f3-0e81b9869d09",
   "metadata": {},
   "outputs": [],
   "source": [
    "peaks.var = peakdf\n",
    "\n",
    "del peakdf\n",
    "gc.collect()"
   ]
  },
  {
   "cell_type": "code",
   "execution_count": null,
   "id": "977365e2-fcac-4e85-a55d-db8bc72cc8cb",
   "metadata": {},
   "outputs": [],
   "source": [
    "peaks.X = peaks.X.tocsr()\n",
    "\n",
    "print(np.max(peaks.X))\n",
    "print(np.min(peaks.X))"
   ]
  },
  {
   "cell_type": "code",
   "execution_count": null,
   "id": "6702fa3c-e687-4c96-9487-f223334286a9",
   "metadata": {},
   "outputs": [],
   "source": [
    "scvi.model.PEAKVI.setup_anndata( peaks, batch_key='Injury' )"
   ]
  },
  {
   "cell_type": "code",
   "execution_count": null,
   "id": "4e8d4596-ddd3-4b81-ba2d-dd01586fd3be",
   "metadata": {},
   "outputs": [],
   "source": [
    "pvi = scvi.model.PEAKVI(peaks)\n",
    "pvi.train()\n",
    "\n",
    "pvi.save( \"scVI_models/MligPeakVI\", overwrite=True )"
   ]
  },
  {
   "cell_type": "code",
   "execution_count": null,
   "id": "ac557413-3103-4719-b894-88f283d45896",
   "metadata": {},
   "outputs": [],
   "source": [
    "pvi = scvi.model.PEAKVI.load( \"scVI_models/MligPeakVI\", peaks )"
   ]
  },
  {
   "cell_type": "code",
   "execution_count": null,
   "id": "3125d6d7-ad8b-400b-84b8-1fdbd09b0261",
   "metadata": {},
   "outputs": [],
   "source": [
    "library_size_factor = pvi.get_library_size_factors()\n",
    "sns.histplot(library_size_factor)\n",
    "plt.show()"
   ]
  },
  {
   "cell_type": "code",
   "execution_count": null,
   "id": "0947d7c1-685c-4e60-aacd-f22f97ffe2b7",
   "metadata": {},
   "outputs": [],
   "source": [
    "region_factor = pvi.get_region_factors()\n",
    "\n",
    "sns.histplot(region_factor)\n",
    "plt.show()"
   ]
  },
  {
   "cell_type": "code",
   "execution_count": null,
   "id": "88773794-763f-4d52-9eab-c4cb84c0f265",
   "metadata": {},
   "outputs": [],
   "source": [
    "latent = pvi.get_latent_representation()\n",
    "peaks.obsm[\"X_PeakVI\"] = latent\n",
    "\n",
    "print(latent.shape)"
   ]
  },
  {
   "cell_type": "code",
   "execution_count": null,
   "id": "e48b890a-2d8a-4302-903b-e1e8a06722d8",
   "metadata": {},
   "outputs": [],
   "source": [
    "pd.DataFrame( index=peaks.obs_names, \n",
    "              columns=['X'+str(i) for i in range(latent.shape[1])],\n",
    "              data=latent, ).to_csv( 'scVI_models/Mlig.pvi_latent_dims.csv' )"
   ]
  },
  {
   "cell_type": "markdown",
   "id": "aa6fa27d-7563-48e2-92c0-fed3b54b7a47",
   "metadata": {},
   "source": [
    "## Marker peak identification"
   ]
  },
  {
   "cell_type": "code",
   "execution_count": null,
   "id": "4e382712-ae7d-4259-b2fd-906c67d92821",
   "metadata": {},
   "outputs": [],
   "source": [
    "# Get all cluster labels\n",
    "uLabels = np.sort(peaks.obs.GroupFigure.unique())\n",
    "# Ignore this one small population that we can't identify\n",
    "uLabels = uLabels[~np.isin(uLabels,['???-1'])]\n",
    "\n",
    "# Get cluster labels per nucleus\n",
    "labels = np.array(peaks.obs.GroupFigure.values)\n",
    "daTot = pd.DataFrame()\n",
    "\n",
    "scvi.settings.seed = 0\n",
    "# For each cluster ...\n",
    "for i, l in tqdm(enumerate(uLabels)):\n",
    "    print( 'Computing DA for {0}'.format(l) )\n",
    "    indTarg = (labels==l)\n",
    "    da = pvi.differential_accessibility( idx1=indTarg, idx2=~indTarg )\n",
    "    da['GroupFigure'] = l\n",
    "    da = da.set_index( 'GroupFigure', append=True )\n",
    "    print( '{0} putatively DA peaks identified'.format(da.is_da_fdr.sum()) )\n",
    "    daTot = pd.concat( (daTot,da), axis=0 )\n",
    "    \n",
    "daTot.to_csv( 'scVI_models/Mlig.peakvi_marker_peaks.csv.gz', compression='gzip' )"
   ]
  },
  {
   "cell_type": "code",
   "execution_count": null,
   "id": "4570355c-e174-45fb-9122-8a60efcbcf0e",
   "metadata": {},
   "outputs": [],
   "source": [
    "# Get top most specific markers based on effect_size\n",
    "markers = daTot[daTot.is_da_fdr]\n",
    "toplot = []\n",
    "for key, grp in markers.groupby('GroupFigure'):\n",
    "    nTop = int(len(grp.index)*topFrac)\n",
    "    toplot.extend( grp.sort_values('effect_size').index[:nTop] )\n",
    "    \n",
    "toplot = np.unique( toplot )\n",
    "toplot = peaks.var_names[peaks.var_names.isin(toplot)]\n",
    "toplot.size"
   ]
  },
  {
   "cell_type": "code",
   "execution_count": null,
   "id": "51750ee6-1579-4727-9f59-dc218edd3e48",
   "metadata": {},
   "outputs": [],
   "source": [
    "# Average accessibility over each cluster\n",
    "labels = np.array(peaks.obs.GroupFigure.values)\n",
    "ctMeans = np.zeros((len(uLabels),peaks.n_vars))\n",
    "\n",
    "for i, l in tqdm(enumerate(uLabels)):\n",
    "    ctMeans[i,:] = peaks.X[labels==l,:].A.mean(0)"
   ]
  },
  {
   "cell_type": "code",
   "execution_count": null,
   "id": "b341c6b6-79de-4cc8-b11a-3e0edadd4dd3",
   "metadata": {},
   "outputs": [],
   "source": [
    "# Do an initial clustering to make it look nice\n",
    "g = sns.clustermap( ctMeans[:,peaks.var_names.isin(toplot)], \n",
    "                    cmap='Reds', standard_scale=1, row_cluster=False )\n",
    "g.ax_heatmap.set_yticklabels(uLabels, rotation=0)\n",
    "plt.show()\n",
    "\n",
    "# Sort them so it looks vaguely block diagonal\n",
    "argMs = np.argmax( ctMeans, axis=0 )\n",
    "argMs = argMs[peaks.var_names.isin(toplot)]\n",
    "srtInd = np.array(g.dendrogram_col.reordered_ind)\n",
    "argMs = argMs[srtInd]\n",
    "srtInd = np.concatenate([srtInd[argMs==i] for i in range(uLabels.size)])"
   ]
  },
  {
   "cell_type": "code",
   "execution_count": null,
   "id": "ac0db765-3e42-4038-8aba-6bc846bab193",
   "metadata": {},
   "outputs": [],
   "source": [
    "g = sns.clustermap( ctMeans[:,peaks.var_names.isin(toplot)][:,srtInd],\n",
    "                    cmap='Reds', standard_scale=1, row_cluster=False, col_cluster=False )\n",
    "g.ax_heatmap.set_yticklabels(uLabels,rotation=0)\n",
    "plt.savefig('Plots/FigS2/PanelS2a_Mlig.pdf',format='pdf')\n",
    "plt.show()"
   ]
  },
  {
   "cell_type": "code",
   "execution_count": null,
   "id": "50dac5e9-7b2e-4bf5-a75c-91014adff5ee",
   "metadata": {},
   "outputs": [],
   "source": [
    "del daTot\n",
    "del da\n",
    "del labels\n",
    "del uLabels\n",
    "del ctMeans\n",
    "\n",
    "gc.collect()"
   ]
  },
  {
   "cell_type": "markdown",
   "id": "d05b0ded-f3e3-4d7e-9fb6-7e776002b596",
   "metadata": {},
   "source": [
    "## Neural only"
   ]
  },
  {
   "cell_type": "code",
   "execution_count": null,
   "id": "52f7a7e9-ebe5-4eaa-bb56-5aba665a2e52",
   "metadata": {},
   "outputs": [],
   "source": [
    "neuro = peaks[peaks.obs.GroupFigure.str.startswith('Neural'),:].copy()"
   ]
  },
  {
   "cell_type": "code",
   "execution_count": null,
   "id": "ff2e1ee7-4ec2-4706-a3a4-5d9a80368c2a",
   "metadata": {},
   "outputs": [],
   "source": [
    "# tidy up the rest of the data\n",
    "del latent\n",
    "del pvi\n",
    "\n",
    "gc.collect()"
   ]
  },
  {
   "cell_type": "code",
   "execution_count": null,
   "id": "f121eff9-ad37-4c3b-928f-c16ada314dcd",
   "metadata": {},
   "outputs": [],
   "source": [
    "# filter to be accessible in at least 30 cells (comes out to ~0.5% of all cells)\n",
    "sc.pp.filter_genes( neuro, min_cells=30 )\n",
    "\n",
    "neuro"
   ]
  },
  {
   "cell_type": "code",
   "execution_count": null,
   "id": "e4a38e0a-0317-4824-9b49-07f36622a02d",
   "metadata": {},
   "outputs": [],
   "source": [
    "scvi.model.PEAKVI.setup_anndata( neuro )"
   ]
  },
  {
   "cell_type": "code",
   "execution_count": null,
   "id": "5a07be2c-5f0e-466e-856b-acb58505b791",
   "metadata": {},
   "outputs": [],
   "source": [
    "pvi = scvi.model.PEAKVI( neuro )\n",
    "pvi.train()"
   ]
  },
  {
   "cell_type": "code",
   "execution_count": null,
   "id": "5de67840-999e-433b-a040-90b3b491b876",
   "metadata": {},
   "outputs": [],
   "source": [
    "pvi.save( 'scVI_models/MligPeakVINeural/', overwrite=True )"
   ]
  },
  {
   "cell_type": "code",
   "execution_count": null,
   "id": "d9ce5813-02c8-429e-83ab-67421dce3313",
   "metadata": {},
   "outputs": [],
   "source": [
    "pvi = scvi.model.PEAKVI.load( 'scVI_models/MligPeakVINeural/', adata=neuro )"
   ]
  },
  {
   "cell_type": "code",
   "execution_count": null,
   "id": "abeec9a7-0b2c-4cf2-80bf-31199e178cc8",
   "metadata": {},
   "outputs": [],
   "source": [
    "library_size_factor = pvi.get_library_size_factors()\n",
    "sns.histplot(library_size_factor)\n",
    "plt.show()"
   ]
  },
  {
   "cell_type": "code",
   "execution_count": null,
   "id": "8b3fe053-aa36-4e6f-820b-cc1955b64805",
   "metadata": {},
   "outputs": [],
   "source": [
    "region_factor = pvi.get_region_factors()\n",
    "sns.histplot(region_factor)\n",
    "plt.show()"
   ]
  },
  {
   "cell_type": "code",
   "execution_count": null,
   "id": "1d311988-436f-4318-9f3c-a35b8a01f5ad",
   "metadata": {},
   "outputs": [],
   "source": [
    "latent = pvi.get_latent_representation()\n",
    "neuro.obsm[\"X_PeakVI\"] = latent\n",
    "\n",
    "print(latent.shape)"
   ]
  },
  {
   "cell_type": "code",
   "execution_count": null,
   "id": "8fe50be3-97b3-4030-88dc-8c8793f0c511",
   "metadata": {},
   "outputs": [],
   "source": [
    "pd.DataFrame( index=neuro.obs_names, data=latent )\\\n",
    "    .to_csv( 'scVI_models/Mlig.pvi_neural_latent_dims.csv' )"
   ]
  },
  {
   "cell_type": "code",
   "execution_count": null,
   "id": "354e957a-d0d8-4174-9813-fe7d87707021",
   "metadata": {},
   "outputs": [],
   "source": [
    "del latent\n",
    "del neuro\n",
    "del pvi\n",
    "\n",
    "gc.collect()"
   ]
  },
  {
   "cell_type": "markdown",
   "id": "1ce1a602",
   "metadata": {},
   "source": [
    "## Muscle only"
   ]
  },
  {
   "cell_type": "code",
   "execution_count": null,
   "id": "721a9287",
   "metadata": {},
   "outputs": [],
   "source": [
    "muscle = peaks[peaks.obs.GroupFigure.str.startswith('Muscle'),:].copy()"
   ]
  },
  {
   "cell_type": "code",
   "execution_count": null,
   "id": "bac320e8",
   "metadata": {},
   "outputs": [],
   "source": [
    "# tidy up the rest of the data\n",
    "del latent\n",
    "del peaks\n",
    "del pvi\n",
    "\n",
    "gc.collect()"
   ]
  },
  {
   "cell_type": "code",
   "execution_count": null,
   "id": "88fa44bd",
   "metadata": {},
   "outputs": [],
   "source": [
    "# filter to be accessible in at least 30 cells (comes out to ~0.5% of all cells)\n",
    "sc.pp.filter_genes( muscle, min_cells=30 )\n",
    "\n",
    "neuro"
   ]
  },
  {
   "cell_type": "code",
   "execution_count": null,
   "id": "240ebf14",
   "metadata": {},
   "outputs": [],
   "source": [
    "scvi.model.PEAKVI.setup_anndata( muscle )"
   ]
  },
  {
   "cell_type": "code",
   "execution_count": null,
   "id": "2144065e",
   "metadata": {},
   "outputs": [],
   "source": [
    "pvi = scvi.model.PEAKVI( muscle )\n",
    "pvi.train()"
   ]
  },
  {
   "cell_type": "code",
   "execution_count": null,
   "id": "c63c29f6",
   "metadata": {},
   "outputs": [],
   "source": [
    "pvi.save( 'scVI_models/MligPeakVIMuscle/', overwrite=True )"
   ]
  },
  {
   "cell_type": "code",
   "execution_count": null,
   "id": "47e467e8",
   "metadata": {},
   "outputs": [],
   "source": [
    "pvi = scvi.model.PEAKVI.load( 'scVI_models/MligPeakVIMuscle/', adata=muscle )"
   ]
  },
  {
   "cell_type": "code",
   "execution_count": null,
   "id": "299b5514",
   "metadata": {},
   "outputs": [],
   "source": [
    "library_size_factor = pvi.get_library_size_factors()\n",
    "sns.histplot(library_size_factor)\n",
    "plt.show()"
   ]
  },
  {
   "cell_type": "code",
   "execution_count": null,
   "id": "ecd5fb96",
   "metadata": {},
   "outputs": [],
   "source": [
    "region_factor = pvi.get_region_factors()\n",
    "sns.histplot(region_factor)\n",
    "plt.show()"
   ]
  },
  {
   "cell_type": "code",
   "execution_count": null,
   "id": "92a81a41",
   "metadata": {},
   "outputs": [],
   "source": [
    "latent = pvi.get_latent_representation()\n",
    "muscle.obsm[\"X_PeakVI\"] = latent\n",
    "\n",
    "print(latent.shape)"
   ]
  },
  {
   "cell_type": "code",
   "execution_count": null,
   "id": "b8c566ad",
   "metadata": {},
   "outputs": [],
   "source": [
    "pd.DataFrame( index=muscle.obs_names, data=latent )\\\n",
    "    .to_csv( 'scVI_models/Mlig.peakvi_muscle_latent_dims.csv' )"
   ]
  },
  {
   "cell_type": "code",
   "execution_count": null,
   "id": "1cc5e76e",
   "metadata": {},
   "outputs": [],
   "source": [
    "del latent\n",
    "del muscle\n",
    "del pvi\n",
    "\n",
    "gc.collect()"
   ]
  },
  {
   "cell_type": "markdown",
   "id": "461740bd-22bd-4cd2-ad80-43131b0c25bc",
   "metadata": {},
   "source": [
    "# *S. mediterranea*"
   ]
  },
  {
   "cell_type": "code",
   "execution_count": null,
   "id": "c69b3640-15ba-496b-b80c-6d0b1de79376",
   "metadata": {},
   "outputs": [],
   "source": [
    "rna = scvi.data.read_h5ad( 'GEXCounts/Smed/Smed.raw_RNA_counts.h5ad' )\n",
    "rna.X = rna.X.tocsr()\n",
    "\n",
    "rna"
   ]
  },
  {
   "cell_type": "code",
   "execution_count": null,
   "id": "35d13925-8794-46a7-8ad4-134ff9cc3552",
   "metadata": {},
   "outputs": [],
   "source": [
    "sc.pp.filter_genes( rna, min_cells=10 )\n",
    "\n",
    "rna"
   ]
  },
  {
   "cell_type": "code",
   "execution_count": null,
   "id": "cb9ac520-b847-4670-941c-8c8ae63b900b",
   "metadata": {},
   "outputs": [],
   "source": [
    "scvi.model.SCVI.setup_anndata( rna, batch_key='Sample' )"
   ]
  },
  {
   "cell_type": "code",
   "execution_count": null,
   "id": "0b5aca3b-b5f8-49f4-ace8-f90f33ef5e6e",
   "metadata": {},
   "outputs": [],
   "source": [
    "svi = scvi.model.SCVI( rna, n_latent=20 )\n",
    "svi.train( check_val_every_n_epoch=1 )"
   ]
  },
  {
   "cell_type": "code",
   "execution_count": null,
   "id": "28f9b42a-d343-4197-99c6-cbd9f7de18c1",
   "metadata": {},
   "outputs": [],
   "source": [
    "plt.plot( svi.history['reconstruction_loss_validation'].values )\n",
    "plt.show()\n",
    "plt.plot( svi.history['elbo_validation'].values )\n",
    "plt.show()"
   ]
  },
  {
   "cell_type": "code",
   "execution_count": null,
   "id": "2a5c3294-ecd9-44a8-9f7d-21a6adb9053e",
   "metadata": {},
   "outputs": [],
   "source": [
    "svi.save( 'scVI_models/SmedSCVI', overwrite=True )"
   ]
  },
  {
   "cell_type": "code",
   "execution_count": null,
   "id": "743a6f95-827e-483a-b9d8-6f1349005e87",
   "metadata": {},
   "outputs": [],
   "source": [
    "svi = scvi.model.SCVI.load( 'scVI_models/SmedSCVI/', adata=rna )"
   ]
  },
  {
   "cell_type": "code",
   "execution_count": null,
   "id": "37e1e6c7-adbb-4476-8693-d9ad9f61ac56",
   "metadata": {},
   "outputs": [],
   "source": [
    "latent = svi.get_latent_representation()\n",
    "rna.obsm[\"X_PeakVI\"] = latent\n",
    "\n",
    "print(latent.shape)"
   ]
  },
  {
   "cell_type": "code",
   "execution_count": null,
   "id": "cb388545-1760-42f3-8382-699b1a56759b",
   "metadata": {},
   "outputs": [],
   "source": [
    "pd.DataFrame( index=rna.obs_names, \n",
    "              columns=['X'+str(i) for i in range(latent.shape[1])],\n",
    "              data=latent, ).to_csv( 'scVI_models/Smed.scvi_latent_dims.csv' )"
   ]
  },
  {
   "cell_type": "markdown",
   "id": "e252574a-da3e-47e3-81b9-b7e02ff3db52",
   "metadata": {},
   "source": [
    "## Marker peak identification"
   ]
  },
  {
   "cell_type": "markdown",
   "id": "86428b4c-5c02-49d3-a15b-98b7af049575",
   "metadata": {},
   "source": [
    "Only used PeakVI here for marker peak identification since we were getting much nicer embeddings with scVI than with PeakVI"
   ]
  },
  {
   "cell_type": "code",
   "execution_count": null,
   "id": "18a67f72-fa45-4526-bc20-fc4c06be178f",
   "metadata": {},
   "outputs": [],
   "source": [
    "peaks = scvi.data.read_h5ad( 'ArchROutputs/Smed/Smed.peaks.h5ad' )\n",
    "\n",
    "peaks"
   ]
  },
  {
   "cell_type": "code",
   "execution_count": null,
   "id": "b03f748f-b73f-43a8-8a9c-3e76a752c4e6",
   "metadata": {},
   "outputs": [],
   "source": [
    "peakdf = pd.read_csv( 'ArchROutputs/Smed/Smed.peaks.csv', index_col=0 )\n",
    "\n",
    "peakdf.index = peakdf['seqnames'] + ':' + peakdf['start'].astype(str) + '-' + peakdf['end'].astype(str)\n",
    "peakdf.head()"
   ]
  },
  {
   "cell_type": "code",
   "execution_count": null,
   "id": "64fb1bf5-02af-4b3b-81bf-fb9c736f71b0",
   "metadata": {},
   "outputs": [],
   "source": [
    "peaks.var = peakdf"
   ]
  },
  {
   "cell_type": "code",
   "execution_count": null,
   "id": "0af9f6d9-dd2a-4542-916b-431f2e0ab3b9",
   "metadata": {},
   "outputs": [],
   "source": [
    "peaks.X = peaks.X.tocsr()\n",
    "\n",
    "print(np.max(peaks.X))\n",
    "print(np.min(peaks.X))"
   ]
  },
  {
   "cell_type": "code",
   "execution_count": null,
   "id": "49028d9f-7f36-4f05-91fe-6e113d11786c",
   "metadata": {},
   "outputs": [],
   "source": [
    "scvi.model.PEAKVI.setup_anndata(peaks,batch_key='Sample')"
   ]
  },
  {
   "cell_type": "code",
   "execution_count": null,
   "id": "378f0857-4a52-4c54-b9f5-c510e3c93815",
   "metadata": {},
   "outputs": [],
   "source": [
    "pvi = scvi.model.PEAKVI(peaks)\n",
    "pvi.train()\n",
    "\n",
    "pvi.save(\"scVI_models/SmedPeakVI\", overwrite=True)"
   ]
  },
  {
   "cell_type": "code",
   "execution_count": null,
   "id": "6cdf6aa6-e5d9-4434-9718-1963e267a514",
   "metadata": {},
   "outputs": [],
   "source": [
    "pvi = scvi.model.PEAKVI.load(\"scVI_models/SmedPeakVI\", peaks)"
   ]
  },
  {
   "cell_type": "code",
   "execution_count": null,
   "id": "f0cdf708-246f-420c-930b-e8d34804de4a",
   "metadata": {},
   "outputs": [],
   "source": [
    "# Same deal as before\n",
    "uLabels = np.sort(peaks.obs.GroupFigure.unique())\n",
    "\n",
    "labels = np.array(peaks.obs.GroupFigure.values)\n",
    "daTot = pd.DataFrame()\n",
    "\n",
    "scvi.settings.seed = 0\n",
    "for i, l in tqdm(enumerate(uLabels)):\n",
    "    \n",
    "    print( 'Computing DA for {0}'.format(l) )\n",
    "    indTarg = (labels==l)\n",
    "    da = pvi.differential_accessibility( idx1=indTarg, idx2=~indTarg )\n",
    "    da['GroupFigure'] = l\n",
    "    da = da.set_index( 'GroupFigure', append=True )\n",
    "    print( '{0} putative DA peaks detected'.format(da.is_da_fdr.sum()) )\n",
    "    daTot = pd.concat( (daTot,da), axis=0 )\n",
    "    \n",
    "daTot.to_csv( 'scVI_models/Smed.peakvi_marker_peaks.csv.gz', compression='gzip' )"
   ]
  },
  {
   "cell_type": "code",
   "execution_count": null,
   "id": "d43c7857-952a-4348-b24d-bfaa8c8d11fc",
   "metadata": {},
   "outputs": [],
   "source": [
    "# Get top most specific markers based on effect_size\n",
    "markers = daTot[daTot.is_da_fdr]\n",
    "toplot = []\n",
    "for key, grp in markers.groupby('GroupFigure'):\n",
    "    nTop = int(len(grp.index)*topFrac)\n",
    "    toplot.extend( grp.sort_values('effect_size').index[:nTop] )\n",
    "    \n",
    "toplot = np.unique( toplot )\n",
    "toplot = peaks.var_names[peaks.var_names.isin(toplot)]\n",
    "toplot.size"
   ]
  },
  {
   "cell_type": "code",
   "execution_count": null,
   "id": "cd1a09c6-1f8e-4e0c-9a01-df554c9dca28",
   "metadata": {},
   "outputs": [],
   "source": [
    "# Average accessibility over each cluster\n",
    "labels = np.array(peaks.obs.GroupFigure.values)\n",
    "ctMeans = np.zeros((len(uLabels),peaks.n_vars))\n",
    "\n",
    "for i, l in tqdm(enumerate(uLabels)):\n",
    "    ctMeans[i,:] = peaks.X[labels==l,:].A.mean(0)"
   ]
  },
  {
   "cell_type": "code",
   "execution_count": null,
   "id": "a9b7e7ce-9094-41aa-99e7-20c6a5a81764",
   "metadata": {},
   "outputs": [],
   "source": [
    "# Do an initial clustering to make it look nice\n",
    "g = sns.clustermap( ctMeans[:,peaks.var_names.isin(toplot)], \n",
    "                    cmap='Reds', standard_scale=1, row_cluster=False )\n",
    "g.ax_heatmap.set_yticklabels(uLabels, rotation=0)\n",
    "plt.show()\n",
    "\n",
    "# Sort them so it looks vaguely block diagonal\n",
    "argMs = np.argmax( ctMeans, axis=0 )\n",
    "argMs = argMs[peaks.var_names.isin(toplot)]\n",
    "srtInd = np.array(g.dendrogram_col.reordered_ind)\n",
    "argMs = argMs[srtInd]\n",
    "srtInd = np.concatenate([srtInd[argMs==i] for i in range(uLabels.size)])"
   ]
  },
  {
   "cell_type": "code",
   "execution_count": null,
   "id": "73b67d8c-1203-4c66-8f46-a64b64139bd4",
   "metadata": {},
   "outputs": [],
   "source": [
    "g = sns.clustermap( ctMeans[:,peaks.var_names.isin(toplot)][:,srtInd],\n",
    "                    cmap='Reds', standard_scale=1, row_cluster=False, col_cluster=False )\n",
    "g.ax_heatmap.set_yticklabels(uLabels,rotation=0)\n",
    "plt.savefig('Plots/FigS2/PanelS2a_Smed.pdf',format='pdf')\n",
    "plt.show()"
   ]
  },
  {
   "cell_type": "code",
   "execution_count": null,
   "id": "a25a692c-0584-464c-a0bf-c93c3a96458d",
   "metadata": {},
   "outputs": [],
   "source": [
    "del peaks\n",
    "del pvi\n",
    "del daTot\n",
    "del da\n",
    "del labels\n",
    "del uLabels\n",
    "del ctMeans\n",
    "\n",
    "gc.collect()"
   ]
  },
  {
   "cell_type": "markdown",
   "id": "fe8e020c-7021-4336-b34b-a7764fa7b6f0",
   "metadata": {},
   "source": [
    "## Neural only"
   ]
  },
  {
   "cell_type": "code",
   "execution_count": null,
   "id": "d34baa0a-8260-455f-a0bb-a9d7d5595e45",
   "metadata": {},
   "outputs": [],
   "source": [
    "neuro = rna[rna.obs.GroupFigure.str.startswith('Neural'),:].copy()"
   ]
  },
  {
   "cell_type": "code",
   "execution_count": null,
   "id": "816b0b92-2d83-4b34-92d7-850675c0e7f2",
   "metadata": {},
   "outputs": [],
   "source": [
    "# tidy up the rest of the data\n",
    "del latent\n",
    "del svi\n",
    "\n",
    "gc.collect()"
   ]
  },
  {
   "cell_type": "code",
   "execution_count": null,
   "id": "6d607521-4029-40a1-9a86-ca593373a41e",
   "metadata": {},
   "outputs": [],
   "source": [
    "sc.pp.filter_genes( neuro, min_cells=10 )\n",
    "\n",
    "neuro"
   ]
  },
  {
   "cell_type": "code",
   "execution_count": null,
   "id": "14e66312-c68f-4b4d-859a-9779a9aac863",
   "metadata": {},
   "outputs": [],
   "source": [
    "scvi.model.SCVI.setup_anndata( neuro, batch_key='Sample' )"
   ]
  },
  {
   "cell_type": "code",
   "execution_count": null,
   "id": "0901a50b-169e-488f-a18b-65ea90dee187",
   "metadata": {},
   "outputs": [],
   "source": [
    "svi = scvi.model.SCVI( neuro, n_latent=20 )\n",
    "svi.train( check_val_every_n_epoch=1 )"
   ]
  },
  {
   "cell_type": "code",
   "execution_count": null,
   "id": "71cd87ac-2159-4edd-9f87-a4e44c75c1af",
   "metadata": {},
   "outputs": [],
   "source": [
    "plt.plot( svi.history['reconstruction_loss_validation'].values )\n",
    "plt.show()\n",
    "plt.plot( svi.history['elbo_validation'].values )\n",
    "plt.show()"
   ]
  },
  {
   "cell_type": "code",
   "execution_count": null,
   "id": "607d73ce-8cdb-4348-bd4f-b8aacca3f0c6",
   "metadata": {},
   "outputs": [],
   "source": [
    "svi.save( 'scVI_models/SmedSCVINeural', overwrite=True )"
   ]
  },
  {
   "cell_type": "code",
   "execution_count": null,
   "id": "26ead643-9e49-4c17-9ece-9a4829ab70e4",
   "metadata": {},
   "outputs": [],
   "source": [
    "svi = scvi.model.SCVI.load( 'scVI_models/SmedSCVINeural/', adata=neuro )"
   ]
  },
  {
   "cell_type": "code",
   "execution_count": null,
   "id": "ec032470-93e8-4b13-b2e1-de588076bcb6",
   "metadata": {},
   "outputs": [],
   "source": [
    "latent = svi.get_latent_representation()\n",
    "neuro.obsm[\"X_PeakVI\"] = latent\n",
    "\n",
    "print(latent.shape)"
   ]
  },
  {
   "cell_type": "code",
   "execution_count": null,
   "id": "b25e47a2-06b5-41fb-bf14-4386e6f58ba6",
   "metadata": {},
   "outputs": [],
   "source": [
    "pd.DataFrame( index=neuro.obs_names, data=latent )\\\n",
    "    .to_csv( 'scVI_models/Smed.scvi_neural_latent_dims.csv' )"
   ]
  },
  {
   "cell_type": "code",
   "execution_count": null,
   "id": "6fa6b086-b140-4b49-8c08-fd5fd06b1176",
   "metadata": {},
   "outputs": [],
   "source": [
    "del latent\n",
    "del neuro\n",
    "del svi\n",
    "\n",
    "gc.collect()"
   ]
  },
  {
   "cell_type": "markdown",
   "id": "9084c085",
   "metadata": {},
   "source": [
    "## Muscle only"
   ]
  },
  {
   "cell_type": "code",
   "execution_count": null,
   "id": "553c54d1",
   "metadata": {},
   "outputs": [],
   "source": [
    "muscle = rna[rna.obs.GroupFigure.str.startswith('Muscle'),:].copy()"
   ]
  },
  {
   "cell_type": "code",
   "execution_count": null,
   "id": "4275ff55",
   "metadata": {},
   "outputs": [],
   "source": [
    "# tidy up the rest of the data\n",
    "del latent\n",
    "del rna\n",
    "del svi\n",
    "\n",
    "gc.collect()"
   ]
  },
  {
   "cell_type": "code",
   "execution_count": null,
   "id": "c385b61a",
   "metadata": {},
   "outputs": [],
   "source": [
    "sc.pp.filter_genes( muscle, min_cells=10 )\n",
    "\n",
    "muscle"
   ]
  },
  {
   "cell_type": "code",
   "execution_count": null,
   "id": "60408813",
   "metadata": {},
   "outputs": [],
   "source": [
    "scvi.model.SCVI.setup_anndata( muscle, batch_key='Sample' )"
   ]
  },
  {
   "cell_type": "code",
   "execution_count": null,
   "id": "c96a9ef7",
   "metadata": {},
   "outputs": [],
   "source": [
    "svi = scvi.model.SCVI( muscle, n_latent=20 )\n",
    "svi.train( check_val_every_n_epoch=1 )"
   ]
  },
  {
   "cell_type": "code",
   "execution_count": null,
   "id": "101ad299",
   "metadata": {},
   "outputs": [],
   "source": [
    "plt.plot( svi.history['reconstruction_loss_validation'].values )\n",
    "plt.show()\n",
    "plt.plot( svi.history['elbo_validation'].values )\n",
    "plt.show()"
   ]
  },
  {
   "cell_type": "code",
   "execution_count": null,
   "id": "c9cd4a30",
   "metadata": {},
   "outputs": [],
   "source": [
    "svi.save( 'scVI_models/SmedSCVIMuscle/', overwrite=True )"
   ]
  },
  {
   "cell_type": "code",
   "execution_count": null,
   "id": "23f3e623",
   "metadata": {},
   "outputs": [],
   "source": [
    "svi = scvi.model.SCVI.load( 'scVI_models/SmedSCVIMuscle/', adata=muscle )"
   ]
  },
  {
   "cell_type": "code",
   "execution_count": null,
   "id": "57abfb5e",
   "metadata": {},
   "outputs": [],
   "source": [
    "latent = svi.get_latent_representation()\n",
    "muscle.obsm[\"X_PeakVI\"] = latent\n",
    "\n",
    "print(latent.shape)"
   ]
  },
  {
   "cell_type": "code",
   "execution_count": null,
   "id": "7c7ab7e1",
   "metadata": {},
   "outputs": [],
   "source": [
    "pd.DataFrame( index=muscle.obs_names, data=latent )\\\n",
    "    .to_csv( 'scVI_models/Smed.scvi_muscle_latent_dims.csv' )"
   ]
  },
  {
   "cell_type": "code",
   "execution_count": null,
   "id": "06ef3981",
   "metadata": {},
   "outputs": [],
   "source": [
    "del latent\n",
    "del muscle\n",
    "del svi\n",
    "\n",
    "gc.collect()"
   ]
  },
  {
   "cell_type": "markdown",
   "id": "4b75f74f-4270-4942-8f23-7d1b482070cb",
   "metadata": {},
   "source": [
    "# *S. mansoni*"
   ]
  },
  {
   "cell_type": "code",
   "execution_count": null,
   "id": "9b682776-6a00-4780-8035-600daf85c345",
   "metadata": {},
   "outputs": [],
   "source": [
    "peaks = scvi.data.read_h5ad( 'ArchROutputs/Sman/Sman.peaks.h5ad' )\n",
    "\n",
    "peaks"
   ]
  },
  {
   "cell_type": "code",
   "execution_count": null,
   "id": "38c0038e-b412-4a34-82ac-ce668b780e43",
   "metadata": {},
   "outputs": [],
   "source": [
    "peakdf = pd.read_csv( 'ArchROutputs/Sman/Sman.peaks.csv', index_col=0 )\n",
    "\n",
    "peakdf.index = peakdf['seqnames'] + ':' + peakdf['start'].astype(str) + '-' + peakdf['end'].astype(str)\n",
    "peakdf.head()"
   ]
  },
  {
   "cell_type": "code",
   "execution_count": null,
   "id": "af35da0a-bbd1-44c0-90d0-0f9b7e997465",
   "metadata": {},
   "outputs": [],
   "source": [
    "peaks.var = peakdf\n",
    "\n",
    "del peakdf\n",
    "gc.collect()"
   ]
  },
  {
   "cell_type": "code",
   "execution_count": null,
   "id": "e3769966-04dc-4bf6-81a9-ca6640364176",
   "metadata": {},
   "outputs": [],
   "source": [
    "peaks.X = peaks.X.tocsr()\n",
    "\n",
    "print(np.max(peaks.X))\n",
    "print(np.min(peaks.X))"
   ]
  },
  {
   "cell_type": "code",
   "execution_count": null,
   "id": "a3e04f4c-b63f-442b-b5aa-af8b914d2626",
   "metadata": {},
   "outputs": [],
   "source": [
    "scvi.model.PEAKVI.setup_anndata(peaks,batch_key='Sample')"
   ]
  },
  {
   "cell_type": "code",
   "execution_count": null,
   "id": "3385e6b5-7637-4550-bcf0-67c080218247",
   "metadata": {},
   "outputs": [],
   "source": [
    "pvi = scvi.model.PEAKVI(peaks)\n",
    "pvi.train()\n",
    "\n",
    "pvi.save(\"scVI_models/SmanPeakVI/\", overwrite=True)"
   ]
  },
  {
   "cell_type": "code",
   "execution_count": null,
   "id": "43f1aa8c-c087-4306-823e-bd7014ec3d99",
   "metadata": {},
   "outputs": [],
   "source": [
    "pvi = scvi.model.PEAKVI.load(\"scVI_models/SmanPeakVI/\", peaks)"
   ]
  },
  {
   "cell_type": "code",
   "execution_count": null,
   "id": "7234f61f-27cb-4723-a598-70cedb4388ce",
   "metadata": {},
   "outputs": [],
   "source": [
    "library_size_factor = pvi.get_library_size_factors()\n",
    "sns.histplot(library_size_factor)\n",
    "plt.show()"
   ]
  },
  {
   "cell_type": "code",
   "execution_count": null,
   "id": "ba4b69ee-5b20-4bb6-8a8b-95e78b6cd286",
   "metadata": {},
   "outputs": [],
   "source": [
    "region_factor = pvi.get_region_factors()\n",
    "sns.histplot(region_factor)\n",
    "plt.show()"
   ]
  },
  {
   "cell_type": "code",
   "execution_count": null,
   "id": "bafc2c49-ef71-47bf-921f-aa7f9b32a048",
   "metadata": {},
   "outputs": [],
   "source": [
    "latent = pvi.get_latent_representation()\n",
    "peaks.obsm[\"X_PeakVI\"] = latent\n",
    "\n",
    "print(latent.shape)"
   ]
  },
  {
   "cell_type": "code",
   "execution_count": null,
   "id": "4a1bcc19-8c0c-4680-9db1-467b1708745d",
   "metadata": {},
   "outputs": [],
   "source": [
    "pd.DataFrame( index=peaks.obs_names, \n",
    "              columns=['X'+str(i) for i in range(latent.shape[1])],\n",
    "              data=latent ).to_csv( 'scVI_models/Sman.pvi_latent_dims.csv' )"
   ]
  },
  {
   "cell_type": "markdown",
   "id": "aa295125-3ba6-42d6-b7ec-1fc378c56918",
   "metadata": {},
   "source": [
    "## Marker peak identification"
   ]
  },
  {
   "cell_type": "code",
   "execution_count": null,
   "id": "ed5e4a53-efa4-4445-8735-4e96b465f0c9",
   "metadata": {},
   "outputs": [],
   "source": [
    "# Same deal as before\n",
    "uLabels = np.sort(peaks.obs.GroupFigure.unique())\n",
    "\n",
    "labels = np.array(peaks.obs.GroupFigure.values)\n",
    "daTot = pd.DataFrame()\n",
    "\n",
    "scvi.settings.seed = 0\n",
    "for i, l in tqdm(enumerate(uLabels)):\n",
    "    \n",
    "    print( 'Computing DA for {0}'.format(l) )\n",
    "    indTarg = (labels==l)\n",
    "    da = pvi.differential_accessibility( idx1=indTarg, idx2=~indTarg )\n",
    "    da['GroupFigure'] = l\n",
    "    da = da.set_index( 'GroupFigure', append=True )\n",
    "    print( '{0} putative DA peaks detected'.format(da.is_da_fdr.sum()) )\n",
    "    daTot = pd.concat( (daTot,da), axis=0 )\n",
    "    \n",
    "daTot.to_csv( 'scVI_models/Sman.peakvi_marker_peaks.csv.gz', compression='gzip' )"
   ]
  },
  {
   "cell_type": "code",
   "execution_count": null,
   "id": "9c2a5947-c3ea-48ca-82bf-c63ac39d2e0f",
   "metadata": {},
   "outputs": [],
   "source": [
    "# Get top most specific markers based on effect_size\n",
    "markers = daTot[daTot.is_da_fdr]\n",
    "toplot = []\n",
    "for key, grp in markers.groupby('GroupFigure'):\n",
    "    nTop = int(len(grp.index)*topFrac)\n",
    "    toplot.extend( grp.sort_values('effect_size').index[:nTop] )\n",
    "    \n",
    "toplot = np.unique( toplot )\n",
    "toplot = peaks.var_names[peaks.var_names.isin(toplot)]\n",
    "toplot.size"
   ]
  },
  {
   "cell_type": "code",
   "execution_count": null,
   "id": "c27c81c8-2431-4719-afd6-b8f12541702b",
   "metadata": {},
   "outputs": [],
   "source": [
    "# Average accessibility over each cluster\n",
    "labels = np.array(peaks.obs.GroupFigure.values)\n",
    "ctMeans = np.zeros((len(uLabels),peaks.n_vars))\n",
    "\n",
    "for i, l in tqdm(enumerate(uLabels)):\n",
    "    ctMeans[i,:] = peaks.X[labels==l,:].A.mean(0)"
   ]
  },
  {
   "cell_type": "code",
   "execution_count": null,
   "id": "369ecc06-e1c3-47e3-870c-c5ecc5c8deff",
   "metadata": {},
   "outputs": [],
   "source": [
    "# Do an initial clustering to make it look nice\n",
    "g = sns.clustermap( ctMeans[:,peaks.var_names.isin(toplot)], \n",
    "                    cmap='Reds', standard_scale=1, row_cluster=False )\n",
    "g.ax_heatmap.set_yticklabels(uLabels, rotation=0)\n",
    "plt.show()\n",
    "\n",
    "# Sort them so it looks vaguely block diagonal\n",
    "argMs = np.argmax( ctMeans, axis=0 )\n",
    "argMs = argMs[peaks.var_names.isin(toplot)]\n",
    "srtInd = np.array(g.dendrogram_col.reordered_ind)\n",
    "argMs = argMs[srtInd]\n",
    "srtInd = np.concatenate([srtInd[argMs==i] for i in range(uLabels.size)])"
   ]
  },
  {
   "cell_type": "code",
   "execution_count": null,
   "id": "4177182a-ec59-4a00-bacd-3c0144162dfe",
   "metadata": {},
   "outputs": [],
   "source": [
    "g = sns.clustermap( ctMeans[:,peaks.var_names.isin(toplot)][:,srtInd],\n",
    "                    cmap='Reds', standard_scale=1, row_cluster=False, col_cluster=False )\n",
    "g.ax_heatmap.set_yticklabels(uLabels,rotation=0)\n",
    "plt.savefig('Plots/FigS2/PanelS2a_Sman.pdf',format='pdf')\n",
    "plt.show()"
   ]
  },
  {
   "cell_type": "code",
   "execution_count": null,
   "id": "deefaf0f-c9e7-4fd4-91f2-cb62786467fc",
   "metadata": {},
   "outputs": [],
   "source": [
    "del daTot\n",
    "del da\n",
    "del labels\n",
    "del uLabels\n",
    "del ctMeans\n",
    "\n",
    "gc.collect()"
   ]
  },
  {
   "cell_type": "markdown",
   "id": "5ece00ba-14d0-4fc5-b79f-acfbea574d7b",
   "metadata": {},
   "source": [
    "## Neural only"
   ]
  },
  {
   "cell_type": "code",
   "execution_count": null,
   "id": "24fbfc81-f438-4d4e-ac0c-0ea14af78f8a",
   "metadata": {},
   "outputs": [],
   "source": [
    "neuro = peaks[peaks.obs.GroupFigure.str.startswith('Neural'),:].copy()"
   ]
  },
  {
   "cell_type": "code",
   "execution_count": null,
   "id": "adedcb99-506b-4d5b-a5a0-8c6577f2b05b",
   "metadata": {},
   "outputs": [],
   "source": [
    "del latent\n",
    "del pvi\n",
    "gc.collect()"
   ]
  },
  {
   "cell_type": "code",
   "execution_count": null,
   "id": "85b85f51-b897-477d-adcc-29898a7f7187",
   "metadata": {},
   "outputs": [],
   "source": [
    "sc.pp.filter_genes( neuro, min_cells=10 )\n",
    "\n",
    "neuro"
   ]
  },
  {
   "cell_type": "code",
   "execution_count": null,
   "id": "23c31bbe-cd77-4c94-ba29-469006bad6c7",
   "metadata": {},
   "outputs": [],
   "source": [
    "scvi.model.PEAKVI.setup_anndata( neuro )"
   ]
  },
  {
   "cell_type": "code",
   "execution_count": null,
   "id": "555e67f5-bb74-44e6-bc12-df5c504eb685",
   "metadata": {},
   "outputs": [],
   "source": [
    "pvi = scvi.model.PEAKVI( neuro )\n",
    "pvi.train( check_val_every_n_epoch=1 )"
   ]
  },
  {
   "cell_type": "code",
   "execution_count": null,
   "id": "4666b761-610f-40a9-b671-36c647ffbee0",
   "metadata": {},
   "outputs": [],
   "source": [
    "plt.plot( pvi.history['reconstruction_loss_validation'].values )\n",
    "plt.show()\n",
    "\n",
    "plt.plot( pvi.history['elbo_validation'].values )\n",
    "plt.show()"
   ]
  },
  {
   "cell_type": "code",
   "execution_count": null,
   "id": "fe448582-954b-494f-9ee2-c704a3d7079e",
   "metadata": {},
   "outputs": [],
   "source": [
    "pvi.save( 'scVI_models/SmanPeakVINeural/', overwrite=True )"
   ]
  },
  {
   "cell_type": "code",
   "execution_count": null,
   "id": "c1e0b93c-899f-4b99-b74e-2fe3d6c7f214",
   "metadata": {},
   "outputs": [],
   "source": [
    "pvi = scvi.model.PEAKVI.load( 'scVI_models/SmanPeakVINeural/', adata=neuro )"
   ]
  },
  {
   "cell_type": "code",
   "execution_count": null,
   "id": "9b06c8e6-43b6-4588-9899-c16a12563e94",
   "metadata": {},
   "outputs": [],
   "source": [
    "library_size_factor = pvi.get_library_size_factors()\n",
    "sns.histplot(library_size_factor)\n",
    "plt.show()"
   ]
  },
  {
   "cell_type": "code",
   "execution_count": null,
   "id": "b6f63a96-2dfa-4f00-9d92-f149890b9dff",
   "metadata": {},
   "outputs": [],
   "source": [
    "region_factor = pvi.get_region_factors()\n",
    "sns.histplot(region_factor)\n",
    "plt.show()"
   ]
  },
  {
   "cell_type": "code",
   "execution_count": null,
   "id": "dfa08b98-1652-45fc-b134-d5bd14169f12",
   "metadata": {},
   "outputs": [],
   "source": [
    "latent = pvi.get_latent_representation()\n",
    "neuro.obsm[\"X_PeakVI\"] = latent\n",
    "\n",
    "print(latent.shape)"
   ]
  },
  {
   "cell_type": "code",
   "execution_count": null,
   "id": "9e02ef67-6bae-4b33-8ece-b50afa854d8e",
   "metadata": {},
   "outputs": [],
   "source": [
    "pd.DataFrame( index=neuro.obs_names, data=latent )\\\n",
    "    .to_csv( 'scVI_models/Sman.pvi_neural_latent_dims.csv' )"
   ]
  },
  {
   "cell_type": "code",
   "execution_count": null,
   "id": "d724ec22-55ff-4795-8910-9bd53e029d98",
   "metadata": {},
   "outputs": [],
   "source": [
    "del latent\n",
    "del neuro\n",
    "del pvi\n",
    "\n",
    "gc.collect()"
   ]
  },
  {
   "cell_type": "markdown",
   "id": "8d111270",
   "metadata": {},
   "source": [
    "## Muscle only"
   ]
  },
  {
   "cell_type": "code",
   "execution_count": null,
   "id": "dbd185d1",
   "metadata": {},
   "outputs": [],
   "source": [
    "muscle = peaks[peaks.obs.GroupFigure.str.startswith('Muscle'),:].copy()"
   ]
  },
  {
   "cell_type": "code",
   "execution_count": null,
   "id": "be964710",
   "metadata": {},
   "outputs": [],
   "source": [
    "del latent\n",
    "del peaks\n",
    "del pvi\n",
    "gc.collect()"
   ]
  },
  {
   "cell_type": "code",
   "execution_count": null,
   "id": "3297c33b",
   "metadata": {},
   "outputs": [],
   "source": [
    "sc.pp.filter_genes( muscle, min_cells=10 )\n",
    "\n",
    "neuro"
   ]
  },
  {
   "cell_type": "code",
   "execution_count": null,
   "id": "642f7452",
   "metadata": {},
   "outputs": [],
   "source": [
    "scvi.model.PEAKVI.setup_anndata( muscle )"
   ]
  },
  {
   "cell_type": "code",
   "execution_count": null,
   "id": "b2048303",
   "metadata": {},
   "outputs": [],
   "source": [
    "pvi = scvi.model.PEAKVI( muscle )\n",
    "pvi.train( check_val_every_n_epoch=1 )"
   ]
  },
  {
   "cell_type": "code",
   "execution_count": null,
   "id": "2fe03542",
   "metadata": {},
   "outputs": [],
   "source": [
    "plt.plot( pvi.history['reconstruction_loss_validation'].values )\n",
    "plt.show()\n",
    "\n",
    "plt.plot( pvi.history['elbo_validation'].values )\n",
    "plt.show()"
   ]
  },
  {
   "cell_type": "code",
   "execution_count": null,
   "id": "5141093d",
   "metadata": {},
   "outputs": [],
   "source": [
    "pvi.save( 'scVI_models/SmanPeakVIMuscle/', overwrite=True )"
   ]
  },
  {
   "cell_type": "code",
   "execution_count": null,
   "id": "96bc673f",
   "metadata": {},
   "outputs": [],
   "source": [
    "pvi = scvi.model.PEAKVI.load( 'scVI_models/SmanPeakVIMuscle/', adata=muscle )"
   ]
  },
  {
   "cell_type": "code",
   "execution_count": null,
   "id": "ad39d273",
   "metadata": {},
   "outputs": [],
   "source": [
    "library_size_factor = pvi.get_library_size_factors()\n",
    "sns.histplot(library_size_factor)\n",
    "plt.show()"
   ]
  },
  {
   "cell_type": "code",
   "execution_count": null,
   "id": "ecfdac3b",
   "metadata": {},
   "outputs": [],
   "source": [
    "region_factor = pvi.get_region_factors()\n",
    "sns.histplot(region_factor)\n",
    "plt.show()"
   ]
  },
  {
   "cell_type": "code",
   "execution_count": null,
   "id": "300dddf5",
   "metadata": {},
   "outputs": [],
   "source": [
    "latent = pvi.get_latent_representation()\n",
    "muscle.obsm[\"X_PeakVI\"] = latent\n",
    "\n",
    "print(latent.shape)"
   ]
  },
  {
   "cell_type": "code",
   "execution_count": null,
   "id": "71fd9d67",
   "metadata": {},
   "outputs": [],
   "source": [
    "pd.DataFrame( index=muscle.obs_names, data=latent )\\\n",
    "    .to_csv( 'scVI_models/Sman.peakvi_muscle_latent_dims.csv' )"
   ]
  },
  {
   "cell_type": "code",
   "execution_count": null,
   "id": "fd02cde8",
   "metadata": {},
   "outputs": [],
   "source": [
    "del latent\n",
    "del muscle\n",
    "del pvi\n",
    "\n",
    "gc.collect()"
   ]
  }
 ],
 "metadata": {
  "kernelspec": {
   "display_name": "Python 3 (ipykernel)",
   "language": "python",
   "name": "python3"
  },
  "language_info": {
   "codemirror_mode": {
    "name": "ipython",
    "version": 3
   },
   "file_extension": ".py",
   "mimetype": "text/x-python",
   "name": "python",
   "nbconvert_exporter": "python",
   "pygments_lexer": "ipython3",
   "version": "3.7.13"
  }
 },
 "nbformat": 4,
 "nbformat_minor": 5
}
