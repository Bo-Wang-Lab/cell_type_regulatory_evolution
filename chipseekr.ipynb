{
 "cells": [
  {
   "cell_type": "code",
   "execution_count": 2,
   "id": "066b6924",
   "metadata": {
    "collapsed": true,
    "jupyter": {
     "outputs_hidden": true
    },
    "tags": []
   },
   "outputs": [
    {
     "name": "stderr",
     "output_type": "stream",
     "text": [
      "Loading required package: BiocGenerics\n",
      "\n",
      "\n",
      "Attaching package: ‘BiocGenerics’\n",
      "\n",
      "\n",
      "The following objects are masked from ‘package:stats’:\n",
      "\n",
      "    IQR, mad, sd, var, xtabs\n",
      "\n",
      "\n",
      "The following objects are masked from ‘package:base’:\n",
      "\n",
      "    anyDuplicated, append, as.data.frame, basename, cbind, colnames,\n",
      "    dirname, do.call, duplicated, eval, evalq, Filter, Find, get, grep,\n",
      "    grepl, intersect, is.unsorted, lapply, Map, mapply, match, mget,\n",
      "    order, paste, pmax, pmax.int, pmin, pmin.int, Position, rank,\n",
      "    rbind, Reduce, rownames, sapply, setdiff, sort, table, tapply,\n",
      "    union, unique, unsplit, which.max, which.min\n",
      "\n",
      "\n",
      "Loading required package: S4Vectors\n",
      "\n",
      "Loading required package: stats4\n",
      "\n",
      "\n",
      "Attaching package: ‘S4Vectors’\n",
      "\n",
      "\n",
      "The following objects are masked from ‘package:base’:\n",
      "\n",
      "    expand.grid, I, unname\n",
      "\n",
      "\n",
      "Loading required package: IRanges\n",
      "\n",
      "Loading required package: GenomeInfoDb\n",
      "\n",
      "Loading required package: GenomicRanges\n",
      "\n",
      "Loading required package: Biostrings\n",
      "\n",
      "Loading required package: XVector\n",
      "\n",
      "\n",
      "Attaching package: ‘Biostrings’\n",
      "\n",
      "\n",
      "The following object is masked from ‘package:base’:\n",
      "\n",
      "    strsplit\n",
      "\n",
      "\n",
      "Loading required package: rtracklayer\n",
      "\n",
      "Loading required package: AnnotationDbi\n",
      "\n",
      "Loading required package: Biobase\n",
      "\n",
      "Welcome to Bioconductor\n",
      "\n",
      "    Vignettes contain introductory material; view with\n",
      "    'browseVignettes()'. To cite Bioconductor, see\n",
      "    'citation(\"Biobase\")', and for packages 'citation(\"pkgname\")'.\n",
      "\n",
      "\n",
      "Loading required package: ggplot2\n",
      "\n",
      "Loading required package: SummarizedExperiment\n",
      "\n",
      "Loading required package: MatrixGenerics\n",
      "\n",
      "Loading required package: matrixStats\n",
      "\n",
      "\n",
      "Attaching package: ‘matrixStats’\n",
      "\n",
      "\n",
      "The following objects are masked from ‘package:Biobase’:\n",
      "\n",
      "    anyMissing, rowMedians\n",
      "\n",
      "\n",
      "\n",
      "Attaching package: ‘MatrixGenerics’\n",
      "\n",
      "\n",
      "The following objects are masked from ‘package:matrixStats’:\n",
      "\n",
      "    colAlls, colAnyNAs, colAnys, colAvgsPerRowSet, colCollapse,\n",
      "    colCounts, colCummaxs, colCummins, colCumprods, colCumsums,\n",
      "    colDiffs, colIQRDiffs, colIQRs, colLogSumExps, colMadDiffs,\n",
      "    colMads, colMaxs, colMeans2, colMedians, colMins, colOrderStats,\n",
      "    colProds, colQuantiles, colRanges, colRanks, colSdDiffs, colSds,\n",
      "    colSums2, colTabulates, colVarDiffs, colVars, colWeightedMads,\n",
      "    colWeightedMeans, colWeightedMedians, colWeightedSds,\n",
      "    colWeightedVars, rowAlls, rowAnyNAs, rowAnys, rowAvgsPerColSet,\n",
      "    rowCollapse, rowCounts, rowCummaxs, rowCummins, rowCumprods,\n",
      "    rowCumsums, rowDiffs, rowIQRDiffs, rowIQRs, rowLogSumExps,\n",
      "    rowMadDiffs, rowMads, rowMaxs, rowMeans2, rowMedians, rowMins,\n",
      "    rowOrderStats, rowProds, rowQuantiles, rowRanges, rowRanks,\n",
      "    rowSdDiffs, rowSds, rowSums2, rowTabulates, rowVarDiffs, rowVars,\n",
      "    rowWeightedMads, rowWeightedMeans, rowWeightedMedians,\n",
      "    rowWeightedSds, rowWeightedVars\n",
      "\n",
      "\n",
      "The following object is masked from ‘package:Biobase’:\n",
      "\n",
      "    rowMedians\n",
      "\n",
      "\n",
      "Loading required package: data.table\n",
      "\n",
      "\n",
      "Attaching package: ‘data.table’\n",
      "\n",
      "\n",
      "The following object is masked from ‘package:SummarizedExperiment’:\n",
      "\n",
      "    shift\n",
      "\n",
      "\n",
      "The following object is masked from ‘package:GenomicRanges’:\n",
      "\n",
      "    shift\n",
      "\n",
      "\n",
      "The following object is masked from ‘package:IRanges’:\n",
      "\n",
      "    shift\n",
      "\n",
      "\n",
      "The following objects are masked from ‘package:S4Vectors’:\n",
      "\n",
      "    first, second\n",
      "\n",
      "\n",
      "Loading required package: Matrix\n",
      "\n",
      "\n",
      "Attaching package: ‘Matrix’\n",
      "\n",
      "\n",
      "The following object is masked from ‘package:S4Vectors’:\n",
      "\n",
      "    expand\n",
      "\n",
      "\n",
      "Loading required package: rhdf5\n",
      "\n",
      "Loading required package: magrittr\n",
      "\n",
      "Loading required package: AnnotationFilter\n",
      "\n",
      "\n",
      "Attaching package: ‘AnnotationFilter’\n",
      "\n",
      "\n",
      "The following object is masked from ‘package:magrittr’:\n",
      "\n",
      "    not\n",
      "\n",
      "\n",
      "\n",
      "Attaching package: 'ensembldb'\n",
      "\n",
      "\n",
      "The following object is masked from 'package:stats':\n",
      "\n",
      "    filter\n",
      "\n",
      "\n",
      "\n",
      "Attaching package: 'dplyr'\n",
      "\n",
      "\n",
      "The following objects are masked from 'package:ensembldb':\n",
      "\n",
      "    filter, select\n",
      "\n",
      "\n",
      "The following object is masked from 'package:OrganismDbi':\n",
      "\n",
      "    select\n",
      "\n",
      "\n",
      "The following objects are masked from 'package:data.table':\n",
      "\n",
      "    between, first, last\n",
      "\n",
      "\n",
      "The following object is masked from 'package:matrixStats':\n",
      "\n",
      "    count\n",
      "\n",
      "\n",
      "The following object is masked from 'package:AnnotationDbi':\n",
      "\n",
      "    select\n",
      "\n",
      "\n",
      "The following object is masked from 'package:Biobase':\n",
      "\n",
      "    combine\n",
      "\n",
      "\n",
      "The following objects are masked from 'package:Biostrings':\n",
      "\n",
      "    collapse, intersect, setdiff, setequal, union\n",
      "\n",
      "\n",
      "The following object is masked from 'package:XVector':\n",
      "\n",
      "    slice\n",
      "\n",
      "\n",
      "The following objects are masked from 'package:GenomicRanges':\n",
      "\n",
      "    intersect, setdiff, union\n",
      "\n",
      "\n",
      "The following object is masked from 'package:GenomeInfoDb':\n",
      "\n",
      "    intersect\n",
      "\n",
      "\n",
      "The following objects are masked from 'package:IRanges':\n",
      "\n",
      "    collapse, desc, intersect, setdiff, slice, union\n",
      "\n",
      "\n",
      "The following objects are masked from 'package:S4Vectors':\n",
      "\n",
      "    first, intersect, rename, setdiff, setequal, union\n",
      "\n",
      "\n",
      "The following objects are masked from 'package:BiocGenerics':\n",
      "\n",
      "    combine, intersect, setdiff, union\n",
      "\n",
      "\n",
      "The following objects are masked from 'package:stats':\n",
      "\n",
      "    filter, lag\n",
      "\n",
      "\n",
      "The following objects are masked from 'package:base':\n",
      "\n",
      "    intersect, setdiff, setequal, union\n",
      "\n",
      "\n",
      "── \u001b[1mAttaching packages\u001b[22m ─────────────────────────────────────── tidyverse 1.3.1 ──\n",
      "\n",
      "\u001b[32m✔\u001b[39m \u001b[34mtibble \u001b[39m 3.2.1     \u001b[32m✔\u001b[39m \u001b[34mpurrr  \u001b[39m 1.0.1\n",
      "\u001b[32m✔\u001b[39m \u001b[34mtidyr  \u001b[39m 1.3.0     \u001b[32m✔\u001b[39m \u001b[34mstringr\u001b[39m 1.5.0\n",
      "\u001b[32m✔\u001b[39m \u001b[34mreadr  \u001b[39m 2.1.2     \u001b[32m✔\u001b[39m \u001b[34mforcats\u001b[39m 0.5.1\n",
      "\n",
      "── \u001b[1mConflicts\u001b[22m ────────────────────────────────────────── tidyverse_conflicts() ──\n",
      "\u001b[31m✖\u001b[39m \u001b[34mdplyr\u001b[39m::\u001b[32mbetween()\u001b[39m        masks \u001b[34mdata.table\u001b[39m::between()\n",
      "\u001b[31m✖\u001b[39m \u001b[34mdplyr\u001b[39m::\u001b[32mcollapse()\u001b[39m       masks \u001b[34mBiostrings\u001b[39m::collapse(), \u001b[34mIRanges\u001b[39m::collapse()\n",
      "\u001b[31m✖\u001b[39m \u001b[34mdplyr\u001b[39m::\u001b[32mcombine()\u001b[39m        masks \u001b[34mBiobase\u001b[39m::combine(), \u001b[34mBiocGenerics\u001b[39m::combine()\n",
      "\u001b[31m✖\u001b[39m \u001b[34mpurrr\u001b[39m::\u001b[32mcompact()\u001b[39m        masks \u001b[34mXVector\u001b[39m::compact()\n",
      "\u001b[31m✖\u001b[39m \u001b[34mdplyr\u001b[39m::\u001b[32mcount()\u001b[39m          masks \u001b[34mmatrixStats\u001b[39m::count()\n",
      "\u001b[31m✖\u001b[39m \u001b[34mdplyr\u001b[39m::\u001b[32mdesc()\u001b[39m           masks \u001b[34mIRanges\u001b[39m::desc()\n",
      "\u001b[31m✖\u001b[39m \u001b[34mtidyr\u001b[39m::\u001b[32mexpand()\u001b[39m         masks \u001b[34mMatrix\u001b[39m::expand(), \u001b[34mS4Vectors\u001b[39m::expand()\n",
      "\u001b[31m✖\u001b[39m \u001b[34mtidyr\u001b[39m::\u001b[32mextract()\u001b[39m        masks \u001b[34mmagrittr\u001b[39m::extract()\n",
      "\u001b[31m✖\u001b[39m \u001b[34mdplyr\u001b[39m::\u001b[32mfilter()\u001b[39m         masks \u001b[34mensembldb\u001b[39m::filter(), \u001b[34mstats\u001b[39m::filter()\n",
      "\u001b[31m✖\u001b[39m \u001b[34mdplyr\u001b[39m::\u001b[32mfirst()\u001b[39m          masks \u001b[34mdata.table\u001b[39m::first(), \u001b[34mS4Vectors\u001b[39m::first()\n",
      "\u001b[31m✖\u001b[39m \u001b[34mdplyr\u001b[39m::\u001b[32mlag()\u001b[39m            masks \u001b[34mstats\u001b[39m::lag()\n",
      "\u001b[31m✖\u001b[39m \u001b[34mdplyr\u001b[39m::\u001b[32mlast()\u001b[39m           masks \u001b[34mdata.table\u001b[39m::last()\n",
      "\u001b[31m✖\u001b[39m \u001b[34mAnnotationFilter\u001b[39m::\u001b[32mnot()\u001b[39m masks \u001b[34mmagrittr\u001b[39m::not()\n",
      "\u001b[31m✖\u001b[39m \u001b[34mtidyr\u001b[39m::\u001b[32mpack()\u001b[39m           masks \u001b[34mMatrix\u001b[39m::pack()\n",
      "\u001b[31m✖\u001b[39m \u001b[34mggplot2\u001b[39m::\u001b[32mPosition()\u001b[39m     masks \u001b[34mBiocGenerics\u001b[39m::Position(), \u001b[34mbase\u001b[39m::Position()\n",
      "\u001b[31m✖\u001b[39m \u001b[34mpurrr\u001b[39m::\u001b[32mreduce()\u001b[39m         masks \u001b[34mGenomicRanges\u001b[39m::reduce(), \u001b[34mIRanges\u001b[39m::reduce()\n",
      "\u001b[31m✖\u001b[39m \u001b[34mdplyr\u001b[39m::\u001b[32mrename()\u001b[39m         masks \u001b[34mS4Vectors\u001b[39m::rename()\n",
      "\u001b[31m✖\u001b[39m \u001b[34mdplyr\u001b[39m::\u001b[32mselect()\u001b[39m         masks \u001b[34mensembldb\u001b[39m::select(), \u001b[34mOrganismDbi\u001b[39m::select(), \u001b[34mAnnotationDbi\u001b[39m::select()\n",
      "\u001b[31m✖\u001b[39m \u001b[34mpurrr\u001b[39m::\u001b[32mset_names()\u001b[39m      masks \u001b[34mmagrittr\u001b[39m::set_names()\n",
      "\u001b[31m✖\u001b[39m \u001b[34mdplyr\u001b[39m::\u001b[32mslice()\u001b[39m          masks \u001b[34mXVector\u001b[39m::slice(), \u001b[34mIRanges\u001b[39m::slice()\n",
      "\u001b[31m✖\u001b[39m \u001b[34mpurrr\u001b[39m::\u001b[32mtranspose()\u001b[39m      masks \u001b[34mdata.table\u001b[39m::transpose()\n",
      "\u001b[31m✖\u001b[39m \u001b[34mtidyr\u001b[39m::\u001b[32munpack()\u001b[39m         masks \u001b[34mMatrix\u001b[39m::unpack()\n",
      "\n",
      "Registered S3 method overwritten by 'spatstat.core':\n",
      "  method          from\n",
      "  formula.glmmPQL MASS\n",
      "\n",
      "Attaching SeuratObject\n",
      "\n",
      "\n",
      "Attaching package: 'Seurat'\n",
      "\n",
      "\n",
      "The following object is masked from 'package:SummarizedExperiment':\n",
      "\n",
      "    Assays\n",
      "\n",
      "\n",
      "\n",
      "Attaching package: 'anndata'\n",
      "\n",
      "\n",
      "The following object is masked from 'package:readr':\n",
      "\n",
      "    read_csv\n",
      "\n",
      "\n",
      "Loading required package: monocle3\n",
      "\n",
      "\n",
      "Attaching package: 'monocle3'\n",
      "\n",
      "\n",
      "The following objects are masked from 'package:Biobase':\n",
      "\n",
      "    exprs, fData, fData<-, pData, pData<-\n",
      "\n",
      "\n",
      "Loading required package: Gviz\n",
      "\n",
      "Loading required package: grid\n",
      "\n",
      "\n",
      "Attaching package: 'grid'\n",
      "\n",
      "\n",
      "The following object is masked from 'package:Biostrings':\n",
      "\n",
      "    pattern\n",
      "\n",
      "\n",
      "\n",
      "Attaching package: 'Gviz'\n",
      "\n",
      "\n",
      "The following object is masked from 'package:AnnotationFilter':\n",
      "\n",
      "    feature\n",
      "\n",
      "\n",
      "\n",
      "\n",
      "Registered S3 method overwritten by 'ggtree':\n",
      "  method      from \n",
      "  identify.gg ggfun\n",
      "\n",
      "ChIPseeker v1.30.0  For help: https://guangchuangyu.github.io/software/ChIPseeker\n",
      "\n",
      "If you use ChIPseeker in published research, please cite:\n",
      "Guangchuang Yu, Li-Gen Wang, Qing-Yu He. ChIPseeker: an R/Bioconductor package for ChIP peak annotation, comparison and visualization. Bioinformatics 2015, 31(14):2382-2383\n",
      "\n"
     ]
    }
   ],
   "source": [
    "# Load libraries \n",
    "library(BSgenome)\n",
    "library(Biostrings)   \n",
    "library(GenomeInfoDb)\n",
    "library(rtracklayer)\n",
    "library(GenomicFeatures)\n",
    "#library(AnnotationDbi)\n",
    "library(ArchR)\n",
    "library(AnnotationForge) #\"Only need for making annotation\"\n",
    "library(OrganismDbi)\n",
    "library(ensembldb)\n",
    "library(dplyr)\n",
    "library(tidyverse)\n",
    "library(Seurat)\n",
    "library(SingleCellExperiment)\n",
    "library( zellkonverter )\n",
    "library( anndata )\n",
    "library(BSgenome.Schisto.wormbase.WBPS15)# This bsgenome has all chromosomes \n",
    "library(cicero)\n",
    "library(ChIPseeker)\n",
    "library(monocle3)"
   ]
  },
  {
   "cell_type": "code",
   "execution_count": 3,
   "id": "b1c99bb3",
   "metadata": {},
   "outputs": [
    {
     "name": "stderr",
     "output_type": "stream",
     "text": [
      "Successfully loaded ArchRProject!\n",
      "\n",
      "Successfully loaded ArchRProject!\n",
      "\n",
      "Successfully loaded ArchRProject!\n",
      "\n"
     ]
    }
   ],
   "source": [
    "# Final ArchR object \n",
    "Smed= loadArchRProject(path = \"ArchROutputs/Smed/ArchRProjs/Smed_final_ArchR_proj/\", force = FALSE, showLogo = FALSE)\n",
    "Sman =loadArchRProject(path = \"ArchROutputs/Sman/ArchRProjs/Sman_final_ArchR_proj/\", force = FALSE, showLogo = FALSE)\n",
    "Mlig =loadArchRProject(path = \"ArchROutputs/Mlig/ArchRProjs/Mlig_final_ArchR_proj/\", force = FALSE, showLogo = FALSE)"
   ]
  },
  {
   "cell_type": "markdown",
   "id": "99b20376",
   "metadata": {},
   "source": [
    "## Smed peak annotation "
   ]
  },
  {
   "cell_type": "code",
   "execution_count": 8,
   "id": "d913896c",
   "metadata": {},
   "outputs": [],
   "source": [
    "# Here let's try to format the peak\n",
    "Smed_peaks <- getPeakSet( Smed )\n",
    "Smed_chr_order <- sort(seqlevels(Smed_peaks))\n",
    "Smed_reordered_features <- list()\n",
    "for(chr in Smed_chr_order)\n",
    "    Smed_reordered_features[[chr]] = Smed_peaks[seqnames(Smed_peaks) == chr]\n",
    "Smed_reordered_features <- Reduce(\"c\", Smed_reordered_features)\n",
    "names(Smed_reordered_features) <- sprintf(\"Peak%d\", 1:length(Smed_reordered_features))"
   ]
  },
  {
   "cell_type": "code",
   "execution_count": 9,
   "id": "31cd826c",
   "metadata": {},
   "outputs": [
    {
     "data": {
      "text/plain": [
       "GRanges object with 317488 ranges and 4 metadata columns:\n",
       "                  seqnames          ranges strand |     score       idx\n",
       "                     <Rle>       <IRanges>  <Rle> | <integer> <integer>\n",
       "       Peak1  dd_Smes_g4_1       7590-7935      * |        75         1\n",
       "       Peak2  dd_Smes_g4_1       8523-9081      * |        75         2\n",
       "       Peak3  dd_Smes_g4_1       9261-9542      * |       140         3\n",
       "       Peak4  dd_Smes_g4_1     11180-11334      * |        77         4\n",
       "       Peak5  dd_Smes_g4_1     11397-11701      * |       229         5\n",
       "         ...           ...             ...    ... .       ...       ...\n",
       "  Peak317484 dd_Smes_g4_99 2442858-2443360      * |        84      1057\n",
       "  Peak317485 dd_Smes_g4_99 2444200-2444348      * |        70      1058\n",
       "  Peak317486 dd_Smes_g4_99 2446643-2446791      * |        69      1059\n",
       "  Peak317487 dd_Smes_g4_99 2448389-2448551      * |        81      1060\n",
       "  Peak317488 dd_Smes_g4_99 2448733-2449276      * |       422      1061\n",
       "                    GC         N\n",
       "             <numeric> <numeric>\n",
       "       Peak1    0.4277         0\n",
       "       Peak2    0.3381         0\n",
       "       Peak3    0.3475         0\n",
       "       Peak4    0.3548         0\n",
       "       Peak5    0.3803         0\n",
       "         ...       ...       ...\n",
       "  Peak317484    0.2406         0\n",
       "  Peak317485    0.4497         0\n",
       "  Peak317486    0.3758         0\n",
       "  Peak317487    0.4540         0\n",
       "  Peak317488    0.4522         0\n",
       "  -------\n",
       "  seqinfo: 460 sequences from an unspecified genome; no seqlengths"
      ]
     },
     "metadata": {},
     "output_type": "display_data"
    }
   ],
   "source": [
    "Smed_reordered_features"
   ]
  },
  {
   "cell_type": "code",
   "execution_count": 10,
   "id": "b0098041",
   "metadata": {},
   "outputs": [
    {
     "name": "stderr",
     "output_type": "stream",
     "text": [
      "Import genomic features from the file as a GRanges object ... \n",
      "OK\n",
      "\n",
      "Prepare the 'metadata' data frame ... \n",
      "OK\n",
      "\n",
      "Make the TxDb object ... \n",
      "OK\n",
      "\n"
     ]
    }
   ],
   "source": [
    "# Let's annotate the peaks for what type they are so that I can potentially put them in to the obs \n",
    "Smed_txdb <- makeTxDbFromGFF(\"./Refs/dd_Smes_g4/Smes_SMESG_g4_hc_edit_v04.gtf\")\n",
    "#peak_file <- \"/media/gary/Chew/Schisto_ATAC/schisto_all/cc_ENCODE_peaks_CT/itoverlap_overlap_all.narrowPeak\""
   ]
  },
  {
   "cell_type": "code",
   "execution_count": 11,
   "id": "3e70ce6a",
   "metadata": {},
   "outputs": [
    {
     "name": "stdout",
     "output_type": "stream",
     "text": [
      ">> preparing features information...\t\t 2023-06-12 03:34:05 PM \n",
      ">> identifying nearest features...\t\t 2023-06-12 03:34:05 PM \n",
      ">> calculating distance from peak to TSS...\t 2023-06-12 03:34:11 PM \n",
      ">> assigning genomic annotation...\t\t 2023-06-12 03:34:11 PM \n",
      ">> assigning chromosome lengths\t\t\t 2023-06-12 03:34:20 PM \n",
      ">> done...\t\t\t\t\t 2023-06-12 03:34:20 PM \n"
     ]
    }
   ],
   "source": [
    "Smed_peakAnno <- annotatePeak(Smed_reordered_features, tssRegion=c(-1000, 1000),genomicAnnotationPriority = c(\"Promoter\", \"Exon\", \"Intron\", \"3UTR\", \"5UTR\",\"Downstream\", \"Intergenic\"),\n",
    "                         TxDb=Smed_txdb, overlap=\"all\")"
   ]
  },
  {
   "cell_type": "code",
   "execution_count": 12,
   "id": "b55746b5",
   "metadata": {},
   "outputs": [],
   "source": [
    "Smed_peak_annot <- as.data.frame(Smed_peakAnno@anno)\n",
    "write_csv(Smed_peak_annot,\"./Metadata/Smed.chipseekr_annots.csv\")"
   ]
  },
  {
   "cell_type": "markdown",
   "id": "cd8597e1",
   "metadata": {},
   "source": [
    "## Sman peak annotation "
   ]
  },
  {
   "cell_type": "code",
   "execution_count": 9,
   "id": "6320d2fe",
   "metadata": {},
   "outputs": [],
   "source": [
    "# Here let's try to format the peak\n",
    "Sman_peaks <- getPeakSet( Sman )\n",
    "Sman_chr_order <- sort(seqlevels(Sman_peaks))\n",
    "Sman_reordered_features <- list()\n",
    "for(chr in Sman_chr_order)\n",
    "    Sman_reordered_features[[chr]] = Sman_peaks[seqnames(Sman_peaks) == chr]\n",
    "Sman_reordered_features <- Reduce(\"c\", Sman_reordered_features)\n",
    "names(Sman_reordered_features) <- sprintf(\"Peak%d\", 1:length(Sman_reordered_features))"
   ]
  },
  {
   "cell_type": "code",
   "execution_count": 10,
   "id": "07156a55",
   "metadata": {},
   "outputs": [
    {
     "data": {
      "text/plain": [
       "GRanges object with 162349 ranges and 4 metadata columns:\n",
       "                 seqnames        ranges strand |     score       idx        GC\n",
       "                    <Rle>     <IRanges>  <Rle> | <integer> <integer> <numeric>\n",
       "       Peak1      SM_V7_1   32709-32858      * |        74         1    0.3267\n",
       "       Peak2      SM_V7_1   54285-54746      * |        75         2    0.3247\n",
       "       Peak3      SM_V7_1   90095-90244      * |       101         3    0.4600\n",
       "       Peak4      SM_V7_1  99821-100158      * |       237         4    0.2870\n",
       "       Peak5      SM_V7_1 126020-126404      * |       264         5    0.3247\n",
       "         ...          ...           ...    ... .       ...       ...       ...\n",
       "  Peak162345 SM_V7_ZWU006   21874-22186      * |       168        13    0.2843\n",
       "  Peak162346 SM_V7_ZWU006   23144-23374      * |        90        14    0.2727\n",
       "  Peak162347 SM_V7_ZWU006   25587-25808      * |       108        15    0.3649\n",
       "  Peak162348 SM_V7_ZWU006   27474-27762      * |       115        16    0.2976\n",
       "  Peak162349 SM_V7_ZWU006   29490-29726      * |       117        17    0.2616\n",
       "                     N\n",
       "             <numeric>\n",
       "       Peak1         0\n",
       "       Peak2         0\n",
       "       Peak3         0\n",
       "       Peak4         0\n",
       "       Peak5         0\n",
       "         ...       ...\n",
       "  Peak162345         0\n",
       "  Peak162346         0\n",
       "  Peak162347         0\n",
       "  Peak162348         0\n",
       "  Peak162349         0\n",
       "  -------\n",
       "  seqinfo: 296 sequences from an unspecified genome; no seqlengths"
      ]
     },
     "metadata": {},
     "output_type": "display_data"
    }
   ],
   "source": [
    "Sman_reordered_features"
   ]
  },
  {
   "cell_type": "code",
   "execution_count": 11,
   "id": "412c82f5",
   "metadata": {},
   "outputs": [
    {
     "name": "stderr",
     "output_type": "stream",
     "text": [
      "Import genomic features from the file as a GRanges object ... \n",
      "OK\n",
      "\n",
      "Prepare the 'metadata' data frame ... \n",
      "OK\n",
      "\n",
      "Make the TxDb object ... \n",
      "Warning message in .get_cds_IDX(mcols0$type, mcols0$phase):\n",
      "\"The \"phase\" metadata column contains non-NA values for features of type\n",
      "  stop_codon. This information was ignored.\"\n",
      "OK\n",
      "\n"
     ]
    }
   ],
   "source": [
    "# Let's annotate the peaks for what type they are so that I can potentially put them in to the obs \n",
    "schisto_txdb <- makeTxDbFromGFF(\"/Refs/SM_V7/schistosoma_mansoni.PRJEA36577.WBPS15.canonical_geneset_converted.gtf\")\n",
    "#peak_file <- \"/media/gary/Chew/Schisto_ATAC/schisto_all/cc_ENCODE_peaks_CT/itoverlap_overlap_all.narrowPeak\""
   ]
  },
  {
   "cell_type": "code",
   "execution_count": 12,
   "id": "9e1fad6b",
   "metadata": {
    "collapsed": true,
    "jupyter": {
     "outputs_hidden": true
    }
   },
   "outputs": [
    {
     "name": "stdout",
     "output_type": "stream",
     "text": [
      ">> preparing features information...\t\t 2023-06-12 03:10:45 PM \n",
      ">> identifying nearest features...\t\t 2023-06-12 03:10:45 PM \n"
     ]
    },
    {
     "name": "stderr",
     "output_type": "stream",
     "text": [
      "Warning message in .Seqinfo.mergexy(x, y):\n",
      "\"Each of the 2 combined objects has sequence levels not in the other:\n",
      "  - in 'x': SM_V7_1001, SM_V7_1H005, SM_V7_1H008, SM_V7_1H012, SM_V7_1H013, SM_V7_1H021, SM_V7_1H022, SM_V7_1H023, SM_V7_1H025, SM_V7_1H026, SM_V7_1H028, SM_V7_1H031, SM_V7_1H032, SM_V7_1H033, SM_V7_1H034, SM_V7_1H035, SM_V7_1H037, SM_V7_1H038, SM_V7_1H041, SM_V7_1H042, SM_V7_1H044, SM_V7_2H013, SM_V7_2H015, SM_V7_2H016, SM_V7_2H017, SM_V7_2H020, SM_V7_2H022, SM_V7_2H023, SM_V7_2H027, SM_V7_2H028, SM_V7_2H029, SM_V7_2H033, SM_V7_2H034, SM_V7_2H035, SM_V7_3H002, SM_V7_3H005, SM_V7_3H007, SM_V7_3H010, SM_V7_3H012, SM_V7_3H014, SM_V7_3H018, SM_V7_3H019, SM_V7_3H020, SM_V7_3H021, SM_V7_3H022, SM_V7_4H005, SM_V7_4H008, SM_V7_4H010, SM_V7_4H013, SM_V7_4H015, SM_V7_4H022, SM_V7_4H023, SM_V7_4H024, SM_V7_4H028, SM_V7_4H029, SM_V7_4H036, SM_V7_4H038, SM_V7_5H003, SM_V7_5H004, SM_V7_5H006, SM_V7_5H016, SM_V7_5H019, SM_V7_5H020, SM_V7_5H021, SM_V7_5H023, SM_V7_5H027, SM_V7_6H005, SM_V7_6H011, SM_V7_6H014, SM_V7_6H016, SM_V7_6H021, SM_V7_6H024, SM_V7_6H025, SM_V7_7H009, SM_V7_7H010, SM_V7_7H011, SM_V7_7H013, SM_V7_U001, SM_V7_U011, SM_V7_U014, SM_V7_U016, SM_V7_W008, SM_V7_W010, SM_V7_W014, SM_V7_W015, SM_V7_W023, SM_V7_ZWH002, SM_V7_ZWH008, SM_V7_ZWH011, SM_V7_ZWH013, SM_V7_ZWH016, SM_V7_ZWH020, SM_V7_ZWH021, SM_V7_ZWH022, SM_V7_ZWH024, SM_V7_ZWH026, SM_V7_ZWH027, SM_V7_ZWH028, SM_V7_ZWH031, SM_V7_ZWH034, SM_V7_ZWH035, SM_V7_ZWH036, SM_V7_ZWH037, SM_V7_ZWH039, SM_V7_ZWH045, SM_V7_ZWU007\n",
      "  - in 'y': SM_V7_5H007, SM_V7_6H027, SM_V7_MITO\n",
      "  Make sure to always combine/compare objects based on the same reference\n",
      "  genome (use suppressWarnings() to suppress this warning).\"\n",
      "Warning message in .Seqinfo.mergexy(x, y):\n",
      "\"Each of the 2 combined objects has sequence levels not in the other:\n",
      "  - in 'x': SM_V7_1001, SM_V7_1H005, SM_V7_1H008, SM_V7_1H012, SM_V7_1H013, SM_V7_1H021, SM_V7_1H022, SM_V7_1H023, SM_V7_1H025, SM_V7_1H026, SM_V7_1H028, SM_V7_1H031, SM_V7_1H032, SM_V7_1H033, SM_V7_1H034, SM_V7_1H035, SM_V7_1H037, SM_V7_1H038, SM_V7_1H041, SM_V7_1H042, SM_V7_1H044, SM_V7_2H013, SM_V7_2H015, SM_V7_2H016, SM_V7_2H017, SM_V7_2H020, SM_V7_2H022, SM_V7_2H023, SM_V7_2H027, SM_V7_2H028, SM_V7_2H029, SM_V7_2H033, SM_V7_2H034, SM_V7_2H035, SM_V7_3H002, SM_V7_3H005, SM_V7_3H007, SM_V7_3H010, SM_V7_3H012, SM_V7_3H014, SM_V7_3H018, SM_V7_3H019, SM_V7_3H020, SM_V7_3H021, SM_V7_3H022, SM_V7_4H005, SM_V7_4H008, SM_V7_4H010, SM_V7_4H013, SM_V7_4H015, SM_V7_4H022, SM_V7_4H023, SM_V7_4H024, SM_V7_4H028, SM_V7_4H029, SM_V7_4H036, SM_V7_4H038, SM_V7_5H003, SM_V7_5H004, SM_V7_5H006, SM_V7_5H016, SM_V7_5H019, SM_V7_5H020, SM_V7_5H021, SM_V7_5H023, SM_V7_5H027, SM_V7_6H005, SM_V7_6H011, SM_V7_6H014, SM_V7_6H016, SM_V7_6H021, SM_V7_6H024, SM_V7_6H025, SM_V7_7H009, SM_V7_7H010, SM_V7_7H011, SM_V7_7H013, SM_V7_U001, SM_V7_U011, SM_V7_U014, SM_V7_U016, SM_V7_W008, SM_V7_W010, SM_V7_W014, SM_V7_W015, SM_V7_W023, SM_V7_ZWH002, SM_V7_ZWH008, SM_V7_ZWH011, SM_V7_ZWH013, SM_V7_ZWH016, SM_V7_ZWH020, SM_V7_ZWH021, SM_V7_ZWH022, SM_V7_ZWH024, SM_V7_ZWH026, SM_V7_ZWH027, SM_V7_ZWH028, SM_V7_ZWH031, SM_V7_ZWH034, SM_V7_ZWH035, SM_V7_ZWH036, SM_V7_ZWH037, SM_V7_ZWH039, SM_V7_ZWH045, SM_V7_ZWU007\n",
      "  - in 'y': SM_V7_5H007, SM_V7_6H027, SM_V7_MITO\n",
      "  Make sure to always combine/compare objects based on the same reference\n",
      "  genome (use suppressWarnings() to suppress this warning).\"\n"
     ]
    },
    {
     "name": "stdout",
     "output_type": "stream",
     "text": [
      ">> calculating distance from peak to TSS...\t 2023-06-12 03:10:48 PM \n",
      ">> assigning genomic annotation...\t\t 2023-06-12 03:10:48 PM \n"
     ]
    },
    {
     "name": "stderr",
     "output_type": "stream",
     "text": [
      "Warning message in .Seqinfo.mergexy(x, y):\n",
      "\"Each of the 2 combined objects has sequence levels not in the other:\n",
      "  - in 'x': SM_V7_1001, SM_V7_1H005, SM_V7_1H008, SM_V7_1H012, SM_V7_1H013, SM_V7_1H021, SM_V7_1H022, SM_V7_1H023, SM_V7_1H025, SM_V7_1H026, SM_V7_1H028, SM_V7_1H031, SM_V7_1H032, SM_V7_1H033, SM_V7_1H034, SM_V7_1H035, SM_V7_1H037, SM_V7_1H038, SM_V7_1H041, SM_V7_1H042, SM_V7_1H044, SM_V7_2H013, SM_V7_2H015, SM_V7_2H016, SM_V7_2H017, SM_V7_2H020, SM_V7_2H022, SM_V7_2H023, SM_V7_2H027, SM_V7_2H028, SM_V7_2H029, SM_V7_2H033, SM_V7_2H034, SM_V7_2H035, SM_V7_3H002, SM_V7_3H005, SM_V7_3H007, SM_V7_3H010, SM_V7_3H012, SM_V7_3H014, SM_V7_3H018, SM_V7_3H019, SM_V7_3H020, SM_V7_3H021, SM_V7_3H022, SM_V7_4H005, SM_V7_4H008, SM_V7_4H010, SM_V7_4H013, SM_V7_4H015, SM_V7_4H022, SM_V7_4H023, SM_V7_4H024, SM_V7_4H028, SM_V7_4H029, SM_V7_4H036, SM_V7_4H038, SM_V7_5H003, SM_V7_5H004, SM_V7_5H006, SM_V7_5H016, SM_V7_5H019, SM_V7_5H020, SM_V7_5H021, SM_V7_5H023, SM_V7_5H027, SM_V7_6H005, SM_V7_6H011, SM_V7_6H014, SM_V7_6H016, SM_V7_6H021, SM_V7_6H024, SM_V7_6H025, SM_V7_7H009, SM_V7_7H010, SM_V7_7H011, SM_V7_7H013, SM_V7_U001, SM_V7_U011, SM_V7_U014, SM_V7_U016, SM_V7_W008, SM_V7_W010, SM_V7_W014, SM_V7_W015, SM_V7_W023, SM_V7_ZWH002, SM_V7_ZWH008, SM_V7_ZWH011, SM_V7_ZWH013, SM_V7_ZWH016, SM_V7_ZWH020, SM_V7_ZWH021, SM_V7_ZWH022, SM_V7_ZWH024, SM_V7_ZWH026, SM_V7_ZWH027, SM_V7_ZWH028, SM_V7_ZWH031, SM_V7_ZWH034, SM_V7_ZWH035, SM_V7_ZWH036, SM_V7_ZWH037, SM_V7_ZWH039, SM_V7_ZWH045, SM_V7_ZWU007\n",
      "  - in 'y': SM_V7_5H007, SM_V7_6H027, SM_V7_MITO\n",
      "  Make sure to always combine/compare objects based on the same reference\n",
      "  genome (use suppressWarnings() to suppress this warning).\"\n",
      "Warning message in .Seqinfo.mergexy(x, y):\n",
      "\"Each of the 2 combined objects has sequence levels not in the other:\n",
      "  - in 'x': SM_V7_1001, SM_V7_1H005, SM_V7_1H008, SM_V7_1H012, SM_V7_1H013, SM_V7_1H021, SM_V7_1H022, SM_V7_1H023, SM_V7_1H025, SM_V7_1H026, SM_V7_1H028, SM_V7_1H031, SM_V7_1H032, SM_V7_1H033, SM_V7_1H034, SM_V7_1H035, SM_V7_1H037, SM_V7_1H038, SM_V7_1H041, SM_V7_1H042, SM_V7_1H044, SM_V7_2H013, SM_V7_2H015, SM_V7_2H016, SM_V7_2H017, SM_V7_2H020, SM_V7_2H022, SM_V7_2H023, SM_V7_2H027, SM_V7_2H028, SM_V7_2H029, SM_V7_2H033, SM_V7_2H034, SM_V7_2H035, SM_V7_3H002, SM_V7_3H005, SM_V7_3H007, SM_V7_3H010, SM_V7_3H012, SM_V7_3H014, SM_V7_3H018, SM_V7_3H019, SM_V7_3H020, SM_V7_3H021, SM_V7_3H022, SM_V7_4H005, SM_V7_4H008, SM_V7_4H010, SM_V7_4H013, SM_V7_4H015, SM_V7_4H022, SM_V7_4H023, SM_V7_4H024, SM_V7_4H028, SM_V7_4H029, SM_V7_4H036, SM_V7_4H038, SM_V7_5H003, SM_V7_5H004, SM_V7_5H006, SM_V7_5H016, SM_V7_5H019, SM_V7_5H020, SM_V7_5H021, SM_V7_5H023, SM_V7_5H027, SM_V7_6H005, SM_V7_6H011, SM_V7_6H014, SM_V7_6H016, SM_V7_6H021, SM_V7_6H024, SM_V7_6H025, SM_V7_7H009, SM_V7_7H010, SM_V7_7H011, SM_V7_7H013, SM_V7_U001, SM_V7_U011, SM_V7_U014, SM_V7_U016, SM_V7_W008, SM_V7_W010, SM_V7_W014, SM_V7_W015, SM_V7_W023, SM_V7_ZWH002, SM_V7_ZWH008, SM_V7_ZWH011, SM_V7_ZWH013, SM_V7_ZWH016, SM_V7_ZWH020, SM_V7_ZWH021, SM_V7_ZWH022, SM_V7_ZWH024, SM_V7_ZWH026, SM_V7_ZWH027, SM_V7_ZWH028, SM_V7_ZWH031, SM_V7_ZWH034, SM_V7_ZWH035, SM_V7_ZWH036, SM_V7_ZWH037, SM_V7_ZWH039, SM_V7_ZWH045, SM_V7_ZWU007\n",
      "  - in 'y': SM_V7_5H007, SM_V7_6H027, SM_V7_MITO\n",
      "  Make sure to always combine/compare objects based on the same reference\n",
      "  genome (use suppressWarnings() to suppress this warning).\"\n",
      "Warning message in .Seqinfo.mergexy(x, y):\n",
      "\"Each of the 2 combined objects has sequence levels not in the other:\n",
      "  - in 'x': SM_V7_1001, SM_V7_1H005, SM_V7_1H008, SM_V7_1H012, SM_V7_1H013, SM_V7_1H021, SM_V7_1H022, SM_V7_1H023, SM_V7_1H025, SM_V7_1H026, SM_V7_1H028, SM_V7_1H031, SM_V7_1H032, SM_V7_1H033, SM_V7_1H034, SM_V7_1H035, SM_V7_1H037, SM_V7_1H038, SM_V7_1H041, SM_V7_1H042, SM_V7_1H044, SM_V7_2H013, SM_V7_2H015, SM_V7_2H016, SM_V7_2H017, SM_V7_2H020, SM_V7_2H022, SM_V7_2H023, SM_V7_2H027, SM_V7_2H028, SM_V7_2H029, SM_V7_2H033, SM_V7_2H034, SM_V7_2H035, SM_V7_3H002, SM_V7_3H005, SM_V7_3H007, SM_V7_3H010, SM_V7_3H012, SM_V7_3H014, SM_V7_3H018, SM_V7_3H019, SM_V7_3H020, SM_V7_3H021, SM_V7_3H022, SM_V7_4H005, SM_V7_4H008, SM_V7_4H010, SM_V7_4H013, SM_V7_4H015, SM_V7_4H022, SM_V7_4H023, SM_V7_4H024, SM_V7_4H028, SM_V7_4H029, SM_V7_4H036, SM_V7_4H038, SM_V7_5H003, SM_V7_5H004, SM_V7_5H006, SM_V7_5H016, SM_V7_5H019, SM_V7_5H020, SM_V7_5H021, SM_V7_5H023, SM_V7_5H027, SM_V7_6H005, SM_V7_6H011, SM_V7_6H014, SM_V7_6H016, SM_V7_6H021, SM_V7_6H024, SM_V7_6H025, SM_V7_7H009, SM_V7_7H010, SM_V7_7H011, SM_V7_7H013, SM_V7_U001, SM_V7_U011, SM_V7_U014, SM_V7_U016, SM_V7_W008, SM_V7_W010, SM_V7_W014, SM_V7_W015, SM_V7_W023, SM_V7_ZWH002, SM_V7_ZWH008, SM_V7_ZWH011, SM_V7_ZWH013, SM_V7_ZWH016, SM_V7_ZWH020, SM_V7_ZWH021, SM_V7_ZWH022, SM_V7_ZWH024, SM_V7_ZWH026, SM_V7_ZWH027, SM_V7_ZWH028, SM_V7_ZWH031, SM_V7_ZWH034, SM_V7_ZWH035, SM_V7_ZWH036, SM_V7_ZWH037, SM_V7_ZWH039, SM_V7_ZWH045, SM_V7_ZWU007\n",
      "  - in 'y': SM_V7_5H007, SM_V7_6H027, SM_V7_MITO\n",
      "  Make sure to always combine/compare objects based on the same reference\n",
      "  genome (use suppressWarnings() to suppress this warning).\"\n",
      "Warning message in .Seqinfo.mergexy(x, y):\n",
      "\"Each of the 2 combined objects has sequence levels not in the other:\n",
      "  - in 'x': SM_V7_1001, SM_V7_1H005, SM_V7_1H008, SM_V7_1H012, SM_V7_1H013, SM_V7_1H021, SM_V7_1H022, SM_V7_1H023, SM_V7_1H025, SM_V7_1H026, SM_V7_1H028, SM_V7_1H031, SM_V7_1H032, SM_V7_1H033, SM_V7_1H034, SM_V7_1H035, SM_V7_1H037, SM_V7_1H038, SM_V7_1H041, SM_V7_1H042, SM_V7_1H044, SM_V7_2H013, SM_V7_2H015, SM_V7_2H016, SM_V7_2H017, SM_V7_2H020, SM_V7_2H022, SM_V7_2H023, SM_V7_2H027, SM_V7_2H028, SM_V7_2H029, SM_V7_2H033, SM_V7_2H034, SM_V7_2H035, SM_V7_3H002, SM_V7_3H005, SM_V7_3H007, SM_V7_3H010, SM_V7_3H012, SM_V7_3H014, SM_V7_3H018, SM_V7_3H019, SM_V7_3H020, SM_V7_3H021, SM_V7_3H022, SM_V7_4H005, SM_V7_4H008, SM_V7_4H010, SM_V7_4H013, SM_V7_4H015, SM_V7_4H022, SM_V7_4H023, SM_V7_4H024, SM_V7_4H028, SM_V7_4H029, SM_V7_4H036, SM_V7_4H038, SM_V7_5H003, SM_V7_5H004, SM_V7_5H006, SM_V7_5H016, SM_V7_5H019, SM_V7_5H020, SM_V7_5H021, SM_V7_5H023, SM_V7_5H027, SM_V7_6H005, SM_V7_6H011, SM_V7_6H014, SM_V7_6H016, SM_V7_6H021, SM_V7_6H024, SM_V7_6H025, SM_V7_7H009, SM_V7_7H010, SM_V7_7H011, SM_V7_7H013, SM_V7_U001, SM_V7_U011, SM_V7_U014, SM_V7_U016, SM_V7_W008, SM_V7_W010, SM_V7_W014, SM_V7_W015, SM_V7_W023, SM_V7_ZWH002, SM_V7_ZWH008, SM_V7_ZWH011, SM_V7_ZWH013, SM_V7_ZWH016, SM_V7_ZWH020, SM_V7_ZWH021, SM_V7_ZWH022, SM_V7_ZWH024, SM_V7_ZWH026, SM_V7_ZWH027, SM_V7_ZWH028, SM_V7_ZWH031, SM_V7_ZWH034, SM_V7_ZWH035, SM_V7_ZWH036, SM_V7_ZWH037, SM_V7_ZWH039, SM_V7_ZWH045, SM_V7_ZWU007\n",
      "  - in 'y': SM_V7_5H007, SM_V7_6H027, SM_V7_MITO\n",
      "  Make sure to always combine/compare objects based on the same reference\n",
      "  genome (use suppressWarnings() to suppress this warning).\"\n"
     ]
    },
    {
     "name": "stdout",
     "output_type": "stream",
     "text": [
      ">> assigning chromosome lengths\t\t\t 2023-06-12 03:10:54 PM \n",
      ">> done...\t\t\t\t\t 2023-06-12 03:10:54 PM \n"
     ]
    }
   ],
   "source": [
    "Sman_peakAnno <- annotatePeak(Sman_reordered_features, tssRegion=c(-1000, 1000),genomicAnnotationPriority = c(\"Promoter\", \"Exon\", \"Intron\", \"3UTR\", \"5UTR\",\"Downstream\", \"Intergenic\"),\n",
    "                         TxDb=schisto_txdb, overlap=\"all\")"
   ]
  },
  {
   "cell_type": "code",
   "execution_count": 13,
   "id": "8ff01825",
   "metadata": {},
   "outputs": [],
   "source": [
    "Sman_peak_annot <- as.data.frame(Sman_peakAnno@anno)\n",
    "write_csv(Sman_peak_annot,\"./Metadata/Sman.chipseekr_annots.csv\")"
   ]
  },
  {
   "cell_type": "markdown",
   "id": "388bd48b",
   "metadata": {},
   "source": [
    "## Mlig peak annotation"
   ]
  },
  {
   "cell_type": "code",
   "execution_count": 11,
   "id": "a41f38d9",
   "metadata": {},
   "outputs": [],
   "source": [
    "# Here let's try to format the peak\n",
    "Mlig_peaks <- getPeakSet( Mlig )\n",
    "Mlig_chr_order <- sort(seqlevels(Mlig_peaks))\n",
    "Mlig_reordered_features <- list()\n",
    "for(chr in Mlig_chr_order)\n",
    "    Mlig_reordered_features[[chr]] = Mlig_peaks[seqnames(Mlig_peaks) == chr]\n",
    "Mlig_reordered_features <- Reduce(\"c\", Mlig_reordered_features)\n",
    "names(Mlig_reordered_features) <- sprintf(\"Peak%d\", 1:length(Mlig_reordered_features))"
   ]
  },
  {
   "cell_type": "code",
   "execution_count": 10,
   "id": "516a0a2c",
   "metadata": {},
   "outputs": [
    {
     "data": {
      "text/plain": [
       "GRanges object with 236018 ranges and 4 metadata columns:\n",
       "                seqnames      ranges strand |     score       idx        GC\n",
       "                   <Rle>   <IRanges>  <Rle> | <integer> <integer> <numeric>\n",
       "       Peak1 ML45REF0001     104-253      * |       108         1    0.3133\n",
       "       Peak2 ML45REF0001   1623-2063      * |        93         2    0.5488\n",
       "       Peak3 ML45REF0001   3130-3535      * |       263         3    0.5739\n",
       "       Peak4 ML45REF0001   7171-7418      * |       134         4    0.6331\n",
       "       Peak5 ML45REF0001 13231-13993      * |       262         5    0.5976\n",
       "         ...         ...         ...    ... .       ...       ...       ...\n",
       "  Peak236014 ML45REF0415    986-1420      * |        75         2    0.5977\n",
       "  Peak236015 ML45REF0415   3425-3574      * |        69         3    0.5667\n",
       "  Peak236016 ML45REF0415   5749-6284      * |       142         4    0.5429\n",
       "  Peak236017 ML45REF0415   7555-7706      * |        70         5    0.5197\n",
       "  Peak236018 ML45REF0415   7765-8171      * |       311         6    0.5455\n",
       "                     N\n",
       "             <numeric>\n",
       "       Peak1         0\n",
       "       Peak2         0\n",
       "       Peak3         0\n",
       "       Peak4         0\n",
       "       Peak5         0\n",
       "         ...       ...\n",
       "  Peak236014         0\n",
       "  Peak236015         0\n",
       "  Peak236016         0\n",
       "  Peak236017         0\n",
       "  Peak236018         0\n",
       "  -------\n",
       "  seqinfo: 414 sequences from an unspecified genome; no seqlengths"
      ]
     },
     "metadata": {},
     "output_type": "display_data"
    }
   ],
   "source": [
    "Mlig_reordered_features"
   ]
  },
  {
   "cell_type": "code",
   "execution_count": 12,
   "id": "89ff8788",
   "metadata": {},
   "outputs": [
    {
     "name": "stderr",
     "output_type": "stream",
     "text": [
      "Import genomic features from the file as a GRanges object ... \n",
      "OK\n",
      "\n",
      "Prepare the 'metadata' data frame ... \n",
      "OK\n",
      "\n",
      "Make the TxDb object ... \n",
      "OK\n",
      "\n"
     ]
    }
   ],
   "source": [
    "# Let's annotate the peaks for what type they are so that I can potentially put them in to the obs \n",
    "Mlig_txdb <- makeTxDbFromGFF(\"/Refs/Mlig_4_5.v5/Mlig_RNA_4_5.v5.coregenes.Chew.gtf\")\n",
    "#peak_file <- \"/media/gary/Chew/Schisto_ATAC/schisto_all/cc_ENCODE_peaks_CT/itoverlap_overlap_all.narrowPeak\""
   ]
  },
  {
   "cell_type": "code",
   "execution_count": 14,
   "id": "d9424f3f",
   "metadata": {},
   "outputs": [
    {
     "name": "stdout",
     "output_type": "stream",
     "text": [
      ">> preparing features information...\t\t 2023-06-01 06:17:52 PM \n",
      ">> identifying nearest features...\t\t 2023-06-01 06:17:52 PM \n",
      ">> calculating distance from peak to TSS...\t 2023-06-01 06:17:57 PM \n",
      ">> assigning genomic annotation...\t\t 2023-06-01 06:17:57 PM \n",
      ">> assigning chromosome lengths\t\t\t 2023-06-01 06:18:06 PM \n",
      ">> done...\t\t\t\t\t 2023-06-01 06:18:06 PM \n"
     ]
    }
   ],
   "source": [
    "Mlig_peakAnno <- annotatePeak(Mlig_reordered_features, tssRegion=c(-1000, 1000),genomicAnnotationPriority = c(\"Promoter\", \"Exon\", \"Intron\", \"3UTR\", \"5UTR\",\"Downstream\", \"Intergenic\"),\n",
    "                         TxDb=Mlig_txdb, overlap=\"all\")"
   ]
  },
  {
   "cell_type": "code",
   "execution_count": 15,
   "id": "ed263f8d",
   "metadata": {},
   "outputs": [],
   "source": [
    "Mlig_peak_annot <- as.data.frame(Mlig_peakAnno@anno)\n",
    "write_csv(peak_annot,\"./Metadata/Mlig.chipseekr_annots.csv\")"
   ]
  }
 ],
 "metadata": {
  "kernelspec": {
   "display_name": "R",
   "language": "R",
   "name": "ir"
  },
  "language_info": {
   "codemirror_mode": "r",
   "file_extension": ".r",
   "mimetype": "text/x-r-source",
   "name": "R",
   "pygments_lexer": "r",
   "version": "4.1.3"
  }
 },
 "nbformat": 4,
 "nbformat_minor": 5
}
