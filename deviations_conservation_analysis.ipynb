{
 "cells": [
  {
   "cell_type": "markdown",
   "id": "ecab8f0b-9163-4dee-a8e5-94b654eca101",
   "metadata": {},
   "source": [
    "**!!! This notebook must be run from within the SAMap docker container !!!**\n",
    "\n",
    "While there should actually be no conceptually necessary dependence on SAM to carry out this analysis, it's where we started working on it and so everything is kept there just for consistency"
   ]
  },
  {
   "cell_type": "code",
   "execution_count": null,
   "id": "4c1b8ff8-029e-49b9-9231-ecc7fd0e0d9d",
   "metadata": {
    "tags": []
   },
   "outputs": [],
   "source": [
    "# Install packages not present in SAMap by default\n",
    "! pip install logomaker\n",
    "# This should fix an anndata compatibility issue\n",
    "! pip install --upgrade scanpy"
   ]
  },
  {
   "cell_type": "code",
   "execution_count": null,
   "id": "27acd6b5-b84a-4a52-aa40-e580e5707ac9",
   "metadata": {},
   "outputs": [],
   "source": [
    "import anndata\n",
    "import matplotlib\n",
    "import matplotlib.pyplot as plt\n",
    "from matplotlib.backends.backend_pdf import PdfPages\n",
    "import numpy as np\n",
    "import pandas as pd\n",
    "import scanpy as sc\n",
    "from sklearn.linear_model import LogisticRegression\n",
    "from sklearn.metrics import confusion_matrix, matthews_corrcoef\n",
    "from sklearn.model_selection import train_test_split\n",
    "from scipy import sparse, stats\n",
    "import statsmodels.api as sm\n",
    "import re\n",
    "from samalg import SAM\n",
    "from scipy.stats import zscore\n",
    "import os\n",
    "from tqdm import tqdm\n",
    "from numba import njit, jit, prange\n",
    "import seaborn as sns\n",
    "import gc\n",
    "\n",
    "from scipy.special import softmax\n",
    "from scipy.spatial.distance import squareform, pdist\n",
    "from scipy.cluster.hierarchy import fcluster, linkage, dendrogram\n",
    "\n",
    "matplotlib.rcParams.update({'font.size': 12})\n",
    "%config InlineBackend.figure_format = 'retina'"
   ]
  },
  {
   "cell_type": "markdown",
   "id": "192017ae-2276-43a3-8d04-13305fd368b0",
   "metadata": {},
   "source": [
    "# Utility functions"
   ]
  },
  {
   "cell_type": "code",
   "execution_count": null,
   "id": "4a8e48b9-3faf-43ce-abed-863bc30fa2a2",
   "metadata": {},
   "outputs": [],
   "source": [
    "# Calculate confidence interval for \n",
    "# standard deviation estimate\n",
    "@njit(parallel=True)\n",
    "def bsStd( X, nBS=500, alpha=0.01 ):\n",
    "    sds = np.zeros(nBS)\n",
    "    for i in prange(nBS):\n",
    "        sds[i] = np.random.choice(X,X.size).std()\n",
    "    return ( np.quantile( sds, alpha/2 ),\n",
    "             sds.mean(),\n",
    "             np.quantile( sds, 1- alpha/2 ) )\n",
    "\n",
    "bsStd( np.random.normal( size=500 ) )"
   ]
  },
  {
   "cell_type": "code",
   "execution_count": null,
   "id": "dd9f4a1a-11cd-41a4-b1c5-ae1bce216f69",
   "metadata": {},
   "outputs": [],
   "source": [
    "import logomaker\n",
    "\n",
    "def readMEME( fname ):\n",
    "    outPFMs = {}\n",
    "    outNames = []\n",
    "    pfm = []\n",
    "    name = ''\n",
    "    with open( fname, 'r' ) as f:\n",
    "        for line in f.readlines():\n",
    "            l = line.strip()\n",
    "            if len(l) == 0:\n",
    "                if len(pfm) > 0:\n",
    "                    outNames.append(name)\n",
    "                    outPFMs[name] = np.array(pfm).astype('float')\n",
    "                    pfm = []\n",
    "                continue\n",
    "                \n",
    "            if l.startswith('MOTIF'):\n",
    "                name = l.split()[1]\n",
    "            elif l[0].isdigit():\n",
    "                pfm.append( l.split()[:4] )\n",
    "            elif len(pfm) > 0:\n",
    "                outNames.append(name)\n",
    "                outPFMs[name] = np.array(pfm).astype('float')\n",
    "                pfm = []\n",
    "        if len(pfm) > 0:\n",
    "            outNames.append(name)\n",
    "            outPFMs[name] = np.array(pfm).astype('float')\n",
    "            pfm = []\n",
    "    return outPFMs, np.array(outNames)\n",
    "\n",
    "@njit\n",
    "def addPFMPseudoCount( pfm, pseudo ):\n",
    "    plusPseudo = pfm + (pseudo*pfm.sum(1)/(1-4*pseudo)).reshape(-1,1)\n",
    "    return plusPseudo / plusPseudo.sum(1).reshape(-1,1)\n",
    "\n",
    "addPFMPseudoCount( np.array([[1,0,0,0]]), 0.001 )\n",
    "\n",
    "@jit(forceobj=True)\n",
    "def relativeInfo( pfm, bkgGC=0.5 ):\n",
    "    gc = bkgGC / 2\n",
    "    at = 0.5 - gc\n",
    "    background = np.array([[at,gc,gc,at]])\n",
    "    # return (pfm*(np.nan_to_num(np.log2(pfm))+2)) + 0\n",
    "    return (pfm*(np.nan_to_num(np.log2(pfm))-np.log2(background))) + 0\n",
    "\n",
    "relativeInfo( np.array([[1,0,0,0],[0.25,0.25,0.25,0.25],[0.1,0.1,0.1,0.7]]) )\n",
    "\n",
    "# Generate a logomaker Logo object from a PFM\n",
    "# Input will be a N x 4 numpy array\n",
    "# Pseudocounts will be added to avoid log(0)\n",
    "def makeLogoFromPFM( pfm, pseudo=0.001, bkgGC=0.5 ):\n",
    "    info = relativeInfo( addPFMPseudoCount(pfm,pseudo), bkgGC )\n",
    "    df = pd.DataFrame( data=info, columns=['A','C','G','T'] )\n",
    "    logo = logomaker.Logo( df )\n",
    "    logo.ax.set_yticks([0,1,2])\n",
    "    logo.style_spines(visible=False)\n",
    "    logo.style_spines(spines=['left', 'bottom'], visible=True)\n",
    "    return logo\n",
    "\n",
    "pfms, motifNames = readMEME( 'motif_clustering_data/all_motif_clusters.annot.meme' )\n",
    "motifNames.size"
   ]
  },
  {
   "cell_type": "code",
   "execution_count": null,
   "id": "817673f2-3635-4d4e-b5ab-03b98d090c12",
   "metadata": {},
   "outputs": [],
   "source": [
    "# Colormap with quadratically scaled Reds\n",
    "custom_cmap = matplotlib.colors\\\n",
    "                .LinearSegmentedColormap.from_list( 'custom', plt.get_cmap('Reds')\\\n",
    "                                                                   (np.linspace(0,1,100)**(2)) )"
   ]
  },
  {
   "cell_type": "markdown",
   "id": "8a0e3ba0-9470-4c5a-be0a-879c33aafd69",
   "metadata": {},
   "source": [
    "# Load in and process the data"
   ]
  },
  {
   "cell_type": "markdown",
   "id": "a4e46e70-8e28-4ffb-98c5-7d5992d0b3ca",
   "metadata": {},
   "source": [
    "## *M. lignano*"
   ]
  },
  {
   "cell_type": "code",
   "execution_count": null,
   "id": "57bf837c-d4e9-4b75-94dc-d2dbb094b8b1",
   "metadata": {},
   "outputs": [],
   "source": [
    "adataM = sc.read_h5ad( 'ChromVARDeviations/Mlig.SEACells_devs.h5ad' )"
   ]
  },
  {
   "cell_type": "code",
   "execution_count": null,
   "id": "366ad894-605c-4bce-b684-e12ffff6a9d1",
   "metadata": {},
   "outputs": [],
   "source": [
    "adataM.var['Source'] = 'JASPAR'\n",
    "adataM.var.loc[adataM.var_names.str.startswith('WC_'),'Source'] = 'MODISCO'\n",
    "adataM.var"
   ]
  },
  {
   "cell_type": "markdown",
   "id": "aea2ba2c-51bd-4b1e-b704-a7a5727b47bc",
   "metadata": {},
   "source": [
    "Process and save a SAM object"
   ]
  },
  {
   "cell_type": "code",
   "execution_count": null,
   "id": "7acdd7b6-4304-4049-8c9f-970f1b8a3938",
   "metadata": {},
   "outputs": [],
   "source": [
    "samM = SAM( counts=adataM[:,:] )\n",
    "samM.preprocess_data( filter_genes=False, sum_norm=None, norm=None, min_expression=-np.inf )\n",
    "samM.run( weight_mode='rms', batch_key='Sample', k=5 )"
   ]
  },
  {
   "cell_type": "code",
   "execution_count": null,
   "id": "9331fe8d-a1c8-4da0-a4f8-33dd21b9138b",
   "metadata": {},
   "outputs": [],
   "source": [
    "samM.save( 'ChromVARDeviations/Mlig.SEACells_devs_SAM.pkl' )"
   ]
  },
  {
   "cell_type": "code",
   "execution_count": null,
   "id": "11287456-49d5-4ee4-838e-5609b404aae5",
   "metadata": {},
   "outputs": [],
   "source": [
    "samM = SAM()\n",
    "samM.load( 'ChromVARDeviations/Mlig.SEACells_devs_SAM.pkl' )"
   ]
  },
  {
   "cell_type": "code",
   "execution_count": null,
   "id": "01e3ac1c-7f60-412b-be6d-7713a2ad7605",
   "metadata": {},
   "outputs": [],
   "source": [
    "fig = plt.figure( figsize=(8,6) )\n",
    "sc.pl.umap( samM.adata, ax=fig.gca(), color='Sample', size=50 )\n",
    "plt.show()"
   ]
  },
  {
   "cell_type": "code",
   "execution_count": null,
   "id": "038e9db3-78fc-480a-8271-74699a79c8af",
   "metadata": {},
   "outputs": [],
   "source": [
    "fig = plt.figure( figsize=(8,6) )\n",
    "sc.pl.umap( samM.adata, ax=fig.gca(), color='GroupFigure', size=50, legend_loc='right margin' )\n",
    "plt.show()"
   ]
  },
  {
   "cell_type": "code",
   "execution_count": null,
   "id": "9e04dd03-a835-4c6e-a4d6-be76a243c9d9",
   "metadata": {},
   "outputs": [],
   "source": [
    "samM.dispersion_ranking_NN(save_avgs=True)"
   ]
  },
  {
   "cell_type": "markdown",
   "id": "e63b36c6-bbd8-46d5-a0f7-0d17ab0f562c",
   "metadata": {},
   "source": [
    "## *S. mediterranea*"
   ]
  },
  {
   "cell_type": "code",
   "execution_count": null,
   "id": "06ff335a-1336-4d00-92e1-4264f683a26a",
   "metadata": {},
   "outputs": [],
   "source": [
    "adataP = sc.read_h5ad( 'ChromVARDeviations/Smed.SEACells_devs.h5ad' )"
   ]
  },
  {
   "cell_type": "code",
   "execution_count": null,
   "id": "cc8d042b-8093-4422-9124-43c26dddd574",
   "metadata": {},
   "outputs": [],
   "source": [
    "adataP.var['Source'] = 'JASPAR'\n",
    "adataP.var.loc[adataP.var_names.str.startswith('WC_'),'Source'] = 'MODISCO'\n",
    "adataP.var"
   ]
  },
  {
   "cell_type": "markdown",
   "id": "1a378ac9-47e0-47b3-9a28-ee74dcba27c0",
   "metadata": {},
   "source": [
    "Process and save a SAM object"
   ]
  },
  {
   "cell_type": "code",
   "execution_count": null,
   "id": "ee02aa57-4537-4553-b4e9-1b39ea58fda9",
   "metadata": {},
   "outputs": [],
   "source": [
    "samP = SAM( counts=adataP[:,:] )\n",
    "samP.preprocess_data( filter_genes=False, sum_norm=None, norm=None, min_expression=-np.inf )\n",
    "samP.run( weight_mode='rms', batch_key='Sample', k=5 )"
   ]
  },
  {
   "cell_type": "code",
   "execution_count": null,
   "id": "0e429564-d8ef-4a60-969f-f54aa695fc34",
   "metadata": {},
   "outputs": [],
   "source": [
    "samP.save( 'ChromVARDeviations/Smed.SEACells_devs_SAM.pkl' )"
   ]
  },
  {
   "cell_type": "code",
   "execution_count": null,
   "id": "15d94377-b449-49d9-a97b-abed8f9eb387",
   "metadata": {},
   "outputs": [],
   "source": [
    "samP = SAM()\n",
    "samP.load( 'ChromVARDeviations/Smed.SEACells_devs_SAM.pkl' )"
   ]
  },
  {
   "cell_type": "code",
   "execution_count": null,
   "id": "3da7b6f7-c1a3-4fc1-bc5f-37b525547eb2",
   "metadata": {},
   "outputs": [],
   "source": [
    "fig = plt.figure( figsize=(8,6) )\n",
    "sc.pl.umap( samP.adata, ax=fig.gca(), color='Sample', size=50 )\n",
    "plt.show()"
   ]
  },
  {
   "cell_type": "code",
   "execution_count": null,
   "id": "a1e2f828-984b-4936-b10b-2d23cb2a24a7",
   "metadata": {},
   "outputs": [],
   "source": [
    "fig = plt.figure( figsize=(8,6) )\n",
    "sc.pl.umap( samP.adata, ax=fig.gca(), color='GroupFigure', size=50, legend_loc='right margin' )\n",
    "plt.show()"
   ]
  },
  {
   "cell_type": "code",
   "execution_count": null,
   "id": "314fe157-ce9a-4420-a7b0-041c4823ee3c",
   "metadata": {},
   "outputs": [],
   "source": [
    "samP.dispersion_ranking_NN(save_avgs=True)"
   ]
  },
  {
   "cell_type": "markdown",
   "id": "f5ea4278-9a10-4cce-ad51-02fce288376d",
   "metadata": {},
   "source": [
    "## *S. mansoni*"
   ]
  },
  {
   "cell_type": "code",
   "execution_count": null,
   "id": "cf1c418b-9ebc-4c8d-b558-4504e419c078",
   "metadata": {},
   "outputs": [],
   "source": [
    "adataS = sc.read_h5ad( 'ChromVARDeviations/Sman.SEACells_devs.h5ad' )"
   ]
  },
  {
   "cell_type": "code",
   "execution_count": null,
   "id": "1fa05ffa-489a-4ede-a30f-b461c8485e32",
   "metadata": {},
   "outputs": [],
   "source": [
    "adataS.var['Source'] = 'JASPAR'\n",
    "adataS.var.loc[adataS.var_names.str.startswith('WC_'),'Source'] = 'MODISCO'\n",
    "adataS.var"
   ]
  },
  {
   "cell_type": "markdown",
   "id": "7b88b1e4-0957-4a86-a65e-f45636e64b3a",
   "metadata": {},
   "source": [
    "Process and save a SAM object"
   ]
  },
  {
   "cell_type": "code",
   "execution_count": null,
   "id": "d45007c3-7398-4277-a394-2f041d6c318f",
   "metadata": {},
   "outputs": [],
   "source": [
    "samS = SAM( counts=adataS[:,:] )\n",
    "samS.preprocess_data( filter_genes=False, sum_norm=None, norm=None, min_expression=-np.inf )\n",
    "samS.run( weight_mode='rms', batch_key='Sample', k=5 )"
   ]
  },
  {
   "cell_type": "code",
   "execution_count": null,
   "id": "2e783033-e05a-4b64-b891-b76d5ba86a0c",
   "metadata": {},
   "outputs": [],
   "source": [
    "samS.save( 'ChromVARDeviations/Sman.SEACells_devs_SAM.pkl' )"
   ]
  },
  {
   "cell_type": "code",
   "execution_count": null,
   "id": "d2c461ca-538e-4e03-bdc5-fa1b7b6f63a7",
   "metadata": {},
   "outputs": [],
   "source": [
    "samS = SAM()\n",
    "samS.load( 'ChromVARDeviations/Sman.SEACells_devs_SAM.pkl' )"
   ]
  },
  {
   "cell_type": "code",
   "execution_count": null,
   "id": "804ed598-3f2a-468d-bafa-f7f2eb5b18c0",
   "metadata": {},
   "outputs": [],
   "source": [
    "fig = plt.figure( figsize=(8,6) )\n",
    "sc.pl.umap( samS.adata, ax=fig.gca(), color='Sample', size=50 )\n",
    "plt.show()"
   ]
  },
  {
   "cell_type": "code",
   "execution_count": null,
   "id": "951c2514-5389-4d50-8303-a9a78313f5a5",
   "metadata": {},
   "outputs": [],
   "source": [
    "fig = plt.figure( figsize=(8,6) )\n",
    "sc.pl.umap( samS.adata, ax=fig.gca(), color='GroupFigure', size=50, legend_loc='right margin' )\n",
    "plt.show()"
   ]
  },
  {
   "cell_type": "code",
   "execution_count": null,
   "id": "29e6f631-fddd-46f2-b378-bc7754918ca7",
   "metadata": {},
   "outputs": [],
   "source": [
    "samS.dispersion_ranking_NN(save_avgs=True)"
   ]
  },
  {
   "cell_type": "markdown",
   "id": "b3ee7def-5d06-4c31-a609-b0662c07112e",
   "metadata": {},
   "source": [
    "# Check some basic stats"
   ]
  },
  {
   "cell_type": "code",
   "execution_count": null,
   "id": "b07464bd-967a-4a27-833b-c9c5bf4f76e6",
   "metadata": {},
   "outputs": [],
   "source": [
    "# Comparing SAM weights between species\n",
    "weightDF = pd.concat( (samM.adata.var.weights.to_frame(),\n",
    "                       samP.adata.var.weights.to_frame(),\n",
    "                       samS.adata.var.weights.to_frame()), \n",
    "                       axis=1 )\n",
    "weightDF.columns = ['weight_Mlig','weight_Smed','weight_Sman']\n",
    "sns.pairplot( weightDF )\n",
    "plt.show()"
   ]
  },
  {
   "cell_type": "markdown",
   "id": "23afe6d6-3079-4aaa-ba29-fb088401e74a",
   "metadata": {},
   "source": [
    "## Which motifs are highly variable"
   ]
  },
  {
   "cell_type": "code",
   "execution_count": null,
   "id": "f21d33e6-c898-470d-bb6d-dca5dd48d777",
   "metadata": {},
   "outputs": [],
   "source": [
    "sdM = np.zeros((3,samM.adata.n_vars))\n",
    "np.random.seed(0)\n",
    "\n",
    "for i in tqdm(range(samM.adata.n_vars)):\n",
    "    sdM[0,i], sdM[1,i], sdM[2,i] = bsStd( samM.adata.X.A[:,i].flatten() )\n",
    "    \n",
    "print( (sdM[0,:] > 1).sum() ) # 1171"
   ]
  },
  {
   "cell_type": "code",
   "execution_count": null,
   "id": "e661a35b-fd33-4afd-9fb2-2bc77a0addd0",
   "metadata": {},
   "outputs": [],
   "source": [
    "sdP = np.zeros((3,samP.adata.n_vars))\n",
    "np.random.seed(0)\n",
    "\n",
    "for i in tqdm(range(samP.adata.n_vars)):\n",
    "    sdP[0,i], sdP[1,i], sdP[2,i] = bsStd( samP.adata.X.A[:,i].flatten() )\n",
    "    \n",
    "print( (sdP[0,:] > 1).sum() ) # 1152"
   ]
  },
  {
   "cell_type": "code",
   "execution_count": null,
   "id": "d1f901e1-90a1-4c2a-a2b5-c3ed726ab3c4",
   "metadata": {},
   "outputs": [],
   "source": [
    "sdS = np.zeros((3,samS.adata.n_vars))\n",
    "np.random.seed(0)\n",
    "\n",
    "for i in tqdm(range(samS.adata.n_vars)):\n",
    "    sdS[0,i], sdS[1,i], sdS[2,i] = bsStd( samS.adata.X.A[:,i].flatten() )\n",
    "    \n",
    "print( (sdS[0,:] > 1).sum() ) # 1120"
   ]
  },
  {
   "cell_type": "code",
   "execution_count": null,
   "id": "11429f53-c140-433d-ad28-e13776a02bc3",
   "metadata": {},
   "outputs": [],
   "source": [
    "highlyVariable = (sdM[1,:] > 1) & (sdS[1,:] > 1) & (sdP[1,:] > 1)\n",
    "highlyVariable.sum() # 1096"
   ]
  },
  {
   "cell_type": "markdown",
   "id": "8e7db9bf-f70e-450b-85fb-300bbd501221",
   "metadata": {},
   "source": [
    "## Adding cell type family annotations"
   ]
  },
  {
   "cell_type": "code",
   "execution_count": null,
   "id": "0d277819-2738-4cd1-b687-2691e9566224",
   "metadata": {},
   "outputs": [],
   "source": [
    "# Order to show the different families in\n",
    "tOrder = np.array(['Epidermal','Germline','Intestine','Muscle','Neoblast',\n",
    "                   'Neural','Protonephridia','Cathepsin','Parenchymal'])\n",
    "\n",
    "# Get unique clusters for each species\n",
    "uLabelsM = np.sort(samM.adata.obs.GroupFigure.unique())\n",
    "uLabelsM = uLabelsM[~np.isin(uLabelsM,['???-1'])]\n",
    "uLabelsS = np.sort(samS.adata.obs.GroupFigure.unique())\n",
    "uLabelsP = np.sort(samP.adata.obs.GroupFigure.unique())\n",
    "\n",
    "# Build a matrix of size (n_families,n_clusters) for\n",
    "# mapping clusters to their families for each species\n",
    "tMapM = np.zeros((len(tOrder),len(uLabelsM)))\n",
    "tMapM[tOrder=='Epidermal',np.isin(uLabelsM,['Epidermal-1','Epidermal-2',\n",
    "                                            'Epidermal Progenitors'])] = 1\n",
    "tMapM[tOrder=='Germline',np.isin(uLabelsM,['GSC','Female Germline','Male Germline'])] = 1\n",
    "tMapM[tOrder=='Intestine',np.isin(uLabelsM,['Intestine-1','Intestine-2'])] = 1\n",
    "tMapM[tOrder=='Muscle',np.isin(uLabelsM,['Muscle'])] = 1\n",
    "tMapM[tOrder=='Neoblast',np.isin(uLabelsM,['Neoblast'])] = 1\n",
    "tMapM[tOrder=='Neural',np.isin(uLabelsM,['Neural-1','Neural-2','Neural-3','Neural-4',\n",
    "                                         'Neural-5','Neural Progenitors'])] = 1\n",
    "tMapM[tOrder=='Protonephridia',np.isin(uLabelsM,['Protonephridia'])] = 1\n",
    "tMapM[tOrder=='Cathepsin',np.isin(uLabelsM,['Cathepsin'])] = 1\n",
    "tMapM[tOrder=='Parenchymal',np.isin(uLabelsM,['Parenchymal-1','Parenchymal-2','Parenchymal-3',\n",
    "                                              'Parenchymal-4','Parenchymal-5'])] = 1\n",
    "\n",
    "\n",
    "tMapS = np.zeros((len(tOrder),len(uLabelsS)))\n",
    "tMapS[tOrder=='Epidermal',np.isin(uLabelsS,['Tegument-1','Tegument-2','Tegument Progenitors'])] = 1\n",
    "tMapS[tOrder=='Germline',np.isin(uLabelsS,['GSC'])] = 1\n",
    "tMapS[tOrder=='Intestine',np.isin(uLabelsS,['Intestine'])] = 1\n",
    "tMapS[tOrder=='Muscle',np.isin(uLabelsS,['Muscle-1','Muscle-2','Muscle-3','Muscle Progenitors'])] = 1\n",
    "tMapS[tOrder=='Neoblast',np.isin(uLabelsS,['Neoblast'])] = 1\n",
    "tMapS[tOrder=='Neural',np.isin(uLabelsS,['Neural-1','Neural-2','Neural-3','Neural-4','Neural-5',\n",
    "                                         'Neural-6','Neural Progenitors'])] = 1\n",
    "tMapS[tOrder=='Protonephridia',np.isin(uLabelsS,['Protonephridia'])] = 1\n",
    "tMapS[tOrder=='Cathepsin',np.isin(uLabelsS,['Cathepsin'])] = 1\n",
    "\n",
    "tMapP = np.zeros((len(tOrder),len(uLabelsP)))\n",
    "tMapP[tOrder=='Epidermal',np.isin(uLabelsP,['Epidermal-1','Epidermal-2'])] = 1\n",
    "tMapP[tOrder=='Germline',np.isin(uLabelsP,['GSC','GSC progeny/diff germline'])] = 1\n",
    "tMapP[tOrder=='Intestine',np.isin(uLabelsP,['Intestine-1','Intestine-2'])] = 1\n",
    "tMapP[tOrder=='Muscle',np.isin(uLabelsP,['Muscle-1','Muscle-2','Muscle-3'])] = 1\n",
    "tMapP[tOrder=='Neoblast',np.isin(uLabelsP,['Neoblast-1','Neoblast-2'])] = 1\n",
    "tMapP[tOrder=='Neural',np.isin(uLabelsP,['Neural-1','Neural-2','Neural-3',\n",
    "                                         'Neural Progenitors'])] = 1\n",
    "tMapP[tOrder=='Protonephridia',np.isin(uLabelsP,['Protonephridia'])] = 1\n",
    "tMapP[tOrder=='Cathepsin',np.isin(uLabelsP,['Cathepsin'])] = 1\n",
    "tMapP[tOrder=='Parenchymal',np.isin(uLabelsP,['Parenchymal'])] = 1"
   ]
  },
  {
   "cell_type": "markdown",
   "id": "77c9bf0d-9ffe-4366-9e12-8b2363b4fac8",
   "metadata": {},
   "source": [
    "# Random deviations plots"
   ]
  },
  {
   "cell_type": "code",
   "execution_count": null,
   "id": "e9ff6f01-c2fa-49e9-a7d6-b014c3797dfd",
   "metadata": {},
   "outputs": [],
   "source": [
    "# Deviations for the germline bZIP motif\n",
    "\n",
    "tmp = samM.adata.obs.GroupFigure.to_frame()\n",
    "tmp['GroupFigure'] = tmp.GroupFigure.astype('str')\n",
    "tmp.loc[tmp.GroupFigure.str.contains('GSC'),'GroupFigure'] = 'GSC'\n",
    "tmp.loc[~tmp.GroupFigure.str.contains('GSC'),'GroupFigure'] = 'Background'\n",
    "tmp['Acc'] = (samM.adata[:,'JC_0117|FOSL1(0.043)'].X.A)\n",
    "# Scale deviations to have the same standard deviations\n",
    "tmp.loc[:,'Acc'] = tmp.Acc / tmp.Acc.std()\n",
    "tmp['Species'] = 'Mlig'\n",
    "\n",
    "df = tmp.copy()\n",
    "\n",
    "tmp = samP.adata.obs.GroupFigure.to_frame()\n",
    "tmp['GroupFigure'] = tmp.GroupFigure.astype('str')\n",
    "tmp.loc[tmp.GroupFigure.str.contains('GSC'),'GroupFigure'] = 'GSC'\n",
    "tmp.loc[~tmp.GroupFigure.str.contains('GSC'),'GroupFigure'] = 'Background'\n",
    "tmp['Acc'] = (samP.adata[:,'JC_0117|FOSL1(0.043)'].X.A)\n",
    "tmp.loc[:,'Acc'] = tmp.Acc / tmp.Acc.std()\n",
    "tmp['Species'] = 'Smed'\n",
    "\n",
    "df = pd.concat( (df,tmp), axis=0 ).reset_index(drop=True)\n",
    "\n",
    "tmp = samS.adata.obs.GroupFigure.to_frame()\n",
    "tmp['GroupFigure'] = tmp.GroupFigure.astype('str')\n",
    "tmp.loc[tmp.GroupFigure.str.contains('GSC'),'GroupFigure'] = 'GSC'\n",
    "tmp.loc[~tmp.GroupFigure.str.contains('GSC'),'GroupFigure'] = 'Background'\n",
    "tmp['Acc'] = (samS.adata[:,'JC_0117|FOSL1(0.043)'].X.A)\n",
    "tmp.loc[:,'Acc'] = tmp.Acc / tmp.Acc.std()\n",
    "tmp['Species'] = 'Sman'\n",
    "\n",
    "df = pd.concat( (df,tmp), axis=0 ).reset_index(drop=True)\n",
    "\n",
    "# Identify points that are really far outside the \n",
    "# interquartile range and plot these as outliers\n",
    "# to help with smoothing the violins a bit\n",
    "\n",
    "df['Outlier'] = False\n",
    "qrScale = 1.5\n",
    "\n",
    "for key, grp in df.groupby(['Species','GroupFigure']):\n",
    "    q = np.quantile( grp.Acc, [0.25,0.75] )\n",
    "    qr = q[1] - q[0]\n",
    "    outliers = (grp.Acc<q[0]-qrScale*qr) | (grp.Acc>q[1]+qrScale*qr)\n",
    "    df.loc[grp.index,'Outlier'] = outliers\n",
    "\n",
    "g = sns.catplot( data=df[~df.Outlier], x='Species', y='Acc', hue='GroupFigure',\n",
    "                 kind='violin', hue_order=['GSC','Background'], \n",
    "                 order=['Mlig','Smed','Sman'], aspect=1, legend=False )\n",
    "sns.stripplot( data=df[df.Outlier], x='Species', y='Acc', hue='GroupFigure',\n",
    "               dodge=True, hue_order=['GSC','Background'], marker='D',\n",
    "               order=['Mlig','Smed','Sman'], ax=g.ax, jitter=0, size=2.5 )\n",
    "sns.despine( left=True, bottom=True )\n",
    "\n",
    "g.ax.set_xlabel( 'Cell type' )\n",
    "g.ax.set_ylabel( 'Motif Deviations' )\n",
    "g.ax.axhline(0)\n",
    "plt.savefig( 'Plots/EDFig5/PanelED5b.svg', format='svg' )\n",
    "plt.show()"
   ]
  },
  {
   "cell_type": "code",
   "execution_count": null,
   "id": "2963cabc-1c03-4ecf-8608-93ba8b01d3ff",
   "metadata": {},
   "outputs": [],
   "source": [
    "# Deviations for the NR4A-like motif in different schisto cell types\n",
    "\n",
    "tmp = samS.adata.obs.GroupFigure.to_frame()\n",
    "tmp['GroupFigure'] = tmp.GroupFigure.astype('str')\n",
    "tmp.loc[tmp.GroupFigure.str.contains('Muscle'),'GroupFigure'] = 'Muscle'\n",
    "tmp.loc[tmp.GroupFigure.str.contains('Vitellocytes'),'GroupFigure'] = 'Vitellocytes'\n",
    "tmp.loc[~tmp.GroupFigure.str.contains('Muscle') &\\\n",
    "        ~tmp.GroupFigure.str.contains('Vitellocytes'),'GroupFigure'] = 'Background'\n",
    "tmp['Acc'] = (samS.adata.X[:,samS.adata.var_names=='JC_0057|NR4A1(0.322)'].A)\n",
    "tmp['Motif'] = 'Canonical'\n",
    "tmp['Species'] = 'Sman'\n",
    "\n",
    "df = tmp.copy()\n",
    "\n",
    "tmp = samS.adata.obs.GroupFigure.to_frame()\n",
    "tmp['GroupFigure'] = tmp.GroupFigure.astype('str')\n",
    "tmp.loc[tmp.GroupFigure.str.contains('Muscle'),'GroupFigure'] = 'Muscle'\n",
    "tmp.loc[tmp.GroupFigure.str.contains('Vitellocytes'),'GroupFigure'] = 'Vitellocytes'\n",
    "tmp.loc[~tmp.GroupFigure.str.contains('Muscle') &\\\n",
    "        ~tmp.GroupFigure.str.contains('Vitellocytes'),'GroupFigure'] = 'Background'\n",
    "tmp['Acc'] = (samS.adata.X[:,samS.adata.var_names=='WC_1094|NR4A1(0.838)'].A)\n",
    "tmp['Motif'] = 'Novel'\n",
    "tmp['Species'] = 'Sman'\n",
    "\n",
    "df = pd.concat( (df,tmp), axis=0 ).reset_index(drop=True)\n",
    "\n",
    "# Same deal with identifying outliers\n",
    "df['Outlier'] = False\n",
    "qrScale = 1.5\n",
    "\n",
    "for key, grp in df.groupby(['Motif','GroupFigure']):\n",
    "    q = np.quantile( grp.Acc, [0.25,0.75] )\n",
    "    qr = q[1] - q[0]\n",
    "    outliers = (grp.Acc<q[0]-qrScale*qr) | (grp.Acc>q[1]+qrScale*qr)\n",
    "    df.loc[grp.index,'Outlier'] = outliers\n",
    "\n",
    "g = sns.catplot( data=df[~df.Outlier], x='GroupFigure', y='Acc', hue='Motif',\n",
    "                 kind='violin', hue_order=['Canonical','Novel'], \n",
    "                 order=['Muscle','Vitellocytes','Background'], aspect=1, legend=False )\n",
    "sns.stripplot( data=df[df.Outlier], x='GroupFigure', y='Acc', hue='Motif',\n",
    "               dodge=True, hue_order=['Canonical','Novel'], marker='D',\n",
    "               order=['Muscle','Vitellocytes','Background'], ax=g.ax, jitter=0, size=2.5 )\n",
    "sns.despine( left=True, bottom=True )\n",
    "\n",
    "g.ax.set_xlabel( 'Tissue' )\n",
    "g.ax.set_ylabel( 'Motif Deviations' )\n",
    "g.ax.axhline(0)\n",
    "plt.savefig( 'Plots/EDFig5/PanelED5d.svg', format='svg' )\n",
    "plt.show()"
   ]
  },
  {
   "cell_type": "markdown",
   "id": "80074f09-ad06-4941-b240-738476c8d8c6",
   "metadata": {},
   "source": [
    "# Comparing motif set predictive power"
   ]
  },
  {
   "cell_type": "code",
   "execution_count": null,
   "id": "b260ae13-7246-44e2-8c1a-50f6db2636bf",
   "metadata": {},
   "outputs": [],
   "source": [
    "# Train a logistic regression model and\n",
    "# return matthews correlations values \n",
    "# for predictions of each unique label\n",
    "# @param inTup: tuple of ( initialized LogisticRegression model,\n",
    "#                          predictor array used for training,\n",
    "#                          training labels,\n",
    "#                          predictor array used for testing,\n",
    "#                          testing labels )\n",
    "def _trainCalcMatthews( inTup ):\n",
    "    if inTup is None:\n",
    "        return -1\n",
    "    # unpack the input\n",
    "    model, Xtr, Ytr, Xte, Yte = inTup\n",
    "    # Fit and test the model\n",
    "    model = model.fit( Xtr, Ytr )\n",
    "    pred = model.predict( Xte )\n",
    "    # Get all unique labels\n",
    "    uLabels = np.sort(np.unique(np.concatenate((Ytr,Yte))))\n",
    "    # Calculate Matthews correlation for each\n",
    "    M = np.zeros(uLabels.size)\n",
    "    for i, label in enumerate(uLabels):\n",
    "        if label not in Yte:\n",
    "            continue\n",
    "        y = Yte == label\n",
    "        yhat = pred == label\n",
    "        M[i] = matthews_corrcoef( y, yhat )\n",
    "    # return array of Matthews correlations per label\n",
    "    return M\n",
    "\n",
    "# Train logistic regression models for one-vs-rest predictions\n",
    "# of discrete labels over K unique train-test splits, \n",
    "# return Matthews correlations for true and predicted labels\n",
    "# corresponding to each split\n",
    "# @param data: (N_observations,N_features) predictors matrix\n",
    "# @param labels: (N_observations,) vector of discrete labels\n",
    "# @param nSplit: integer number of train-test splits to try\n",
    "# @param testRatio: fraction of the data to hold out for testing\n",
    "# @param nProc: number of threads to run in parallel\n",
    "# @param seed: random seed\n",
    "# @param downsampleFeatures: number of features to feed into the models\n",
    "# @return tuple of ( unique labels from labels,\n",
    "#                    list of nSplit Matthews correlation values for \n",
    "#                      each unique label,\n",
    "#                    binary vector indicating whether each label is \n",
    "#                      linearly separable within the provided feature space )\n",
    "def calcKSplitsMatthewsPerClass( data, labels, nSplit=5, testRatio=0.2, nProc=1, \n",
    "                                 seed=0, downsampleFeatures=None ):\n",
    "    uLabels = np.sort(np.unique(labels))\n",
    "    \n",
    "    # First, check whether data are linearly separable\n",
    "    # Do this by training and testing on the whole dataset\n",
    "    print( 'Calculating linear separability' )\n",
    "    L = _trainCalcMatthews( ( LogisticRegression( penalty='l2', C=1e5, n_jobs=nProc ),\n",
    "                              data, labels, data, labels ) )\n",
    "    \n",
    "    # Next, do train/test splits to get an idea of consistency\n",
    "    np.random.seed( seed )\n",
    "    M = np.zeros( (nSplit,uLabels.size) )\n",
    "    inputs = []\n",
    "    print( 'Preparing splits' )\n",
    "    for i in tqdm( range(nSplit) ):\n",
    "        X = data.copy()\n",
    "        # Downsample the data, if desired\n",
    "        if downsampleFeatures is not None and \\\n",
    "           downsampleFeatures <= data.shape[1]:\n",
    "            dsInd = np.random.choice( data.shape[1], downsampleFeatures, replace=False )\n",
    "            X = X[:,dsInd]\n",
    "        # Pick a random train-test split\n",
    "        Xtr, Xte, Ytr, Yte = train_test_split( X, labels, \n",
    "                                               test_size=testRatio,\n",
    "                                               stratify=labels )\n",
    "        # Prepare the input tuple for this train-test split\n",
    "        inputs.append( ( LogisticRegression( penalty='l2', C=1e5 ),\n",
    "                         Xtr, Ytr, Xte, Yte ) )\n",
    "    print( 'Calculating per-class consistency' )\n",
    "    # Do the training and calculate performance metrics in parallel\n",
    "    with Pool(processes=nProc) as p:\n",
    "        M = np.array(p.map(_trainCalcMatthews, inputs))\n",
    "    print( 'Done' )\n",
    "    \n",
    "    return ( uLabels, M, L )"
   ]
  },
  {
   "cell_type": "code",
   "execution_count": null,
   "id": "18542a96-3a7e-4cbb-aa87-996ba89b6498",
   "metadata": {},
   "outputs": [],
   "source": [
    "nSplit = 10\n",
    "testRatio = 0.3\n",
    "matthewsDF = pd.DataFrame( columns=['Species','CellType','Tissue','Features','Matthews'] )\n",
    "\n",
    "matthewsDF"
   ]
  },
  {
   "cell_type": "markdown",
   "id": "60ce1fbf-6d0e-4b2f-9847-305e0f3332fd",
   "metadata": {},
   "source": [
    "## Looking at the complete motif set"
   ]
  },
  {
   "cell_type": "code",
   "execution_count": null,
   "id": "8f66e14c-3342-4165-b13f-7e0cfec70fcb",
   "metadata": {},
   "outputs": [],
   "source": [
    "# Run for Mlig\n",
    "cts, M, L = calcKSplitsMatthewsPerClass( samM.adata.X.A, samM.adata.obs.GroupFigure.values,\n",
    "                                         nSplit=nSplit, testRatio=testRatio, nProc=8 )\n",
    "print( 'Linear separability:' )\n",
    "print( list( zip( cts, L ) ) )\n",
    "print( 'Non linear-separable celltypes:' )\n",
    "print( list( zip( cts[L<1], L[L<1] ) ) )\n",
    "\n",
    "sp = ['Mlig']*M.size\n",
    "ct = np.concatenate([[c]*nSplit for c in cts])\n",
    "t = ['']*M.size\n",
    "f = ['MotifDevs']*M.size\n",
    "M = np.concatenate([M[:,i] for i in range(cts.size)])\n",
    "\n",
    "matthewsDF = pd.concat( (matthewsDF,pd.DataFrame( {'Species': sp,\n",
    "                                                   'CellType': ct,\n",
    "                                                   'Tissue': t,\n",
    "                                                   'Features': f,\n",
    "                                                   'Matthews': M} )), axis=0 ).reset_index(drop=True)\n",
    "matthewsDF"
   ]
  },
  {
   "cell_type": "code",
   "execution_count": null,
   "id": "4afbee13-e852-42b6-8f85-5e779c41ccb8",
   "metadata": {},
   "outputs": [],
   "source": [
    "# Run for Smed\n",
    "cts, M, L = calcKSplitsMatthewsPerClass( samP.adata.X.A, samP.adata.obs.GroupFigure.values,\n",
    "                                         nSplit=nSplit, testRatio=testRatio, nProc=8 )\n",
    "print( 'Linear separability:' )\n",
    "print( list( zip( cts, L ) ) )\n",
    "print( 'Non linear-separable celltypes:' )\n",
    "print( list( zip( cts[L<1], L[L<1] ) ) )\n",
    "\n",
    "sp = ['Smed']*M.size\n",
    "ct = np.concatenate([[c]*nSplit for c in cts])\n",
    "t = ['']*M.size\n",
    "f = ['MotifDevs']*M.size\n",
    "M = np.concatenate([M[:,i] for i in range(cts.size)])\n",
    "\n",
    "matthewsDF = pd.concat( (matthewsDF,pd.DataFrame( {'Species': sp,\n",
    "                                                   'CellType': ct,\n",
    "                                                   'Tissue': t,\n",
    "                                                   'Features': f,\n",
    "                                                   'Matthews': M} )), axis=0 ).reset_index(drop=True)\n",
    "matthewsDF"
   ]
  },
  {
   "cell_type": "code",
   "execution_count": null,
   "id": "ccebcf13-eb27-4d09-80b4-4e066e57e2db",
   "metadata": {},
   "outputs": [],
   "source": [
    "# Run for Sman\n",
    "cts, M, L = calcKSplitsMatthewsPerClass( samS.adata.X.A, samS.adata.obs.GroupFigure.values,\n",
    "                                         nSplit=nSplit, testRatio=testRatio, nProc=8 )\n",
    "print( 'Linear separability:' )\n",
    "print( list( zip( cts, L ) ) )\n",
    "print( 'Non linear-separable celltypes:' )\n",
    "print( list( zip( cts[L<1], L[L<1] ) ) )\n",
    "\n",
    "sp = ['Sman']*M.size\n",
    "ct = np.concatenate([[c]*nSplit for c in cts])\n",
    "t = ['']*M.size\n",
    "f = ['MotifDevs']*M.size\n",
    "M = np.concatenate([M[:,i] for i in range(cts.size)])\n",
    "\n",
    "matthewsDF = pd.concat( (matthewsDF,pd.DataFrame( {'Species': sp,\n",
    "                                                   'CellType': ct,\n",
    "                                                   'Tissue': t,\n",
    "                                                   'Features': f,\n",
    "                                                   'Matthews': M} )), axis=0 ).reset_index(drop=True)\n",
    "matthewsDF"
   ]
  },
  {
   "cell_type": "markdown",
   "id": "6189ee77-d7b2-43ae-98da-64a2308eb70c",
   "metadata": {},
   "source": [
    "## Repeat with the JC motifs only"
   ]
  },
  {
   "cell_type": "code",
   "execution_count": null,
   "id": "7906c923-fe94-4c51-8bc0-cb2b127ec4f3",
   "metadata": {},
   "outputs": [],
   "source": [
    "# Run for Mlig\n",
    "cts, M, L = calcKSplitsMatthewsPerClass( samM.adata[:,samM.adata.var.Source=='JASPAR'].X.A, \n",
    "                                         samM.adata.obs.GroupFigure.values,\n",
    "                                         nSplit=nSplit, testRatio=testRatio, nProc=8 )\n",
    "print( 'Linear separability:' )\n",
    "print( list( zip( cts, L ) ) )\n",
    "print( 'Non linear-separable celltypes:' )\n",
    "print( list( zip( cts[L<1], L[L<1] ) ) )\n",
    "\n",
    "sp = ['Mlig']*M.size\n",
    "ct = np.concatenate([[c]*nSplit for c in cts])\n",
    "t = ['']*M.size\n",
    "f = ['MotifDevsJASPAR']*M.size\n",
    "M = np.concatenate([M[:,i] for i in range(cts.size)])\n",
    "\n",
    "matthewsDF = pd.concat( (matthewsDF,pd.DataFrame( {'Species': sp,\n",
    "                                                  'CellType': ct,\n",
    "                                                  'Tissue': t,\n",
    "                                                  'Features': f,\n",
    "                                                  'Matthews': M} )), axis=0 ).reset_index(drop=True)\n",
    "matthewsDF"
   ]
  },
  {
   "cell_type": "code",
   "execution_count": null,
   "id": "76b9a20a-d9f5-4ea1-94ee-ebebf2863e1c",
   "metadata": {},
   "outputs": [],
   "source": [
    "# Run for Smed\n",
    "cts, M, L = calcKSplitsMatthewsPerClass( samP.adata[:,samP.adata.var.Source=='JASPAR'].X.A, \n",
    "                                         samP.adata.obs.GroupFigure.values,\n",
    "                                         nSplit=nSplit, testRatio=testRatio, nProc=8 )\n",
    "print( 'Linear separability:' )\n",
    "print( list( zip( cts, L ) ) )\n",
    "print( 'Non linear-separable celltypes:' )\n",
    "print( list( zip( cts[L<1], L[L<1] ) ) )\n",
    "\n",
    "sp = ['Smed']*M.size\n",
    "ct = np.concatenate([[c]*nSplit for c in cts])\n",
    "t = ['']*M.size\n",
    "f = ['MotifDevsJASPAR']*M.size\n",
    "M = np.concatenate([M[:,i] for i in range(cts.size)])\n",
    "\n",
    "matthewsDF = pd.concat( (matthewsDF,pd.DataFrame( {'Species': sp,\n",
    "                                                  'CellType': ct,\n",
    "                                                  'Tissue': t,\n",
    "                                                  'Features': f,\n",
    "                                                  'Matthews': M} )), axis=0 ).reset_index(drop=True)\n",
    "matthewsDF"
   ]
  },
  {
   "cell_type": "code",
   "execution_count": null,
   "id": "d88bc27a-191a-4976-a649-90bfac3dd775",
   "metadata": {},
   "outputs": [],
   "source": [
    "# Run for Sman\n",
    "cts, M, L = calcKSplitsMatthewsPerClass( samS.adata[:,samS.adata.var.Source=='JASPAR'].X.A, \n",
    "                                         samS.adata.obs.GroupFigure.values,\n",
    "                                         nSplit=nSplit, testRatio=testRatio, nProc=8 )\n",
    "print( 'Linear separability:' )\n",
    "print( list( zip( cts, L ) ) )\n",
    "print( 'Non linear-separable celltypes:' )\n",
    "print( list( zip( cts[L<1], L[L<1] ) ) )\n",
    "\n",
    "sp = ['Sman']*M.size\n",
    "ct = np.concatenate([[c]*nSplit for c in cts])\n",
    "t = ['']*M.size\n",
    "f = ['MotifDevsJASPAR']*M.size\n",
    "M = np.concatenate([M[:,i] for i in range(cts.size)])\n",
    "\n",
    "matthewsDF = pd.concat( (matthewsDF,pd.DataFrame( {'Species': sp,\n",
    "                                                  'CellType': ct,\n",
    "                                                  'Tissue': t,\n",
    "                                                  'Features': f,\n",
    "                                                  'Matthews': M} )), axis=0 ).reset_index(drop=True)\n",
    "matthewsDF"
   ]
  },
  {
   "cell_type": "markdown",
   "id": "3c71a72c-6024-4d7a-9cc8-f8e67a3fb2e0",
   "metadata": {},
   "source": [
    "## Repeat with the WC motifs only"
   ]
  },
  {
   "cell_type": "code",
   "execution_count": null,
   "id": "3223bb5d-0098-4811-826a-042f62b5f399",
   "metadata": {},
   "outputs": [],
   "source": [
    "# Run for Mlig\n",
    "cts, M, L = calcKSplitsMatthewsPerClass( samM.adata[:,samM.adata.var.Source=='MODISCO'].X.A, \n",
    "                                         samM.adata.obs.GroupFigure.values,\n",
    "                                         nSplit=nSplit, testRatio=testRatio, nProc=8 )\n",
    "print( 'Linear separability:' )\n",
    "print( list( zip( cts, L ) ) )\n",
    "print( 'Non linear-separable celltypes:' )\n",
    "print( list( zip( cts[L<1], L[L<1] ) ) )\n",
    "\n",
    "sp = ['Mlig']*M.size\n",
    "ct = np.concatenate([[c]*nSplit for c in cts])\n",
    "t = ['']*M.size\n",
    "f = ['MotifDevsMODISCO']*M.size\n",
    "M = np.concatenate([M[:,i] for i in range(cts.size)])\n",
    "\n",
    "matthewsDF = pd.concat( (matthewsDF,pd.DataFrame( {'Species': sp,\n",
    "                                                  'CellType': ct,\n",
    "                                                  'Tissue': t,\n",
    "                                                  'Features': f,\n",
    "                                                  'Matthews': M} )), axis=0 ).reset_index(drop=True)\n",
    "matthewsDF"
   ]
  },
  {
   "cell_type": "code",
   "execution_count": null,
   "id": "c032a835-7bec-456c-ab2d-96962488ac38",
   "metadata": {},
   "outputs": [],
   "source": [
    "# Run for Smed\n",
    "cts, M, L = calcKSplitsMatthewsPerClass( samP.adata[:,samP.adata.var.Source=='MODISCO'].X.A, \n",
    "                                         samP.adata.obs.GroupFigure.values,\n",
    "                                         nSplit=nSplit, testRatio=testRatio, nProc=8 )\n",
    "print( 'Linear separability:' )\n",
    "print( list( zip( cts, L ) ) )\n",
    "print( 'Non linear-separable celltypes:' )\n",
    "print( list( zip( cts[L<1], L[L<1] ) ) )\n",
    "\n",
    "sp = ['Smed']*M.size\n",
    "ct = np.concatenate([[c]*nSplit for c in cts])\n",
    "t = ['']*M.size\n",
    "f = ['MotifDevsMODISCO']*M.size\n",
    "M = np.concatenate([M[:,i] for i in range(cts.size)])\n",
    "\n",
    "matthewsDF = pd.concat( (matthewsDF,pd.DataFrame( {'Species': sp,\n",
    "                                                  'CellType': ct,\n",
    "                                                  'Tissue': t,\n",
    "                                                  'Features': f,\n",
    "                                                  'Matthews': M} )), axis=0 ).reset_index(drop=True)\n",
    "matthewsDF"
   ]
  },
  {
   "cell_type": "code",
   "execution_count": null,
   "id": "ba708d0a-5c65-4b31-bcc7-f7bec1dc7d43",
   "metadata": {},
   "outputs": [],
   "source": [
    "# Run for Sman\n",
    "cts, M, L = calcKSplitsMatthewsPerClass( samS.adata[:,samS.adata.var.Source=='MODISCO'].X.A, \n",
    "                                         samS.adata.obs.GroupFigure.values,\n",
    "                                         nSplit=nSplit, testRatio=testRatio, nProc=8 )\n",
    "print( 'Linear separability:' )\n",
    "print( list( zip( cts, L ) ) )\n",
    "print( 'Non linear-separable celltypes:' )\n",
    "print( list( zip( cts[L<1], L[L<1] ) ) )\n",
    "\n",
    "sp = ['Sman']*M.size\n",
    "ct = np.concatenate([[c]*nSplit for c in cts])\n",
    "t = ['']*M.size\n",
    "f = ['MotifDevsMODISCO']*M.size\n",
    "M = np.concatenate([M[:,i] for i in range(cts.size)])\n",
    "\n",
    "matthewsDF = pd.concat( (matthewsDF,pd.DataFrame( {'Species': sp,\n",
    "                                                  'CellType': ct,\n",
    "                                                  'Tissue': t,\n",
    "                                                  'Features': f,\n",
    "                                                  'Matthews': M} )), axis=0 ).reset_index(drop=True)\n",
    "matthewsDF"
   ]
  },
  {
   "cell_type": "code",
   "execution_count": null,
   "id": "2ac331fc-18e5-4a2b-a3af-d34850075426",
   "metadata": {},
   "outputs": [],
   "source": [
    "g = sns.catplot( data=matthewsDF[matthewsDF.Features.isin(['MotifDevs','MotifDevsJASPAR','MotifDevsMODISCO'])], \n",
    "                 col='Species', x='Matthews', y='CellType', hue='Features', \n",
    "                 sharey=False, sharex=True, kind='point', aspect=0.4, height=10,  \n",
    "                 errorbar='sd', linestyle='none', dodge=False )\n",
    "g.axes[0,0].set_xlim(-0.1,1.1)\n",
    "g.axes[0,0].set_xticks([0,0.5,1])\n",
    "plt.savefig( 'Plots/EDFig5/PanelED5g.svg', format='svg' )\n",
    "plt.show()"
   ]
  },
  {
   "cell_type": "markdown",
   "id": "17e13450-7f2e-4def-84a2-af5019b876d4",
   "metadata": {},
   "source": [
    "# Marker motif comparison"
   ]
  },
  {
   "cell_type": "code",
   "execution_count": null,
   "id": "ca671483-24d2-47b8-b60f-fe422bedbd2d",
   "metadata": {},
   "outputs": [],
   "source": [
    "minResponse = 1\n",
    "nBS = 5000\n",
    "alpha = 0.1"
   ]
  },
  {
   "cell_type": "markdown",
   "id": "3e0c1e75-802a-4245-8f51-723303a8632d",
   "metadata": {},
   "source": [
    "## Identify markers per-cluster"
   ]
  },
  {
   "cell_type": "code",
   "execution_count": null,
   "id": "08c1e270-f287-411e-9568-cb491581e78b",
   "metadata": {},
   "outputs": [],
   "source": [
    "X = samM.adata.X.A\n",
    "labels = np.array(samM.adata.obs.GroupFigure.values)\n",
    "nL = len(uLabelsM)\n",
    "# Median deviations per cluster\n",
    "groupedM = np.zeros( (nL,X.shape[1]) )\n",
    "# Binarized cluster accessibility\n",
    "binnedM = np.zeros_like( groupedM )\n",
    "# Difference between 'high' and 'low' group accessibility\n",
    "deltasM = np.zeros( X.shape[1] )\n",
    "# P-values associated with the wilcoxon tests\n",
    "pM = np.zeros_like( groupedM )\n",
    "\n",
    "# Loop through unique cluster labels\n",
    "for i, l in tqdm(enumerate(uLabelsM)):\n",
    "    \n",
    "    fg = X[labels==l,:]\n",
    "    groupedM[i,:] = np.median(fg,axis=0)\n",
    "    \n",
    "    bg = X[labels!=l,:]\n",
    "    # Run the DA tests, store the adjusted p-values\n",
    "    res = stats.mannwhitneyu( fg, bg, axis=0, alternative='greater' )\n",
    "    _, pM[i,:], _, _ = sm.stats.multipletests( res.pvalue, alpha=alpha,\n",
    "                                               method='fdr_bh' )\n",
    "    \n",
    "# Binarize based on the thresholds we specified\n",
    "binnedM = ((pM < alpha)&(groupedM > minResponse)).astype(int)\n",
    "\n",
    "# Calculate differences in accessibility for \n",
    "# the 'high' and 'low' groups\n",
    "for i in tqdm(range(X.shape[1])):\n",
    "    x = X[:,i].flatten()\n",
    "    on = np.isin(labels,uLabelsM[binnedM[:,i].flatten()==1])\n",
    "    if on.sum() > 0:\n",
    "        deltasM[i] = np.median(x[on]) - np.median(x[~on])\n",
    "\n",
    "plt.plot( np.sort( deltasM )[::-1] )\n",
    "plt.show()\n",
    "samM.adata.var_names[np.argsort(deltasM)[::-1]][:20]"
   ]
  },
  {
   "cell_type": "code",
   "execution_count": null,
   "id": "9fb63a26-5a03-443d-b731-e77ac6863ab9",
   "metadata": {},
   "outputs": [],
   "source": [
    "# Same deal for Smed\n",
    "X = samP.adata.X.A\n",
    "labels = np.array(samP.adata.obs.GroupFigure.values)\n",
    "nL = len(uLabelsP)\n",
    "groupedP = np.zeros( (nL,X.shape[1]) )\n",
    "binnedP = np.zeros_like( groupedP )\n",
    "deltasP = np.zeros( X.shape[1] )\n",
    "pP = np.zeros_like( groupedP )\n",
    "\n",
    "for i, l in tqdm(enumerate(uLabelsP)):\n",
    "    \n",
    "    fg = X[labels==l,:]\n",
    "    groupedP[i,:] = np.median(fg,axis=0)\n",
    "    \n",
    "    bg = X[labels!=l,:]\n",
    "    res = stats.mannwhitneyu( fg, bg, axis=0, alternative='greater' )\n",
    "    _, pP[i,:], _, _ = sm.stats.multipletests( res.pvalue, alpha=alpha,\n",
    "                                               method='fdr_bh' )\n",
    "    \n",
    "binnedP = ((pP < alpha)&(groupedP > minResponse)).astype(int)\n",
    "\n",
    "for i in tqdm(range(X.shape[1])):\n",
    "    x = X[:,i].flatten()\n",
    "    on = np.isin(labels,uLabelsP[binnedP[:,i].flatten()==1])\n",
    "    if on.sum() > 0:\n",
    "        deltasP[i] = np.median(x[on]) - np.median(x[~on].mean())\n",
    "\n",
    "plt.plot( np.sort( deltasP )[::-1] )\n",
    "plt.show()\n",
    "samP.adata.var_names[np.argsort(deltasP)[::-1]][:20]"
   ]
  },
  {
   "cell_type": "code",
   "execution_count": null,
   "id": "6468532b-c094-4b1f-bcf3-5b227148c861",
   "metadata": {},
   "outputs": [],
   "source": [
    "# Same deal for Sman\n",
    "X = samS.adata.X.A\n",
    "labels = np.array(samS.adata.obs.GroupFigure.values)\n",
    "nL = len(uLabelsS)\n",
    "groupedS = np.zeros( (nL,X.shape[1]) )\n",
    "binnedS = np.zeros_like( groupedS )\n",
    "deltasS = np.zeros( X.shape[1] )\n",
    "pS = np.zeros_like( groupedS )\n",
    "\n",
    "for i, l in tqdm(enumerate(uLabelsS)):\n",
    "    \n",
    "    fg = X[labels==l,:]\n",
    "    groupedS[i,:] = np.median(fg,axis=0)\n",
    "    \n",
    "    bg = X[labels!=l,:]\n",
    "    res = stats.mannwhitneyu( fg, bg, axis=0, alternative='greater' )\n",
    "    _, pS[i,:], _, _ = sm.stats.multipletests( res.pvalue, alpha=alpha,\n",
    "                                               method='fdr_bh' )\n",
    "    \n",
    "binnedS = ((pS < alpha)&(groupedS > minResponse)).astype(int)\n",
    "\n",
    "for i in tqdm(range(X.shape[1])):\n",
    "    x = X[:,i].flatten()\n",
    "    on = np.isin(labels,uLabelsS[binnedS[:,i].flatten()==1])\n",
    "    if on.sum() > 0:\n",
    "        deltasS[i] = np.median(x[on]) - np.median(x[~on].mean())\n",
    "\n",
    "plt.plot( np.sort( deltasS )[::-1] )\n",
    "plt.show()\n",
    "samS.adata.var_names[np.argsort(deltasS)[::-1]][:20]"
   ]
  },
  {
   "cell_type": "code",
   "execution_count": null,
   "id": "467d4f06-4720-48a3-9212-3ee5c21839c5",
   "metadata": {},
   "outputs": [],
   "source": [
    "anndata.AnnData( X=binnedM, obs=pd.DataFrame(index=uLabelsM),\n",
    "                 var=pd.DataFrame(index=samM.adata.var_names) )\\\n",
    "       .write_h5ad( 'ChromVARDeviations/Mlig.cluster_binarized_devs.h5ad' )"
   ]
  },
  {
   "cell_type": "code",
   "execution_count": null,
   "id": "92e1fea6-292d-401e-9027-e7beceea0fca",
   "metadata": {},
   "outputs": [],
   "source": [
    "anndata.AnnData( X=binnedP, obs=pd.DataFrame(index=uLabelsP),\n",
    "                 var=pd.DataFrame(index=samP.adata.var_names) )\\\n",
    "       .write_h5ad( 'ChromVARDeviations/Smed.cluster_binarized_devs.h5ad' )"
   ]
  },
  {
   "cell_type": "code",
   "execution_count": null,
   "id": "b49895ad-03dc-468e-8202-18984ffc2c57",
   "metadata": {},
   "outputs": [],
   "source": [
    "anndata.AnnData( X=binnedS, obs=pd.DataFrame(index=uLabelsS),\n",
    "                 var=pd.DataFrame(index=samS.adata.var_names) )\\\n",
    "       .write_h5ad( 'ChromVARDeviations/Sman.cluster_binarized_devs.h5ad' )"
   ]
  },
  {
   "cell_type": "markdown",
   "id": "ff30adea-51a1-4fee-854c-072f39d59388",
   "metadata": {},
   "source": [
    "## Aggregating over families"
   ]
  },
  {
   "cell_type": "code",
   "execution_count": null,
   "id": "c9913907-1d5d-4bcd-9c49-0250eabce4ec",
   "metadata": {},
   "outputs": [],
   "source": [
    "# Propagating the binarization\n",
    "# Take the or over each cell type family\n",
    "# to get the aggregate binarized accessibility\n",
    "tBinnedM = tMapM @ binnedM\n",
    "tBinnedM = (tBinnedM>0).astype(int)\n",
    "\n",
    "tBinnedP = tMapP @ binnedP\n",
    "tBinnedP = (tBinnedP>0).astype(int)\n",
    "\n",
    "tBinnedS = tMapS @ binnedS\n",
    "tBinnedS = (tBinnedS>0).astype(int)\n",
    "\n",
    "deltas = np.concatenate((deltasM[:,None],deltasS[:,None],tmp[:,None]),axis=1)\n",
    "\n",
    "# Concatenate the three species\n",
    "tBinned = np.concatenate((tBinnedM[:,:,None],tBinnedS[:,:,None],tBinnedP[:,:,None]),axis=2)\n",
    "# Number of motifs that show up in at least one\n",
    "# of the same families across all three \n",
    "print( ((tBinned.sum(2)==3).any(0)).sum() ) # 534"
   ]
  },
  {
   "cell_type": "markdown",
   "id": "7795566c-65fb-4c2a-859d-53204f585652",
   "metadata": {},
   "source": [
    "Here we're taking the average of the group means for all clusters considered 'high'"
   ]
  },
  {
   "cell_type": "code",
   "execution_count": null,
   "id": "d74b98b9-5a88-4c89-81d3-c5c0a081ec8f",
   "metadata": {},
   "outputs": [],
   "source": [
    "tMeansM = np.zeros((len(tOrder),samM.adata.n_vars))\n",
    "on = binnedM\n",
    "\n",
    "for i in range(len(tOrder)):\n",
    "    ind = tMapM[i,:].flatten()\n",
    "    if ind.sum() == 0:\n",
    "        continue\n",
    "    onT = on[ind==1,:]\n",
    "    for j in range(samM.adata.n_vars):\n",
    "        if not onT.any(0)[j]:\n",
    "            tMeansM[i,j] = groupedM[(ind==1),j].mean()\n",
    "            continue\n",
    "        tMeansM[i,j] = groupedM[(ind==1)&on[:,j].astype(bool).flatten(),j].mean()"
   ]
  },
  {
   "cell_type": "code",
   "execution_count": null,
   "id": "a2de1363-c0b2-44e2-b007-26283bf635d0",
   "metadata": {},
   "outputs": [],
   "source": [
    "tMeansP = np.zeros((len(tOrder),samP.adata.n_vars))\n",
    "on = binnedP\n",
    "\n",
    "for i in range(len(tOrder)):\n",
    "    ind = tMapP[i,:].flatten()\n",
    "    if ind.sum() == 0:\n",
    "        continue\n",
    "    onT = on[ind==1,:]\n",
    "    for j in range(samP.adata.n_vars):\n",
    "        if not onT.any(0)[j]:\n",
    "            tMeansP[i,j] = groupedP[(ind==1),j].mean()\n",
    "            continue\n",
    "        tMeansP[i,j] = groupedP[(ind==1)&on[:,j].astype(bool).flatten(),j].mean()"
   ]
  },
  {
   "cell_type": "code",
   "execution_count": null,
   "id": "403aedc1-86a8-4869-9ff2-6d1bd80da4c7",
   "metadata": {},
   "outputs": [],
   "source": [
    "tMeansS = np.zeros((len(tOrder),samS.adata.n_vars))\n",
    "on = binnedS\n",
    "\n",
    "for i in range(len(tOrder)):\n",
    "    ind = tMapS[i,:].flatten()\n",
    "    if ind.sum() == 0:\n",
    "        continue\n",
    "    onT = on[ind==1,:]\n",
    "    for j in range(samS.adata.n_vars):\n",
    "        if not onT.any(0)[j]:\n",
    "            tMeansS[i,j] = groupedS[(ind==1),j].mean()\n",
    "            continue\n",
    "        tMeansS[i,j] = groupedS[(ind==1)&on[:,j].astype(bool).flatten(),j].mean()"
   ]
  },
  {
   "cell_type": "markdown",
   "id": "53ebe8ed-045a-49c7-adce-26f30b3c76b7",
   "metadata": {},
   "source": [
    "Combine these family-aggregated data into a dataframe that's a bit easier to manipulate. Here we also do the min-max scaling per species to make it easier to compare between species"
   ]
  },
  {
   "cell_type": "code",
   "execution_count": null,
   "id": "b6158f4b-8203-4e05-b4e2-41e580d8f5f9",
   "metadata": {},
   "outputs": [],
   "source": [
    "dropTissues = ['Germline','Parenchymal']\n",
    "\n",
    "tmp = tMeansM.copy()[~np.isin(tOrder,dropTissues),:]\n",
    "tmp = tmp - tMeansM.min(0)\n",
    "maxes = tmp.max(0)\n",
    "maxes[maxes==0] = 1\n",
    "tmp = tmp / maxes\n",
    "aggTMeans = pd.DataFrame( data=tmp, index=tOrder[~np.isin(tOrder,dropTissues)], columns=samM.adata.var_names )\n",
    "aggTMeans = aggTMeans.rename_axis( index='Tissue' )\n",
    "aggTMeans['Species'] = 'Mlig'\n",
    "aggTMeans = aggTMeans.set_index('Species',append=True)\n",
    "\n",
    "tmp = tMeansP.copy()[~np.isin(tOrder,dropTissues),:]\n",
    "tmp = tmp - tMeansP.min(0)\n",
    "maxes = tmp.max(0)\n",
    "maxes[maxes==0] = 1\n",
    "tmp = tmp / maxes\n",
    "tmp = pd.DataFrame( data=tmp, index=tOrder[~np.isin(tOrder,dropTissues)], columns=samM.adata.var_names )\n",
    "tmp = tmp.rename_axis( index='Tissue' )\n",
    "tmp['Species'] = 'Smed'\n",
    "tmp = tmp.set_index('Species',append=True)\n",
    "aggTMeans = pd.concat( (aggTMeans,tmp), axis=0 )\n",
    "\n",
    "tmp = tMeansS.copy()[~np.isin(tOrder,dropTissues),:]\n",
    "tmp = tmp - tMeansS.min(0)\n",
    "maxes = tmp.max(0)\n",
    "maxes[maxes==0] = 1\n",
    "tmp = tmp / maxes\n",
    "tmp = pd.DataFrame( data=tmp, index=tOrder[~np.isin(tOrder,dropTissues)], columns=samS.adata.var_names )\n",
    "tmp = tmp.rename_axis( index='Tissue' )\n",
    "tmp['Species'] = 'Sman'\n",
    "tmp = tmp.set_index('Species',append=True)\n",
    "aggTMeans = pd.concat( (aggTMeans,tmp), axis=0 )\n",
    "\n",
    "aggTMeans = aggTMeans.sort_index(level='Tissue',sort_remaining=False)\n",
    "aggTMeans.iloc[:,(tBinned.sum(2)==3).any(0)] # 534"
   ]
  },
  {
   "cell_type": "code",
   "execution_count": null,
   "id": "c1ab9a62-3db8-4418-81d6-52ac178982d7",
   "metadata": {},
   "outputs": [],
   "source": [
    "aggTMeans.to_csv( 'ChromVARDeviations/family_avg_motif_devs_minmax.csv' )"
   ]
  },
  {
   "cell_type": "code",
   "execution_count": null,
   "id": "9d0a3781-9b70-4962-b0cb-fd0bd3941850",
   "metadata": {},
   "outputs": [],
   "source": [
    "# Find markers of the same family in all 3 species\n",
    "markerMask = (tBinned.sum(2)==3)\n",
    "# Do an unconstrained clustering on these initially, \n",
    "# just to try to get it to look a little cleaner\n",
    "g = sns.clustermap( aggTMeans.iloc[:,markerMask.any(0)], \n",
    "                    row_cluster=False, center=0, cmap='Reds', robust=True )\n",
    "plt.close('all')\n",
    "# Sort the data based on the clustering\n",
    "dInd = np.array(g.dendrogram_col.reordered_ind)\n",
    "# Reorder so we get blocks of families and their assigned motifs\n",
    "srtT = aggTMeans.groupby('Tissue').min().idxmax(0)[markerMask.any(0)][dInd]\n",
    "srtInd = np.concatenate( [dInd[srtT==t] for t in tOrder] )\n",
    "# Plot again with this order\n",
    "sns.clustermap( aggTMeans.iloc[:,markerMask.any(0)].iloc[:,srtInd], \n",
    "                row_cluster=False, col_cluster=False, \n",
    "                cmap=custom_cmap, robust=False, figsize=(12,12) )\n",
    "plt.savefig( 'Plots/Fig2/Panel2e.svg', format='svg' )\n",
    "plt.show()"
   ]
  },
  {
   "cell_type": "code",
   "execution_count": null,
   "id": "427a2fbf-bf5d-4163-ae69-21661b63c9a0",
   "metadata": {},
   "outputs": [],
   "source": [
    "# Plotting numbers of motifs for each family\n",
    "list(zip(tOrder,(tBinned.sum(2)==3).sum(1)))"
   ]
  },
  {
   "cell_type": "code",
   "execution_count": null,
   "id": "1a1e7fa9-2bfa-479d-a6a0-602ff7102fdb",
   "metadata": {},
   "outputs": [],
   "source": [
    "# Calculate ratio of conserved to high in  \n",
    "# any species for each family \n",
    "# We use these values to plot panel 2f\n",
    "consRates = (tBinned.sum(2)==3).sum(1) / tBinned.any(2).sum(1)\n",
    "list(zip(tOrder,consRates))"
   ]
  },
  {
   "cell_type": "code",
   "execution_count": null,
   "id": "f3551f0c-d988-4821-b928-bb5c845b8590",
   "metadata": {},
   "outputs": [],
   "source": [
    "fig, ax = plt.subplots(figsize=(3, 4))\n",
    "\n",
    "df = pd.DataFrame( index=tOrder, data=consRates[:,None], columns=['Rate'] )\n",
    "df.plot(kind='barh', legend=False, ax=ax, width=0.5)\n",
    "\n",
    "ax.set_yticklabels(df.index, rotation=0, ha='right')\n",
    "\n",
    "plt.tight_layout()\n",
    "plt.savefig(\"Plots/Fig2/Panel2f.svg\",format='svg')\n",
    "plt.show()"
   ]
  },
  {
   "cell_type": "code",
   "execution_count": null,
   "id": "4bd3de12-bf34-4b76-9eec-0d8bd75105d6",
   "metadata": {},
   "outputs": [],
   "source": [
    "# Get fraction of all motifs that are WC\n",
    "(samM.adata.var.Source=='MODISCO').sum() / samM.adata.n_vars \n",
    "# 0.6619385342789598"
   ]
  },
  {
   "cell_type": "code",
   "execution_count": null,
   "id": "8490ac80-7276-47fc-b1b3-b8ea4562f7a3",
   "metadata": {},
   "outputs": [],
   "source": [
    "# Calculate WC fractions for conserved motifs of each family\n",
    "wcFracs = ((tBinned.sum(2)==3)&\\\n",
    "           (samM.adata.var.Source.values=='MODISCO')[None,:]).sum(1)\\\n",
    "             /(tBinned.sum(2)==3).sum(1)\n",
    "list(zip(tOrder,wcFracs))"
   ]
  },
  {
   "cell_type": "code",
   "execution_count": null,
   "id": "6125645a-e25e-4fda-b486-01cf90424cf5",
   "metadata": {},
   "outputs": [],
   "source": [
    "fig, ax = plt.subplots(figsize=(3, 4))\n",
    "\n",
    "df = pd.DataFrame( index=tOrder, data=wcFracs[:,None], columns=['Fraction'] )\n",
    "df.plot(kind='barh', legend=False, ax=ax, width=0.5)\n",
    "\n",
    "constant_value = 0.662\n",
    "ax.axvline(constant_value, color='black', linestyle='--', linewidth=1)\n",
    "\n",
    "ax.set_yticklabels(df.index, rotation=0, ha='right')\n",
    "\n",
    "plt.tight_layout()\n",
    "plt.savefig(\"Plots/Fig2/Panel2g.svg\",format='svg')\n",
    "plt.show()"
   ]
  },
  {
   "cell_type": "code",
   "execution_count": null,
   "id": "8250082d-ec66-456e-87fb-c2c25c2a73ec",
   "metadata": {},
   "outputs": [],
   "source": [
    "outDf = pd.DataFrame()\n",
    "for t, row in aggTMeans.groupby('Tissue').min(0).iterrows():\n",
    "    mask = tBinned.sum(2)[tOrder==t,:].flatten() == 3\n",
    "    cons = row[mask].to_frame().reset_index(drop=False)\n",
    "    cons.index.name = None\n",
    "    cons.columns = [ 'Motif', 'MinScaledAcc' ]\n",
    "    cons['Tissue'] = t\n",
    "    cons = cons.sort_values('MinScaledAcc',ascending=False).reset_index(drop=True)\n",
    "    outDf = pd.concat( (outDf,cons), axis=0 )\n",
    "    \n",
    "outDf = outDf.reset_index(drop=True)\n",
    "# This is essentially Supplementary Table 3\n",
    "outDf.to_csv( 'ChromVARDeviations/all_family_conserved_motifs.csv' )\n",
    "outDf"
   ]
  },
  {
   "cell_type": "code",
   "execution_count": null,
   "id": "9a0cf54d-0cef-4981-8536-5231414781b6",
   "metadata": {},
   "outputs": [],
   "source": [
    "# Count of motifs that are high in both neurons and muscles\n",
    "samM.adata.var_names[(tBinned.sum(2)==3)[tOrder=='Neural',:].flatten()&\\\n",
    "                     (tBinned.sum(2)==3)[tOrder=='Muscle',:].flatten()].size\n",
    "# 54"
   ]
  },
  {
   "cell_type": "markdown",
   "id": "d79e2172-3d0d-4ad6-ad87-654ddc419f76",
   "metadata": {},
   "source": [
    "## Comparing cluster-average accessibilities"
   ]
  },
  {
   "cell_type": "code",
   "execution_count": null,
   "id": "5da91675-5cb7-4650-b5dc-32262ca30f01",
   "metadata": {},
   "outputs": [],
   "source": [
    "# For each species, z-score the data \n",
    "# and average over each cluster\n",
    "Zm = np.zeros( (uLabelsM.size,samM.adata.n_vars))\n",
    "labels = samM.adata.obs.GroupFigure.values\n",
    "for i, label in enumerate(uLabelsM):\n",
    "    Zm[i,:] = zscore(samM.adata.X.A,axis=0)[labels==label,:].mean(0)\n",
    "    \n",
    "Zs = np.zeros( (uLabelsS.size,samS.adata.n_vars))\n",
    "labels = samS.adata.obs.GroupFigure.values\n",
    "for i, label in enumerate(uLabelsS):\n",
    "    Zs[i,:] = zscore(samS.adata.X.A,axis=0)[labels==label,:].mean(0)\n",
    "    \n",
    "Zp = np.zeros( (uLabelsP.size,samP.adata.n_vars))\n",
    "labels = samP.adata.obs.GroupFigure.values\n",
    "for i, label in enumerate(uLabelsP):\n",
    "    Zp[i,:] = zscore(samP.adata.X.A,axis=0)[labels==label,:].mean(0)\n",
    "    \n",
    "stackedMeans = np.concatenate((Zm,Zs,Zp), axis=0)\n",
    "\n",
    "crossCorrs = np.corrcoef( stackedMeans )\n",
    "# Average it out since numpy seems to\n",
    "# have some numerical imprecision\n",
    "crossCorrs = ( crossCorrs + crossCorrs.T ) / 2\n",
    "np.fill_diagonal( crossCorrs, 1 )\n",
    "crossCorrs.shape"
   ]
  },
  {
   "cell_type": "code",
   "execution_count": null,
   "id": "134558e4-aecc-40f5-b334-5bc7ef7c3b82",
   "metadata": {},
   "outputs": [],
   "source": [
    "Y = squareform( 1-crossCorrs )\n",
    "Z = linkage( Y, method='average' )\n",
    "# Flip a few of the branches to  \n",
    "# make the groups more obvious\n",
    "Z[-2][[0,1]] = Z[-2][[1,0]]\n",
    "Z[-7][[0,1]] = Z[-7][[1,0]]\n",
    "Z[-14][[0,1]] = Z[-14][[1,0]]\n",
    "Z[-16][[0,1]] = Z[-16][[1,0]]\n",
    "g = sns.clustermap( crossCorrs, row_linkage=Z, col_linkage=Z, center=0 )\n",
    "allLabels = np.concatenate((['Ml_{0}'.format(l) for l in uLabelsM],\n",
    "                            ['Sm_{0}'.format(l) for l in uLabelsS],\n",
    "                            ['Pl_{0}'.format(l) for l in uLabelsP]))\n",
    "g.ax_heatmap.set_yticks(np.arange(crossCorrs.shape[0])+0.5)\n",
    "g.ax_heatmap.set_yticklabels( allLabels[g.dendrogram_row.reordered_ind], rotation=0 ) \n",
    "plt.savefig( 'Plots/Fig3/Panel3a.svg', format='svg' )\n",
    "plt.show()"
   ]
  },
  {
   "cell_type": "markdown",
   "id": "542ea13a-1ea8-4037-ab0c-9a8d35cfc259",
   "metadata": {},
   "source": [
    "## Checking *S. mansoni* accessibility of parenchymal motifs"
   ]
  },
  {
   "cell_type": "code",
   "execution_count": null,
   "id": "ca59c898-9701-4c2b-8737-cdc16770914d",
   "metadata": {},
   "outputs": [],
   "source": [
    "parenMask = binnedM[np.isin(uLabelsM,['Parenchymal-1',\n",
    "                                      'Parenchymal-2',\n",
    "                                      'Parenchymal-3',\n",
    "                                      'Parenchymal-4',\n",
    "                                      'Parenchymal-5']),:].any(0)\n",
    "parenMask = parenMask & (binnedP[uLabelsP=='Parenchymal',:].flatten()==1)\n",
    "print( parenMask.sum() ) # 126\n",
    "for m in samM.adata.var_names[parenMask]:\n",
    "    print( m ) # See Supplementary Table 4"
   ]
  },
  {
   "cell_type": "code",
   "execution_count": null,
   "id": "544469c0-60b2-458d-ad9f-72de356957f5",
   "metadata": {},
   "outputs": [],
   "source": [
    "# Print the families where these are accessible in Sman\n",
    "outStrs = []\n",
    "for i, m in enumerate( samS.adata.var_names ):\n",
    "    tStr = ';'.join( tOrder[tBinnedS[:,i].flatten()==1] )\n",
    "    outStrs.append( tStr )\n",
    "    \n",
    "outStrs = np.array(outStrs)\n",
    "# Print it to copy into Supplementary Table 4\n",
    "for o in outStrs[parenMask]:\n",
    "    print( o )"
   ]
  },
  {
   "cell_type": "code",
   "execution_count": null,
   "id": "a9fa17d2-cf6f-4530-91dc-2973add45488",
   "metadata": {},
   "outputs": [],
   "source": [
    "# Find markers of the same family in all 3 species\n",
    "markerMask = (tBinned.sum(2)==3)"
   ]
  },
  {
   "cell_type": "code",
   "execution_count": null,
   "id": "4891de96-a806-488f-9534-d42be610780f",
   "metadata": {},
   "outputs": [],
   "source": [
    "markerMask = tBinned[:,parenMask,2].reshape((tOrder.size,-1)) == 1\n",
    "toPlot = aggTMeans.iloc[:,parenMask]\n",
    "toPlot = aggTMeans.loc[aggTMeans.index.get_level_values('Species')=='Sman',:]\n",
    "\n",
    "# Do an unconstrained clustering on these initially, \n",
    "# just to try to get it to look a little cleaner\n",
    "g = sns.clustermap( toPlot, row_cluster=False, center=0, cmap='Reds', robust=True )\n",
    "plt.close('all')\n",
    "\n",
    "# Sort the data based on the clustering\n",
    "dInd = np.array(g.dendrogram_col.reordered_ind)\n",
    "# Reorder so we get blocks of families and their assigned motifs\n",
    "srtT = toPlot.idxmax(0)[dInd]\n",
    "srtInd = np.concatenate( [dInd[srtT==t] for t in tOrder] )\n",
    "# Plot again with this order\n",
    "sns.clustermap( toPlot.iloc[:,srtInd], \n",
    "                row_cluster=False, col_cluster=False, \n",
    "                cmap=custom_cmap, robust=False, figsize=(12,12) )\n",
    "plt.savefig( 'Plots/EDFig6/PanelED6a.svg', format='svg' )\n",
    "plt.show()"
   ]
  },
  {
   "cell_type": "markdown",
   "id": "0e2eabc9-9b28-4f6c-b1b9-b8bd9691150a",
   "metadata": {},
   "source": [
    "## Finding markers for neurons vs muscles"
   ]
  },
  {
   "cell_type": "code",
   "execution_count": null,
   "id": "d77cda46-997b-4767-a63b-09c245dfbd7c",
   "metadata": {},
   "outputs": [],
   "source": [
    "nmLabels = uLabelsM[tMapM[np.isin(tOrder,['Neural','Muscle']),:].any(0)]\n",
    "X = samM.adata.X.A\n",
    "labels = np.array(samM.adata.obs.GroupFigure.values)\n",
    "nmMask = np.isin(labels,nmLabels)\n",
    "X = X[nmMask,:]\n",
    "labels = labels[nmMask]\n",
    "nL = len(nmLabels)\n",
    "\n",
    "grouped = np.zeros( (nL,X.shape[1]) )\n",
    "p = np.zeros_like( grouped )\n",
    "\n",
    "for i, l in tqdm(enumerate(nmLabels)):\n",
    "    fg = X[labels==l,:]\n",
    "    grouped[i,:] = np.median(fg,axis=0)\n",
    "    \n",
    "    bg = X[labels!=l,:]\n",
    "    res = stats.mannwhitneyu( fg, bg, axis=0, alternative='greater' )\n",
    "    _, p[i,:], _, _ = sm.stats.multipletests( res.pvalue, alpha=alpha,\n",
    "                                              method='fdr_bh' )\n",
    "    \n",
    "binned = ((p < alpha)&(grouped > minResponse)).astype(int)\n",
    "nmBinnedM = pd.DataFrame( data=binned, index=nmLabels, columns=samM.adata.var_names )\n",
    "nmBinnedM['Tissue'] = 'Neural'\n",
    "nmBinnedM.loc[nmBinnedM.index.str.startswith('Muscle'),'Tissue'] = 'Muscle'\n",
    "nmBinnedM = nmBinnedM.set_index( 'Tissue', append=True )\n",
    "nmBinnedM"
   ]
  },
  {
   "cell_type": "code",
   "execution_count": null,
   "id": "0c8849f1-739d-4960-9324-f848f1205609",
   "metadata": {},
   "outputs": [],
   "source": [
    "nmLabels = uLabelsP[tMapP[np.isin(tOrder,['Neural','Muscle']),:].any(0)]\n",
    "X = samP.adata.X.A\n",
    "labels = np.array(samP.adata.obs.GroupFigure.values)\n",
    "nmMask = np.isin(labels,nmLabels)\n",
    "X = X[nmMask,:]\n",
    "labels = labels[nmMask]\n",
    "nL = len(nmLabels)\n",
    "\n",
    "grouped = np.zeros( (nL,X.shape[1]) )\n",
    "p = np.zeros_like( grouped )\n",
    "\n",
    "for i, l in tqdm(enumerate(nmLabels)):\n",
    "    fg = X[labels==l,:]\n",
    "    grouped[i,:] = np.median(fg,axis=0)\n",
    "    \n",
    "    bg = X[labels!=l,:]\n",
    "    res = stats.mannwhitneyu( fg, bg, axis=0, alternative='greater' )\n",
    "    _, p[i,:], _, _ = sm.stats.multipletests( res.pvalue, alpha=alpha,\n",
    "                                              method='fdr_bh' )\n",
    "    \n",
    "binned = ((p < alpha)&(grouped > minResponse)).astype(int)\n",
    "nmBinnedP = pd.DataFrame( data=binned, index=nmLabels, columns=samP.adata.var_names )\n",
    "nmBinnedP['Tissue'] = 'Neural'\n",
    "nmBinnedP.loc[nmBinnedP.index.str.startswith('Muscle'),'Tissue'] = 'Muscle'\n",
    "nmBinnedP = nmBinnedP.set_index( 'Tissue', append=True )\n",
    "nmBinnedP"
   ]
  },
  {
   "cell_type": "code",
   "execution_count": null,
   "id": "42d67336-1897-44f1-a4da-7a5766a2febb",
   "metadata": {},
   "outputs": [],
   "source": [
    "nmLabels = uLabelsS[tMapS[np.isin(tOrder,['Neural','Muscle']),:].any(0)]\n",
    "X = samS.adata.X.A\n",
    "labels = np.array(samS.adata.obs.GroupFigure.values)\n",
    "nmMask = np.isin(labels,nmLabels)\n",
    "X = X[nmMask,:]\n",
    "labels = labels[nmMask]\n",
    "nL = len(nmLabels)\n",
    "\n",
    "grouped = np.zeros( (nL,X.shape[1]) )\n",
    "p = np.zeros_like( grouped )\n",
    "\n",
    "for i, l in tqdm(enumerate(nmLabels)):\n",
    "    fg = X[labels==l,:]\n",
    "    grouped[i,:] = np.median(fg,axis=0)\n",
    "    \n",
    "    bg = X[labels!=l,:]\n",
    "    res = stats.mannwhitneyu( fg, bg, axis=0, alternative='greater' )\n",
    "    _, p[i,:], _, _ = sm.stats.multipletests( res.pvalue, alpha=alpha,\n",
    "                                              method='fdr_bh' )\n",
    "    \n",
    "binned = ((p < alpha)&(grouped > minResponse)).astype(int)\n",
    "nmBinnedS = pd.DataFrame( data=binned, index=nmLabels, columns=samS.adata.var_names )\n",
    "nmBinnedS['Tissue'] = 'Neural'\n",
    "nmBinnedS.loc[nmBinnedS.index.str.startswith('Muscle'),'Tissue'] = 'Muscle'\n",
    "nmBinnedS = nmBinnedS.set_index( 'Tissue', append=True )\n",
    "nmBinnedS"
   ]
  },
  {
   "cell_type": "code",
   "execution_count": null,
   "id": "78d78d38-218d-4515-b401-607ffcef6035",
   "metadata": {},
   "outputs": [],
   "source": [
    "# Make sure the markers are only high for muscles OR neurons\n",
    "singleSided = (nmBinnedM.groupby('Tissue').any().sum(0)==1) & \\\n",
    "              (nmBinnedP.groupby('Tissue').any().sum(0)==1) & \\\n",
    "              (nmBinnedS.groupby('Tissue').any().sum(0)==1)\n",
    "# Make sure the motifs are hitting the same family in all three species\n",
    "neuralDefining = nmBinnedM.groupby('Tissue').any().loc['Neural',:] & \\\n",
    "                 nmBinnedP.groupby('Tissue').any().loc['Neural',:] & \\\n",
    "                 nmBinnedS.groupby('Tissue').any().loc['Neural',:]\n",
    "muscleDefining = nmBinnedM.groupby('Tissue').any().loc['Muscle',:] & \\\n",
    "                 nmBinnedP.groupby('Tissue').any().loc['Muscle',:] & \\\n",
    "                 nmBinnedS.groupby('Tissue').any().loc['Muscle',:]\n",
    "\n",
    "# Looking for motifs that are consistently biased \n",
    "# towards one of these two tissues but not both\n",
    "# and the ones that are biased towards the same tissue\n",
    "# for all three species\n",
    "consNMDef = (singleSided&(neuralDefining|muscleDefining))\n",
    "consNMDef.sum() # 127"
   ]
  },
  {
   "cell_type": "code",
   "execution_count": null,
   "id": "76531953-8f36-46a7-b4ce-9d8e05f82c4b",
   "metadata": {},
   "outputs": [],
   "source": [
    "nmBinnedM.groupby('Tissue').any().loc[:,consNMDef].sum(1)\n",
    "# Muscle: 12\n",
    "# Neural: 115"
   ]
  },
  {
   "cell_type": "code",
   "execution_count": null,
   "id": "0a1b1ac0-b7c5-4dcc-8b34-cfdeeca696c6",
   "metadata": {},
   "outputs": [],
   "source": [
    "# Print the conserved neural markers for Supplementary Table 5\n",
    "nmBinnedM.columns[nmBinnedM.groupby('Tissue').any().loc['Neural',:]&consNMDef]"
   ]
  },
  {
   "cell_type": "code",
   "execution_count": null,
   "id": "12575863-dff9-4f42-af84-f2e4beca0bee",
   "metadata": {},
   "outputs": [],
   "source": [
    "# Print the conserved neural markers for Supplementary Table 5\n",
    "nmBinnedM.columns[nmBinnedM.groupby('Tissue').any().loc['Muscle',:]&consNMDef]"
   ]
  }
 ],
 "metadata": {
  "kernelspec": {
   "display_name": "Python 3 (ipykernel)",
   "language": "python",
   "name": "python3"
  },
  "language_info": {
   "codemirror_mode": {
    "name": "ipython",
    "version": 3
   },
   "file_extension": ".py",
   "mimetype": "text/x-python",
   "name": "python",
   "nbconvert_exporter": "python",
   "pygments_lexer": "ipython3",
   "version": "3.7.13"
  }
 },
 "nbformat": 4,
 "nbformat_minor": 5
}
