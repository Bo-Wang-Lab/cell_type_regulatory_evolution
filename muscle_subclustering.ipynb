{
 "cells": [
  {
   "cell_type": "code",
   "execution_count": null,
   "id": "873e27a2-a5d3-4af3-908a-a4cbe15a0c72",
   "metadata": {},
   "outputs": [],
   "source": [
    "import os\n",
    "from re import search\n",
    "import pandas as pd\n",
    "import numpy as np\n",
    "\n",
    "import scanpy as sc\n",
    "import bbknn\n",
    "\n",
    "from sklearn.linear_model import LogisticRegression\n",
    "from sklearn.model_selection import train_test_split\n",
    "from sklearn import metrics\n",
    "\n",
    "from scipy.stats import zscore\n",
    "from scipy import sparse, stats\n",
    "\n",
    "import matplotlib\n",
    "import matplotlib.pyplot as plt\n",
    "import seaborn as sns\n",
    "\n",
    "from tqdm import tqdm\n",
    "\n",
    "import gc\n",
    "\n",
    "import igraph as ig\n",
    "\n",
    "import warnings\n",
    "\n",
    "matplotlib.rcParams.update({'font.size': 12})\n",
    "%config InlineBackend.figure_format = 'retina'\n",
    "%matplotlib inline\n",
    "warnings.filterwarnings('ignore')"
   ]
  },
  {
   "cell_type": "code",
   "execution_count": null,
   "id": "d69b8d56-2d7f-4a61-8460-22952645cd84",
   "metadata": {},
   "outputs": [],
   "source": [
    "trainRatio = 0.7"
   ]
  },
  {
   "cell_type": "code",
   "execution_count": null,
   "id": "56bc8655-8776-41e2-8faf-469e143c88ea",
   "metadata": {},
   "outputs": [],
   "source": [
    "# Check how well we can predict a set of labels from a given predictor matrix\n",
    "# @param predictors: (n_observations,n_features) matrix of predictors,\n",
    "#   as either a numpy array or scipy.sparse.csr_matrix\n",
    "# @param labels: (n_observations,) vector of discrete labels per observation\n",
    "#   as a numpy array\n",
    "# @param labelOrder: optional iterable specifying the unique label values \n",
    "#   in labels, ordered as they should be in the output. Otherwise, unique\n",
    "#   label values are sorted using np.sort to determine the order\n",
    "# @param trainRatio: fraction of observations to use in training the models\n",
    "# @param minGrpSize: minimum number of observations with a given label to \n",
    "#   attempt to train a model for. Groups with fewer observations will\n",
    "#   be reported with a Matthews Correlation of 0\n",
    "# @return (n_unique_labels,) vector of Matthews correlation between true and\n",
    "#   predicted labels for the trained one-vs-rest logistic regression models\n",
    "#   on the test datasets for each unique label in labels. If labelOrder is \n",
    "#   specified, these values correspond to the unique labels provided there,\n",
    "#   otherwise, unique values are sorted using np.sort to determine order\n",
    "def checkLogisticPredictability( predictors, labels, labelOrder=None, trainRatio=0.7, minGrpSize=1 ):\n",
    "    # Determine the order if not provided\n",
    "    if labelOrder is None:\n",
    "        labelOrder = np.sort(np.unique(labels))\n",
    "    nL = labelOrder.size\n",
    "    mc = np.zeros(nL)\n",
    "    # Set up one-vs-rest comparisons for each unique label\n",
    "    for i in tqdm(range(nL)):\n",
    "        Y = labels==labelOrder[i]\n",
    "        if Y.sum() <= minGrpSize:\n",
    "            mc[i] = 0\n",
    "            continue\n",
    "        # Split the data, trying to retain similar ratios of\n",
    "        # positive and negative observations in the train\n",
    "        # and test sets\n",
    "        Xtr, Xte, Ytr, Yte = train_test_split( predictors, Y, \n",
    "                                               train_size=trainRatio, \n",
    "                                               random_state=0,\n",
    "                                               stratify=Y )\n",
    "        # train and test the model\n",
    "        model = LogisticRegression( C=1e5, random_state=0, n_jobs=6 )\n",
    "        model = model.fit( Xtr, Ytr )\n",
    "        mc[i] = metrics.matthews_corrcoef( Yte, model.predict( Xte ) )\n",
    "    return mc"
   ]
  },
  {
   "cell_type": "markdown",
   "id": "a4a554fe-9790-4a78-ae74-fd8632c5bb69",
   "metadata": {},
   "source": [
    "# *M. lignano* subclustering"
   ]
  },
  {
   "cell_type": "code",
   "execution_count": null,
   "id": "10658bca-2703-4746-aa2f-ffdf806353d5",
   "metadata": {},
   "outputs": [],
   "source": [
    "adataMP = sc.read_h5ad( 'ArchROutputs/Mlig/Mlig.peaks.h5ad' )\n",
    "chipseekr = pd.read_csv( 'Metadata/Mlig.chipseekr_annots.csv' )\n",
    "chipseekr.index = chipseekr.seqnames + ':' + \\\n",
    "                  chipseekr.start.astype(str) + '-' + \\\n",
    "                  chipseekr.end.astype(str)\n",
    "adataMP.var['NearGene'] = chipseekr.loc[adataMP.var_names,'trainscriptId']\n",
    "adataMP.var['Type'] = chipseekr.loc[adataMP.var_names,'annotation']\n",
    "adataMP.var['GeneDist'] = chipseekr.loc[adataMP.var_names,'distanceToTSS']\n",
    "\n",
    "adataMP = adataMP[adataMP.obs.GroupFigure.str.startswith('Muscle'),:].copy()\n",
    "adataMP.obsm['X_PVI'] = pd.read_csv( 'scVI_models/Mlig.peakvi_muscle_latent_dims.csv',\n",
    "                                     index_col=0 ).loc[adataMP.obs_names,:].values\n",
    "adataMP.obs['SEACell'] = pd.read_csv( 'SEACellsOutput/Mlig.all_SEACell_assignments.csv', \n",
    "                                      index_col=0 ).loc[adataMP.obs_names,'SEACell']\n",
    "\n",
    "adataMP"
   ]
  },
  {
   "cell_type": "code",
   "execution_count": null,
   "id": "0718cd69-82b4-45e3-a22e-f7983aafdc99",
   "metadata": {},
   "outputs": [],
   "source": [
    "sc.pp.filter_genes( adataMP, min_cells=10 )\n",
    "\n",
    "adataMP"
   ]
  },
  {
   "cell_type": "code",
   "execution_count": null,
   "id": "52c6a201",
   "metadata": {},
   "outputs": [],
   "source": [
    "sc.external.pp.harmony_integrate( adataMP, key='Sample', basis='X_PVI', adjusted_basis='X_Harmony' )"
   ]
  },
  {
   "cell_type": "code",
   "execution_count": null,
   "id": "53736567-1190-4bae-bcda-8afaecd0a4d3",
   "metadata": {},
   "outputs": [],
   "source": [
    "sc.tl.umap( adataMP, min_dist=0.05, spread=1.5 )\n",
    "fig = plt.figure(figsize=(8,6))\n",
    "sc.pl.umap( adataMP, color='GroupFigure', size=50, legend_loc='right margin', ax=fig.gca() )\n",
    "plt.show()"
   ]
  },
  {
   "cell_type": "code",
   "execution_count": null,
   "id": "8681c14e-51b2-4df9-a0b8-803378a50c56",
   "metadata": {
    "scrolled": true,
    "tags": []
   },
   "outputs": [],
   "source": [
    "# Run leiden clustering on the neural data alone\n",
    "# The resolution parameter was tuned until we got\n",
    "# decent predictability, shown below\n",
    "sc.tl.leiden( adataMP, resolution=0.3 )\n",
    "fig = plt.figure(figsize=(8,6))\n",
    "sc.pl.umap( adataMP, color='leiden', size=50, legend_loc='right margin', ax=fig.gca() )\n",
    "plt.show()"
   ]
  },
  {
   "cell_type": "code",
   "execution_count": null,
   "id": "cfbc585b-90e9-4bf0-88c1-5de115ea6c04",
   "metadata": {},
   "outputs": [],
   "source": [
    "checkLogisticPredictability( adataMP.X, adataMP.obs.leiden.astype(int).values, trainRatio=trainRatio )"
   ]
  },
  {
   "cell_type": "code",
   "execution_count": null,
   "id": "9773d606-ce60-4805-b9ef-d8e45f7242f7",
   "metadata": {},
   "outputs": [],
   "source": [
    "adataMP.obs[['SEACell','leiden']].to_csv( 'Metadata/Mlig.muscle_subcluster_annotations.csv' )"
   ]
  },
  {
   "cell_type": "code",
   "execution_count": null,
   "id": "2ef15d59-7bdb-491c-bfae-cbc2b870a61e",
   "metadata": {},
   "outputs": [],
   "source": [
    "del adataMP\n",
    "\n",
    "gc.collect()"
   ]
  },
  {
   "cell_type": "markdown",
   "id": "fafc17b7-ceb7-4c35-92bf-9e8fd07296b6",
   "metadata": {},
   "source": [
    "# *S. mediterranea* subclustering"
   ]
  },
  {
   "cell_type": "code",
   "execution_count": null,
   "id": "dbe9af51-cc0c-4339-a392-2fb2def082a0",
   "metadata": {},
   "outputs": [],
   "source": [
    "# Read in the RNA data and transfer annotations\n",
    "adataPG = sc.read_h5ad( 'GEXCounts/Smed/Smed.raw_RNA_counts.h5ad' )\n",
    "adataPG.obs = sc.read_h5ad( 'ArchROutputs/Smed/Smed.peaks.h5ad' )\\\n",
    "                .obs.loc[adataPG.obs_names,:]\n",
    "sc.pp.normalize_per_cell( adataPG )\n",
    "sc.pp.log1p( adataPG, base=2 )\n",
    "\n",
    "adataPG = adataPG[adataPG.obs.GroupFigure.str.startswith('Muscle'),:].copy()\n",
    "adataPG.obsm['X_PVI'] = pd.read_csv( 'scVI_models/Smed.scvi_muscle_latent_dims.csv',\n",
    "                                     index_col=0 ).loc[adataPG.obs_names,:].values\n",
    "adataPG.obs['SEACell'] = pd.read_csv( 'SEACellsOutput/Smed.all_SEACell_assignments.csv', \n",
    "                                      index_col=0 ).loc[adataPG.obs_names,'SEACell']\n",
    "\n",
    "adataPG"
   ]
  },
  {
   "cell_type": "code",
   "execution_count": 43,
   "id": "fdcc4ed1-d4ae-478e-add2-b55f66ebd707",
   "metadata": {
    "tags": []
   },
   "outputs": [],
   "source": [
    "sc.external.pp.harmony_integrate( adataPP, key='Sample', basis='X_PVI', adjusted_basis='X_Harmony' )"
   ]
  },
  {
   "cell_type": "code",
   "execution_count": null,
   "id": "31168f55-9a5b-4cb4-8b9f-003567a84c06",
   "metadata": {},
   "outputs": [],
   "source": [
    "sc.tl.umap( adataPP, min_dist=0.05, spread=1.5 )\n",
    "fig = plt.figure(figsize=(8,6))\n",
    "sc.pl.umap( adataPP, color='GroupFigure', size=50, legend_loc='right margin', ax=fig.gca() )\n",
    "plt.show()"
   ]
  },
  {
   "cell_type": "code",
   "execution_count": null,
   "id": "40a41196-c300-4bf3-9673-40bece085da0",
   "metadata": {},
   "outputs": [],
   "source": [
    "sc.tl.leiden( adataPG, resolution=0.8 )\n",
    "fig = plt.figure(figsize=(8,6))\n",
    "sc.pl.umap( adataPG, color='leiden', size=50, legend_loc='right margin', ax=fig.gca() )\n",
    "plt.show()"
   ]
  },
  {
   "cell_type": "code",
   "execution_count": null,
   "id": "fa01bf2d-2a6d-41ce-99e1-5d9b24cdcf1e",
   "metadata": {},
   "outputs": [],
   "source": [
    "checkLogisticPredictability( adataPG.X, adataPG.obs.leiden.astype(int).values, trainRatio=trainRatio )"
   ]
  },
  {
   "cell_type": "code",
   "execution_count": null,
   "id": "87849b2c-1de4-4d05-8a75-0a53a2c6fae6",
   "metadata": {},
   "outputs": [],
   "source": [
    "adataPG.obs[['SEACell','leiden']].to_csv( 'Metadata/Smed.muscle_subcluster_annotations.csv' )"
   ]
  },
  {
   "cell_type": "code",
   "execution_count": null,
   "id": "09c8492f-1328-42dd-a032-e771ebb8f144",
   "metadata": {},
   "outputs": [],
   "source": [
    "del adataPG\n",
    "\n",
    "gc.collect()"
   ]
  },
  {
   "cell_type": "markdown",
   "id": "036d0410-ef4d-4198-aba0-7c5eb47d377a",
   "metadata": {},
   "source": [
    "# *S. mansoni* subclustering"
   ]
  },
  {
   "cell_type": "code",
   "execution_count": null,
   "id": "befcb0fd-4cfd-4373-9405-8c031e23a393",
   "metadata": {},
   "outputs": [],
   "source": [
    "# Read in the RNA data and transfer annotations\n",
    "adataSG = sc.read_h5ad( 'GEXCounts/Sman/Sman.raw_rna_counts.h5ad' )\n",
    "adataSG.var_names = [ g.replace('-','_') for g in adataSG.var_names ]\n",
    "# Reading in the ATAC data too since it's a bit higher quality\n",
    "adataSP = sc.read_h5ad( 'ArchROutputs/Sman/Sman.peaks.h5ad' )[adataSG.obs_names,:].copy()\n",
    "adataSG.obs = adataSP.obs.copy()\n",
    "sc.pp.normalize_per_cell( adataSG )\n",
    "sc.pp.log1p( adataSG, base=2 )\n",
    "\n",
    "adataSG = adataSG[adataSG.obs.GroupFigure.str.startswith('Muscle'),:].copy()\n",
    "adataSG.obsm['X_PVI'] = pd.read_csv( 'scVI_models/Sman.peakvi_muscle_latent_dims.csv',\n",
    "                                     index_col=0 ).loc[adataSG.obs_names,:].values\n",
    "adataSG.obs['SEACell'] = pd.read_csv( 'SEACellsOutput/Sman.all_SEACell_assignments.csv', \n",
    "                                      index_col=0 ).loc[adataSG.obs_names,'SEACell']\n",
    "\n",
    "adataSG"
   ]
  },
  {
   "cell_type": "code",
   "execution_count": null,
   "id": "0131f9d9-f1fe-4e1d-8105-941055486cff",
   "metadata": {},
   "outputs": [],
   "source": [
    "sc.external.pp.harmony_integrate( adataSG, key='Sample', basis='X_PVI', adjusted_basis='X_Harmony' )"
   ]
  },
  {
   "cell_type": "code",
   "execution_count": null,
   "id": "8479c8a8-e869-4e0c-a0a2-90b9acea50f8",
   "metadata": {},
   "outputs": [],
   "source": [
    "sc.tl.umap( adataSG, min_dist=0.05, spread=1.5 )\n",
    "fig = plt.figure(figsize=(8,6))\n",
    "sc.pl.umap( adataSG, color='GroupFigure', size=50, legend_loc='right margin', ax=fig.gca() )\n",
    "plt.show()"
   ]
  },
  {
   "cell_type": "code",
   "execution_count": null,
   "id": "c59e7e7a-ddfe-49b4-b3fc-4ec4a1f0113f",
   "metadata": {},
   "outputs": [],
   "source": [
    "sc.tl.leiden( adataSG, resolution=0.45 )\n",
    "fig = plt.figure(figsize=(8,6))\n",
    "sc.pl.umap( adataSG, color='leiden', size=50, legend_loc='right margin', ax=fig.gca() )\n",
    "plt.show()"
   ]
  },
  {
   "cell_type": "code",
   "execution_count": null,
   "id": "c6a2d6ec-8f45-4e7e-9d9f-b7707f2f2764",
   "metadata": {},
   "outputs": [],
   "source": [
    "# Using the peak accessibilities as predictors here instead of the\n",
    "# RNA expression since this is what the embedding was based on,\n",
    "# and the data quality is a bit higher than the RNA \n",
    "checkLogisticPredictability( adataSP.X, adataSG.obs.leiden.astype(int).values, trainRatio=trainRatio )"
   ]
  },
  {
   "cell_type": "code",
   "execution_count": null,
   "id": "6017cbe2-6e4c-4ae7-82b1-0b0f6b9e49c7",
   "metadata": {},
   "outputs": [],
   "source": [
    "adataSG.obs[['SEACell','leiden']].to_csv( 'Metadata/Sman.muscle_subcluster_annotations.csv' )"
   ]
  },
  {
   "cell_type": "code",
   "execution_count": null,
   "id": "ea3edcd3-810f-47d0-8c66-d2fda6510401",
   "metadata": {},
   "outputs": [],
   "source": []
  }
 ],
 "metadata": {
  "kernelspec": {
   "display_name": "Python 3 (ipykernel)",
   "language": "python",
   "name": "python3"
  },
  "language_info": {
   "codemirror_mode": {
    "name": "ipython",
    "version": 3
   },
   "file_extension": ".py",
   "mimetype": "text/x-python",
   "name": "python",
   "nbconvert_exporter": "python",
   "pygments_lexer": "ipython3",
   "version": "3.8.13"
  }
 },
 "nbformat": 4,
 "nbformat_minor": 5
}
