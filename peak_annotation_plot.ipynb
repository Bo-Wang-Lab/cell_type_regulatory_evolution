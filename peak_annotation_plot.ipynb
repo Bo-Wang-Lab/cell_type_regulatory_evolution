{
 "cells": [
  {
   "cell_type": "code",
   "execution_count": 1,
   "id": "be9440a1",
   "metadata": {},
   "outputs": [
    {
     "data": {
      "text/html": [
       "<style>.container { width:90% !important; }</style>"
      ],
      "text/plain": [
       "<IPython.core.display.HTML object>"
      ]
     },
     "metadata": {},
     "output_type": "display_data"
    }
   ],
   "source": [
    "import pickle\n",
    "import scipy as sp\n",
    "import numpy as np\n",
    "import pandas as pd\n",
    "import anndata\n",
    "import matplotlib.pyplot as plt\n",
    "from matplotlib import rcParams\n",
    "import seaborn as sns\n",
    "from bioinfokit import analys, visuz\n",
    "import scanpy as sc\n",
    "import bbknn\n",
    "from matplotlib.pyplot import rc_context\n",
    "\n",
    "from IPython.core.display import display, HTML\n",
    "display(HTML(\"<style>.container { width:90% !important; }</style>\"))\n",
    "\n",
    "from IPython.display import display_html\n",
    "def display2(*args):\n",
    "    html_str=''\n",
    "    for df in args:\n",
    "        html_str+=df.to_html()\n",
    "    display_html(html_str.replace('table','table style=\"display:inline\"'),raw=True)"
   ]
  },
  {
   "cell_type": "code",
   "execution_count": 2,
   "id": "e227023b",
   "metadata": {
    "collapsed": true,
    "jupyter": {
     "outputs_hidden": true
    }
   },
   "outputs": [
    {
     "name": "stderr",
     "output_type": "stream",
     "text": [
      "/home/gary/anaconda2/envs/jgpy37/lib/python3.7/site-packages/ipykernel_launcher.py:4: SettingWithCopyWarning:\n",
      "\n",
      "\n",
      "A value is trying to be set on a copy of a slice from a DataFrame\n",
      "\n",
      "See the caveats in the documentation: https://pandas.pydata.org/pandas-docs/stable/user_guide/indexing.html#returning-a-view-versus-a-copy\n",
      "\n",
      "/home/gary/anaconda2/envs/jgpy37/lib/python3.7/site-packages/ipykernel_launcher.py:5: SettingWithCopyWarning:\n",
      "\n",
      "\n",
      "A value is trying to be set on a copy of a slice from a DataFrame\n",
      "\n",
      "See the caveats in the documentation: https://pandas.pydata.org/pandas-docs/stable/user_guide/indexing.html#returning-a-view-versus-a-copy\n",
      "\n",
      "/home/gary/anaconda2/envs/jgpy37/lib/python3.7/site-packages/ipykernel_launcher.py:6: SettingWithCopyWarning:\n",
      "\n",
      "\n",
      "A value is trying to be set on a copy of a slice from a DataFrame\n",
      "\n",
      "See the caveats in the documentation: https://pandas.pydata.org/pandas-docs/stable/user_guide/indexing.html#returning-a-view-versus-a-copy\n",
      "\n",
      "/home/gary/anaconda2/envs/jgpy37/lib/python3.7/site-packages/ipykernel_launcher.py:7: SettingWithCopyWarning:\n",
      "\n",
      "\n",
      "A value is trying to be set on a copy of a slice from a DataFrame\n",
      "\n",
      "See the caveats in the documentation: https://pandas.pydata.org/pandas-docs/stable/user_guide/indexing.html#returning-a-view-versus-a-copy\n",
      "\n"
     ]
    }
   ],
   "source": [
    "Sman_peak_anno = pd.read_csv(\"./MetaData/Sman.chipseekr_annots.csv\")\n",
    "Sman_peak_anno['peak_type'] = \"Promoter\"\n",
    "Sman_peak_anno['peak_type'][Sman_peak_anno.annotation.str.contains(\"Promoter\") ] = \"Promoter\"\n",
    "Sman_peak_anno['peak_type'][Sman_peak_anno.annotation.str.contains(\"Distal Intergenic\") ] = \"Distal Intergenic\"\n",
    "Sman_peak_anno['peak_type'][Sman_peak_anno.annotation.str.contains(\"Intron\") ] = \"Intronic\"\n",
    "Sman_peak_anno['peak_type'][Sman_peak_anno.annotation.str.contains(\"Exon\") ] = \"Exonic\"\n",
    "Sman_peak_anno['peak'] = Sman_peak_anno['seqnames'] + ':' + Sman_peak_anno['start'].astype(str) + '-' + Sman_peak_anno['end'].astype(str)"
   ]
  },
  {
   "cell_type": "code",
   "execution_count": 3,
   "id": "245daea1",
   "metadata": {
    "collapsed": true,
    "jupyter": {
     "outputs_hidden": true
    }
   },
   "outputs": [
    {
     "name": "stderr",
     "output_type": "stream",
     "text": [
      "/home/gary/anaconda2/envs/jgpy37/lib/python3.7/site-packages/ipykernel_launcher.py:4: SettingWithCopyWarning:\n",
      "\n",
      "\n",
      "A value is trying to be set on a copy of a slice from a DataFrame\n",
      "\n",
      "See the caveats in the documentation: https://pandas.pydata.org/pandas-docs/stable/user_guide/indexing.html#returning-a-view-versus-a-copy\n",
      "\n",
      "/home/gary/anaconda2/envs/jgpy37/lib/python3.7/site-packages/ipykernel_launcher.py:5: SettingWithCopyWarning:\n",
      "\n",
      "\n",
      "A value is trying to be set on a copy of a slice from a DataFrame\n",
      "\n",
      "See the caveats in the documentation: https://pandas.pydata.org/pandas-docs/stable/user_guide/indexing.html#returning-a-view-versus-a-copy\n",
      "\n",
      "/home/gary/anaconda2/envs/jgpy37/lib/python3.7/site-packages/ipykernel_launcher.py:6: SettingWithCopyWarning:\n",
      "\n",
      "\n",
      "A value is trying to be set on a copy of a slice from a DataFrame\n",
      "\n",
      "See the caveats in the documentation: https://pandas.pydata.org/pandas-docs/stable/user_guide/indexing.html#returning-a-view-versus-a-copy\n",
      "\n",
      "/home/gary/anaconda2/envs/jgpy37/lib/python3.7/site-packages/ipykernel_launcher.py:7: SettingWithCopyWarning:\n",
      "\n",
      "\n",
      "A value is trying to be set on a copy of a slice from a DataFrame\n",
      "\n",
      "See the caveats in the documentation: https://pandas.pydata.org/pandas-docs/stable/user_guide/indexing.html#returning-a-view-versus-a-copy\n",
      "\n"
     ]
    }
   ],
   "source": [
    "Smed_peak_anno = pd.read_csv(\"./MetaData/Smed.chipseekr_annots.csv\")\n",
    "Smed_peak_anno['peak_type'] = \"Promoter\"\n",
    "Smed_peak_anno['peak_type'][Smed_peak_anno.annotation.str.contains(\"Promoter\") ] = \"Promoter\"\n",
    "Smed_peak_anno['peak_type'][Smed_peak_anno.annotation.str.contains(\"Distal Intergenic\") ] = \"Distal Intergenic\"\n",
    "Smed_peak_anno['peak_type'][Smed_peak_anno.annotation.str.contains(\"Intron\") ] = \"Intronic\"\n",
    "Smed_peak_anno['peak_type'][Smed_peak_anno.annotation.str.contains(\"Exon\") ] = \"Exonic\"\n",
    "Smed_peak_anno['peak'] = Smed_peak_anno['seqnames'] + ':' + Smed_peak_anno['start'].astype(str) + '-' + Smed_peak_anno['end'].astype(str)"
   ]
  },
  {
   "cell_type": "code",
   "execution_count": 4,
   "id": "6bf74f73",
   "metadata": {
    "collapsed": true,
    "jupyter": {
     "outputs_hidden": true
    }
   },
   "outputs": [
    {
     "name": "stderr",
     "output_type": "stream",
     "text": [
      "/home/gary/anaconda2/envs/jgpy37/lib/python3.7/site-packages/ipykernel_launcher.py:4: SettingWithCopyWarning:\n",
      "\n",
      "\n",
      "A value is trying to be set on a copy of a slice from a DataFrame\n",
      "\n",
      "See the caveats in the documentation: https://pandas.pydata.org/pandas-docs/stable/user_guide/indexing.html#returning-a-view-versus-a-copy\n",
      "\n",
      "/home/gary/anaconda2/envs/jgpy37/lib/python3.7/site-packages/ipykernel_launcher.py:5: SettingWithCopyWarning:\n",
      "\n",
      "\n",
      "A value is trying to be set on a copy of a slice from a DataFrame\n",
      "\n",
      "See the caveats in the documentation: https://pandas.pydata.org/pandas-docs/stable/user_guide/indexing.html#returning-a-view-versus-a-copy\n",
      "\n",
      "/home/gary/anaconda2/envs/jgpy37/lib/python3.7/site-packages/ipykernel_launcher.py:6: SettingWithCopyWarning:\n",
      "\n",
      "\n",
      "A value is trying to be set on a copy of a slice from a DataFrame\n",
      "\n",
      "See the caveats in the documentation: https://pandas.pydata.org/pandas-docs/stable/user_guide/indexing.html#returning-a-view-versus-a-copy\n",
      "\n",
      "/home/gary/anaconda2/envs/jgpy37/lib/python3.7/site-packages/ipykernel_launcher.py:7: SettingWithCopyWarning:\n",
      "\n",
      "\n",
      "A value is trying to be set on a copy of a slice from a DataFrame\n",
      "\n",
      "See the caveats in the documentation: https://pandas.pydata.org/pandas-docs/stable/user_guide/indexing.html#returning-a-view-versus-a-copy\n",
      "\n"
     ]
    }
   ],
   "source": [
    "Mlig_peak_anno = pd.read_csv(\"./MetaData/Mlig.chipseekr_annots.csv\")\n",
    "Mlig_peak_anno['peak_type'] = \"Promoter\"\n",
    "Mlig_peak_anno['peak_type'][Mlig_peak_anno.annotation.str.contains(\"Promoter\") ] = \"Promoter\"\n",
    "Mlig_peak_anno['peak_type'][Mlig_peak_anno.annotation.str.contains(\"Distal Intergenic\") ] = \"Distal Intergenic\"\n",
    "Mlig_peak_anno['peak_type'][Mlig_peak_anno.annotation.str.contains(\"Intron\") ] = \"Intronic\"\n",
    "Mlig_peak_anno['peak_type'][Mlig_peak_anno.annotation.str.contains(\"Exon\") ] = \"Exonic\"\n",
    "Mlig_peak_anno['peak'] = Mlig_peak_anno['seqnames'] + ':' + Mlig_peak_anno['start'].astype(str) + '-' + Mlig_peak_anno['end'].astype(str)"
   ]
  },
  {
   "cell_type": "code",
   "execution_count": 13,
   "id": "31dfa791",
   "metadata": {},
   "outputs": [],
   "source": [
    "Sman = Sman_peak_anno['peak_type'].value_counts(normalize=True)\n",
    "Smed = Smed_peak_anno['peak_type'].value_counts(normalize=True)\n",
    "Mlig = Mlig_peak_anno['peak_type'].value_counts(normalize=True)"
   ]
  },
  {
   "cell_type": "code",
   "execution_count": 14,
   "id": "7345796f",
   "metadata": {},
   "outputs": [
    {
     "data": {
      "text/plain": [
       "Intronic             0.439399\n",
       "Distal Intergenic    0.311606\n",
       "Exonic               0.166530\n",
       "Promoter             0.082464\n",
       "Name: peak_type, dtype: float64"
      ]
     },
     "execution_count": 14,
     "metadata": {},
     "output_type": "execute_result"
    }
   ],
   "source": [
    "Sman"
   ]
  },
  {
   "cell_type": "code",
   "execution_count": 15,
   "id": "b1e9dc14",
   "metadata": {},
   "outputs": [
    {
     "data": {
      "text/plain": [
       "Distal Intergenic    0.534449\n",
       "Intronic             0.257030\n",
       "Promoter             0.115100\n",
       "Exonic               0.093421\n",
       "Name: peak_type, dtype: float64"
      ]
     },
     "execution_count": 15,
     "metadata": {},
     "output_type": "execute_result"
    }
   ],
   "source": [
    "Smed"
   ]
  },
  {
   "cell_type": "code",
   "execution_count": 16,
   "id": "7a153247",
   "metadata": {},
   "outputs": [
    {
     "data": {
      "text/plain": [
       "Promoter             0.299282\n",
       "Exonic               0.261645\n",
       "Distal Intergenic    0.233927\n",
       "Intronic             0.205145\n",
       "Name: peak_type, dtype: float64"
      ]
     },
     "execution_count": 16,
     "metadata": {},
     "output_type": "execute_result"
    }
   ],
   "source": [
    "Mlig"
   ]
  },
  {
   "cell_type": "code",
   "execution_count": 17,
   "id": "c42d5993",
   "metadata": {},
   "outputs": [
    {
     "data": {
      "text/html": [
       "<div>\n",
       "<style scoped>\n",
       "    .dataframe tbody tr th:only-of-type {\n",
       "        vertical-align: middle;\n",
       "    }\n",
       "\n",
       "    .dataframe tbody tr th {\n",
       "        vertical-align: top;\n",
       "    }\n",
       "\n",
       "    .dataframe thead th {\n",
       "        text-align: right;\n",
       "    }\n",
       "</style>\n",
       "<table border=\"1\" class=\"dataframe\">\n",
       "  <thead>\n",
       "    <tr style=\"text-align: right;\">\n",
       "      <th></th>\n",
       "      <th>species</th>\n",
       "      <th>Promoter</th>\n",
       "      <th>Intergenic</th>\n",
       "      <th>Intronic</th>\n",
       "      <th>Exonic</th>\n",
       "    </tr>\n",
       "  </thead>\n",
       "  <tbody>\n",
       "    <tr>\n",
       "      <th>0</th>\n",
       "      <td>Mlig</td>\n",
       "      <td>0.299282</td>\n",
       "      <td>0.233927</td>\n",
       "      <td>0.205145</td>\n",
       "      <td>0.261645</td>\n",
       "    </tr>\n",
       "    <tr>\n",
       "      <th>1</th>\n",
       "      <td>Smed</td>\n",
       "      <td>0.115100</td>\n",
       "      <td>0.534449</td>\n",
       "      <td>0.257030</td>\n",
       "      <td>0.093421</td>\n",
       "    </tr>\n",
       "    <tr>\n",
       "      <th>2</th>\n",
       "      <td>Sman</td>\n",
       "      <td>0.082464</td>\n",
       "      <td>0.311606</td>\n",
       "      <td>0.439399</td>\n",
       "      <td>0.166530</td>\n",
       "    </tr>\n",
       "  </tbody>\n",
       "</table>\n",
       "</div>"
      ],
      "text/plain": [
       "  species  Promoter  Intergenic  Intronic    Exonic\n",
       "0    Mlig  0.299282    0.233927  0.205145  0.261645\n",
       "1    Smed  0.115100    0.534449  0.257030  0.093421\n",
       "2    Sman  0.082464    0.311606  0.439399  0.166530"
      ]
     },
     "execution_count": 17,
     "metadata": {},
     "output_type": "execute_result"
    }
   ],
   "source": [
    "data = {'species': ['Mlig','Smed','Sman'], 'Promoter': [ 0.299282,0.115100,0.082464], 'Intergenic': [0.233927,0.534449,0.311606], 'Intronic' : [0.205145,0.257030,0.439399], \n",
    "        'Exonic' :[0.261645,0.093421,0.166530]}\n",
    "df = pd.DataFrame(data=data)\n",
    "df"
   ]
  },
  {
   "cell_type": "code",
   "execution_count": 22,
   "id": "64acfd32",
   "metadata": {},
   "outputs": [],
   "source": [
    "### For marker \n",
    "### Just needed to apply one threshold to get marker preaks\n",
    "Mlig_marker = pd.read_csv(\"./scVI_models/Mlig.peakvi_marker_peaks.csv.gz\",index_col=0)\n",
    "Smed_marker = pd.read_csv(\"./scVI_models/Smed.peakvi_marker_peaks.csv.gz\",index_col=0)\n",
    "Sman_marker = pd.read_csv(\"./scVI_models/Sman.peakvi_marker_peaks.csv.gz\",index_col=0)\n",
    "\n",
    "Mlig_marker = Mlig_marker[(Mlig_marker.prob_da > 0.85) & (Mlig_marker.effect_size < -0.1)]\n",
    "Mlig_marker = Mlig_marker.groupby(Mlig_marker.index).last()\n",
    "\n",
    "Smed_marker = Smed_marker[(Smed_marker.prob_da > 0.85) & (Smed_marker.effect_size < -0.1)]\n",
    "Smed_marker = Smed_marker.groupby(Smed_marker.index).last()\n",
    "\n",
    "Sman_marker = Sman_marker[(Sman_marker.prob_da > 0.85) & (Sman_marker.effect_size < -0.1)]\n",
    "Sman_marker = Sman_marker.groupby(Sman_marker.index).last()\n",
    "\n",
    "### marker annotation \n",
    "Sman_marker_anno = Sman_peak_anno[Sman_peak_anno.peak.isin(Sman_marker.index)]\n",
    "Smed_marker_anno = Smed_peak_anno[Smed_peak_anno.peak.isin(Smed_marker.index)]\n",
    "Mlig_marker_anno = Mlig_peak_anno[Mlig_peak_anno.peak.isin(Mlig_marker.index)]\n",
    "\n",
    "Mlig = Mlig_marker_anno['peak_type'].value_counts(normalize=True) \n",
    "schisto = Sman_marker_anno['peak_type'].value_counts(normalize=True)\n",
    "Smed = Smed_marker_anno['peak_type'].value_counts(normalize=True)"
   ]
  },
  {
   "cell_type": "code",
   "execution_count": 23,
   "id": "0082aaad",
   "metadata": {},
   "outputs": [
    {
     "data": {
      "text/plain": [
       "Intronic             0.363371\n",
       "Distal Intergenic    0.320123\n",
       "Exonic               0.178458\n",
       "Promoter             0.138047\n",
       "Name: peak_type, dtype: float64"
      ]
     },
     "execution_count": 23,
     "metadata": {},
     "output_type": "execute_result"
    }
   ],
   "source": [
    "schisto"
   ]
  },
  {
   "cell_type": "code",
   "execution_count": 24,
   "id": "b2da071b",
   "metadata": {},
   "outputs": [
    {
     "data": {
      "text/plain": [
       "Distal Intergenic    0.421564\n",
       "Intronic             0.290386\n",
       "Promoter             0.163807\n",
       "Exonic               0.124243\n",
       "Name: peak_type, dtype: float64"
      ]
     },
     "execution_count": 24,
     "metadata": {},
     "output_type": "execute_result"
    }
   ],
   "source": [
    "Smed"
   ]
  },
  {
   "cell_type": "code",
   "execution_count": 25,
   "id": "d362b8a8",
   "metadata": {},
   "outputs": [
    {
     "data": {
      "text/plain": [
       "Promoter             0.396132\n",
       "Distal Intergenic    0.225313\n",
       "Intronic             0.194330\n",
       "Exonic               0.184225\n",
       "Name: peak_type, dtype: float64"
      ]
     },
     "execution_count": 25,
     "metadata": {},
     "output_type": "execute_result"
    }
   ],
   "source": [
    "Mlig"
   ]
  },
  {
   "cell_type": "code",
   "execution_count": 29,
   "id": "ba5d1ffc",
   "metadata": {},
   "outputs": [
    {
     "data": {
      "text/html": [
       "<div>\n",
       "<style scoped>\n",
       "    .dataframe tbody tr th:only-of-type {\n",
       "        vertical-align: middle;\n",
       "    }\n",
       "\n",
       "    .dataframe tbody tr th {\n",
       "        vertical-align: top;\n",
       "    }\n",
       "\n",
       "    .dataframe thead th {\n",
       "        text-align: right;\n",
       "    }\n",
       "</style>\n",
       "<table border=\"1\" class=\"dataframe\">\n",
       "  <thead>\n",
       "    <tr style=\"text-align: right;\">\n",
       "      <th></th>\n",
       "      <th>species</th>\n",
       "      <th>Promoter</th>\n",
       "      <th>Intergenic</th>\n",
       "      <th>Intronic</th>\n",
       "      <th>Exonic</th>\n",
       "    </tr>\n",
       "  </thead>\n",
       "  <tbody>\n",
       "    <tr>\n",
       "      <th>0</th>\n",
       "      <td>Mlig</td>\n",
       "      <td>0.396132</td>\n",
       "      <td>0.225313</td>\n",
       "      <td>0.194330</td>\n",
       "      <td>0.184225</td>\n",
       "    </tr>\n",
       "    <tr>\n",
       "      <th>1</th>\n",
       "      <td>Smed</td>\n",
       "      <td>0.163807</td>\n",
       "      <td>0.421564</td>\n",
       "      <td>0.290386</td>\n",
       "      <td>0.124243</td>\n",
       "    </tr>\n",
       "    <tr>\n",
       "      <th>2</th>\n",
       "      <td>Sman</td>\n",
       "      <td>0.138047</td>\n",
       "      <td>0.320123</td>\n",
       "      <td>0.363371</td>\n",
       "      <td>0.178458</td>\n",
       "    </tr>\n",
       "  </tbody>\n",
       "</table>\n",
       "</div>"
      ],
      "text/plain": [
       "  species  Promoter  Intergenic  Intronic    Exonic\n",
       "0    Mlig  0.396132    0.225313  0.194330  0.184225\n",
       "1    Smed  0.163807    0.421564  0.290386  0.124243\n",
       "2    Sman  0.138047    0.320123  0.363371  0.178458"
      ]
     },
     "execution_count": 29,
     "metadata": {},
     "output_type": "execute_result"
    }
   ],
   "source": [
    "data = {'species': ['Mlig','Smed','Sman'], 'Promoter': [0.396132,0.163807,0.138047], 'Intergenic': [0.225313,0.421564,0.320123], 'Intronic' : [0.194330,0.290386,0.363371], \n",
    "        'Exonic' :[0.184225,0.124243,0.178458]}\n",
    "df_marker = pd.DataFrame(data=data)\n",
    "df_marker"
   ]
  },
  {
   "cell_type": "code",
   "execution_count": 31,
   "id": "0b872fc9",
   "metadata": {},
   "outputs": [
    {
     "data": {
      "image/png": "[encoded data removed]",
      "text/plain": [
       "<Figure size 432x576 with 1 Axes>"
      ]
     },
     "metadata": {
      "needs_background": "light"
     },
     "output_type": "display_data"
    }
   ],
   "source": [
    "# Plotting\n",
    "fig, ax = plt.subplots(figsize=(6,8))\n",
    "names = ('M. lignano','S. mediterranea','S. mansoni')\n",
    "\n",
    "bar_width = 0.3  # Width of each bar\n",
    "buffer = 0.05\n",
    "bar_positions_df = np.arange(len(df['species']))\n",
    "bar_positions_df_marker = bar_positions_df + bar_width+ buffer \n",
    "\n",
    "# Plot bars for df\n",
    "for i, category in enumerate(['Promoter', 'Intergenic', 'Intronic', 'Exonic']):\n",
    "    ax.barh(bar_positions_df_marker, df[category], height=bar_width, label=f'{category} - df', left=df.iloc[:, 1:i+1].sum(axis=1))\n",
    "\n",
    "# Plot bars for df_marker\n",
    "for i, category in enumerate(['Promoter', 'Intergenic', 'Intronic', 'Exonic']):\n",
    "    ax.barh(bar_positions_df, df_marker[category], height=bar_width, label=f'{category} - df_marker', left=df_marker.iloc[:, 1:i+1].sum(axis=1))\n",
    "\n",
    "# Set Y-axis labels\n",
    "ax.set_yticks((bar_positions_df + bar_positions_df_marker) / 2)\n",
    "ax.set_yticklabels(df['species'])\n",
    "\n",
    "# Set legend\n",
    "ax.legend(loc='upper left', bbox_to_anchor=(1,1), ncol=1)\n",
    "\n",
    "\n",
    "# Set labels and title\n",
    "ax.set_xlabel('Number of peaks')\n",
    "ax.set_ylabel('Species')\n",
    "\n",
    "plt.savefig(\"./Plots/Fig1/Fig1c.svg\", format='svg')\n",
    "\n",
    "# Show the plot\n",
    "plt.show()"
   ]
  }
 ],
 "metadata": {
  "kernelspec": {
   "display_name": "Chew_SAM",
   "language": "python",
   "name": "chew_sam"
  },
  "language_info": {
   "codemirror_mode": {
    "name": "ipython",
    "version": 3
   },
   "file_extension": ".py",
   "mimetype": "text/x-python",
   "name": "python",
   "nbconvert_exporter": "python",
   "pygments_lexer": "ipython3",
   "version": "3.7.10"
  }
 },
 "nbformat": 4,
 "nbformat_minor": 5
}
