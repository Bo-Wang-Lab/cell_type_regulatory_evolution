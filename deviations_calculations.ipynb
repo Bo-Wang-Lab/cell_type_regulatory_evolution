{
 "cells": [
  {
   "cell_type": "code",
   "execution_count": null,
   "id": "6d28e73b-68be-4b40-aa36-c39acc7d9b21",
   "metadata": {},
   "outputs": [],
   "source": [
    "import pandas as pd\n",
    "import numpy as np\n",
    "import scanpy as sc\n",
    "import matplotlib.pyplot as plt\n",
    "from tqdm import tqdm\n",
    "import scipy as sp\n",
    "from scipy import sparse\n",
    "from anndata import AnnData\n",
    "import gc\n",
    "from pynndescent import NNDescent"
   ]
  },
  {
   "cell_type": "code",
   "execution_count": null,
   "id": "92248c08-0739-492a-880a-d12d85b75500",
   "metadata": {},
   "outputs": [],
   "source": [
    "def readAndCleanData( peakDataPath, peakMetaPath=None, SEACellPath=None ):\n",
    "    adataPeak = sc.read_h5ad( peakDataPath )\n",
    "    if peakMetaPath is not None:\n",
    "        peaks = pd.read_csv( peakMetaPath, index_col=0 )\n",
    "        peakdf.index = peakdf['seqnames'] + ':' + \\\n",
    "                       peakdf['start'].astype(str) + '-' + \\\n",
    "                       peakdf['end'].astype(str)\n",
    "        adataPeak.var = peaks.copy()\n",
    "    if SEACellPath is not None:\n",
    "        annots = pd.read_csv( SEACellPath, index_col=0 )\n",
    "        if 'SEACell' not in adataPeak.obs.columns:\n",
    "            adataPeak.obs['SEACell'] = annots.loc[adataPeak.obs_names,'SEACell']\n",
    "        if 'MaxSEACellScore' not in adataPeak.obs.columns:\n",
    "            adataPeak.obs['MaxSEACellScore'] = annots.loc[adataPeak.obs_names,'MaxSEACellScore']\n",
    "    adataPeak = adataPeak[adataPeak.obs.MaxSEACellScore>0.1,:].copy()\n",
    "    return adataPeak"
   ]
  },
  {
   "cell_type": "code",
   "execution_count": null,
   "id": "d83af7bd-f272-4ae1-a0fe-e81e334f7c9b",
   "metadata": {},
   "outputs": [],
   "source": [
    "def readAndAlignMotifHits( rawPath, filteredPath ):\n",
    "    adataPM = sc.read_h5ad( rawPath )\n",
    "    adataPMF = sc.read_h5ad( filteredPath )\n",
    "    # reorder the columns in case they get mixed up\n",
    "    adataPMF = adataPMF[:,adataPM.var_names].copy()\n",
    "    intersPeaks = adataPM.obs_names[adataPM.obs_names.isin(adataPMF.obs_names)]\n",
    "    tmp = np.zeros_like( adataPM.X )\n",
    "    tmp[adataPM.obs_names.isin(adataPMF.obs_names),:] = adataPMF[intersPeaks,:].X.A\n",
    "    adataPM.layers['filtered'] = sparse.csr_matrix( tmp )\n",
    "    return adataPM"
   ]
  },
  {
   "cell_type": "code",
   "execution_count": null,
   "id": "92de959e-da06-4835-98db-3316d3ee8de0",
   "metadata": {},
   "outputs": [],
   "source": [
    "def aggregateCountsOverSEACells( adata ):\n",
    "    scNames = np.sort(adata.obs.SEACell.unique())\n",
    "    samples = np.array([n.split('-')[1] for n in scNames])\n",
    "    X = np.zeros( (scNames.size,adata.n_vars) )\n",
    "\n",
    "    print( 'Aggregating peak counts over SEACells' )\n",
    "    for i, name in tqdm(enumerate(scNames)):\n",
    "        X[i,:] = adata[adata.obs.SEACell==name,:].X.A.sum(0)\n",
    "\n",
    "    return AnnData( X=sparse.csr_matrix(X),\n",
    "                    obs=pd.DataFrame( index=scNames, \n",
    "                                      data={ 'Sample':samples } ),\n",
    "                    var=pd.DataFrame( index=adataPeak.var_names ) )"
   ]
  },
  {
   "cell_type": "code",
   "execution_count": null,
   "id": "b302ab7c-ac90-409b-89fc-8ddc200512c9",
   "metadata": {},
   "outputs": [],
   "source": [
    "def calculateChromVARDeviations( adataCounts, adataAnnot, bkgd, annotLayer=None ):\n",
    "    # Get expected number of reads per peak\n",
    "    # if per-nucleus depth were only variable\n",
    "    E = np.zeros( adataCounts.shape )\n",
    "    samples = adataCounts.obs.Sample.values\n",
    "    # Do this separately per library\n",
    "    for s in np.unique(samples):\n",
    "        print( 'Calculating expectations for sample {0}'.format( s ) )\n",
    "        mask = samples == s\n",
    "        # Pull out counts for this sample\n",
    "        x = adataCounts.X[mask,:].A\n",
    "        # Multiply depth of each cell by the \n",
    "        # frequency of each peak in the whole matrix\n",
    "        E[mask,:] = x.sum(0)[None,:] / x.sum() * x.sum(1)[:,None]\n",
    "\n",
    "    # Read in binarized motif annotations\n",
    "    M = (adataAnnot.X>0).astype(int).T\n",
    "    if annotLayer is not None:\n",
    "        M = (adataAnnot.layers[annotLayer].X>0).astype(int).T\n",
    "    # Count up number of reads in peaks \n",
    "    # containing each motif, per cell\n",
    "    obs = M.dot( adataCounts.X.A.T )\n",
    "    # Do the same thing based on the null model\n",
    "    exp = M.dot( E.T )\n",
    "    den = exp.copy()\n",
    "    den[den==0] = 1\n",
    "    # Calculate the percent difference\n",
    "    # these are the deviations\n",
    "    Yobs = ( obs - exp ) / den\n",
    "    \n",
    "    # Now repeat with GC-matched background peaks\n",
    "    Ybgd = np.zeros( (bkgd.shape[1],*Yobs.shape) )\n",
    "\n",
    "    for i in tqdm(range(bkgd.shape[1])):\n",
    "        # Get motif annotations of GC matched peaks\n",
    "        shufInd = bkgd[:,i].flatten()\n",
    "        Mshuf = M[:,shufInd]\n",
    "        # Calculate the motif hits with shuffled\n",
    "        # annotations as above\n",
    "        obs = Mshuf.dot( X.T )\n",
    "        exp = Mshuf.dot( E.T )\n",
    "        den = exp.copy()\n",
    "        den[den==0] = 1\n",
    "        Ybgd[i,:,:] = ( obs - exp ) / den\n",
    "        \n",
    "    # Normalize by dividing each cell x motif\n",
    "    # observation by the standard deviation\n",
    "    # of these shuffled trials and \n",
    "    # subtracting out the mean\n",
    "    den = Ybgd.std(0)\n",
    "    den[den==0] = 1\n",
    "    Ynorm = ( Yobs - Ybgd.mean(0) ) / den\n",
    "    Ynorm = np.nan_to_num( Ynorm, 0 )\n",
    "    # This is now the 'deviation z-scores'\n",
    "    # from the original ChromVAR paper\n",
    "    \n",
    "    return Ynorm"
   ]
  },
  {
   "cell_type": "markdown",
   "id": "a3db5558-22d6-44b1-bc6b-33058f4fa507",
   "metadata": {},
   "source": [
    "# *M. lignano*"
   ]
  },
  {
   "cell_type": "code",
   "execution_count": null,
   "id": "a810b501-0b3d-4403-b730-59829bc7e267",
   "metadata": {},
   "outputs": [],
   "source": [
    "# Read in the peak accessibilities, annotated by SEACells\n",
    "adataPeak = readAndCleanData( 'ArchROutputs/Mlig/Mlig.peaks.h5ad',\n",
    "                              'ArchROutputs/Mlig/Mlig.peaks.csv',\n",
    "                              'SEACellsOutput/Mlig.all_SEACell_assignments.csv' )"
   ]
  },
  {
   "cell_type": "code",
   "execution_count": null,
   "id": "625d654e-0179-4eb3-b199-692096ad3d75",
   "metadata": {},
   "outputs": [],
   "source": [
    "# Read in the filtered peak-motif annotations\n",
    "adataPM = readAndAlignMotifHits( 'FilteredPeakMotifHits/Mlig.raw_peak_motif_hits.h5ad',\n",
    "                                 'FilteredPeakMotifHits/Mlig.filt_peak_motif_hits.h5ad' )"
   ]
  },
  {
   "cell_type": "code",
   "execution_count": null,
   "id": "7baa5df4-00fb-4b13-87b9-5ad4781714ec",
   "metadata": {},
   "outputs": [],
   "source": [
    "adataPeak = aggregateCountsOverSEACells( adataPeak )"
   ]
  },
  {
   "cell_type": "code",
   "execution_count": null,
   "id": "1031e291-098c-4d06-b4bc-1fd76a407374",
   "metadata": {},
   "outputs": [],
   "source": [
    "# (N,50) array of 50 GC matched peak indices per peak\n",
    "bgdPeaks = np.loadtxt( 'ArchROutputs/Mlig/Mlig.bgd_peaks.txt' ).astype(int) - 1"
   ]
  },
  {
   "cell_type": "code",
   "execution_count": null,
   "id": "04d0e221-b27f-42cc-8348-e854b481d3c0",
   "metadata": {},
   "outputs": [],
   "source": [
    "Xdev = calculateChromVARDeviations( adataPeak, adataPM, annotLayer='filtered' )"
   ]
  },
  {
   "cell_type": "code",
   "execution_count": null,
   "id": "6b66895d-1ff7-4bad-93e4-f495a5f93d74",
   "metadata": {},
   "outputs": [],
   "source": [
    "AnnData( X=Xdev.T, obs=adataPeak.obs, var=adataPM.var )\\\n",
    "    .write_h5ad( 'ChromVARDeviations/Mlig.SEACells_devs.h5ad' )"
   ]
  },
  {
   "cell_type": "markdown",
   "id": "dafd3e05-e5e3-46ff-a8aa-5db7cfff51c7",
   "metadata": {},
   "source": [
    "# *S. mediterranea*"
   ]
  },
  {
   "cell_type": "code",
   "execution_count": null,
   "id": "2cccb024-5e65-4b68-b662-977725bf4f45",
   "metadata": {},
   "outputs": [],
   "source": [
    "# Read in the peak accessibilities, annotated by SEACells\n",
    "adataPeak = readAndCleanData( 'ArchROutputs/Smed/Smed.peaks.h5ad',\n",
    "                              'ArchROutputs/Smed/Smed.peaks.csv',\n",
    "                              'SEACellsOutput/Smed.all_SEACell_assignments.csv' )"
   ]
  },
  {
   "cell_type": "code",
   "execution_count": null,
   "id": "1dbef485-bc0c-4ae9-84d3-ef639304dbe5",
   "metadata": {},
   "outputs": [],
   "source": [
    "# Read in the filtered peak-motif annotations\n",
    "adataPM = readAndAlignMotifHits( 'FilteredPeakMotifHits/Smed.raw_peak_motif_hits.h5ad',\n",
    "                                 'FilteredPeakMotifHits/Smed.filt_peak_motif_hits.h5ad' )"
   ]
  },
  {
   "cell_type": "code",
   "execution_count": null,
   "id": "18da1d93-8e78-42db-8b64-c56e25404c37",
   "metadata": {},
   "outputs": [],
   "source": [
    "adataPeak = aggregateCountsOverSEACells( adataPeak )"
   ]
  },
  {
   "cell_type": "code",
   "execution_count": null,
   "id": "e46ae62d-71cb-4f97-8721-6f902486908a",
   "metadata": {},
   "outputs": [],
   "source": [
    "# (N,50) array of 50 GC matched peak indices per peak\n",
    "bgdPeaks = np.loadtxt( 'ArchROutputs/Smed/Smed.bgd_peaks.txt' ).astype(int) - 1"
   ]
  },
  {
   "cell_type": "code",
   "execution_count": null,
   "id": "20fe04dd-526e-4825-80dd-cc44ccb2e0ad",
   "metadata": {},
   "outputs": [],
   "source": [
    "Xdev = calculateChromVARDeviations( adataPeak, adataPM, annotLayer='filtered' )"
   ]
  },
  {
   "cell_type": "code",
   "execution_count": null,
   "id": "143f35ae-d562-4a8d-b4aa-9281c0232678",
   "metadata": {},
   "outputs": [],
   "source": [
    "AnnData( X=Xdev.T, obs=adataPeak.obs, var=adataPM.var )\\\n",
    "    .write_h5ad( 'ChromVARDeviations/Mlig.SEACells_devs.h5ad' )"
   ]
  },
  {
   "cell_type": "markdown",
   "id": "736a49ca-e4f9-43c9-880a-e173c797919f",
   "metadata": {},
   "source": [
    "# *S. mansoni*"
   ]
  },
  {
   "cell_type": "code",
   "execution_count": null,
   "id": "cc18d617-45c7-4e27-85d1-04aff69e1680",
   "metadata": {},
   "outputs": [],
   "source": [
    "# Read in the peak accessibilities, annotated by SEACells\n",
    "adataPeak = readAndCleanData( 'ArchROutputs/Sman/Sman.peaks.h5ad',\n",
    "                              'ArchROutputs/Sman/Sman.peaks.csv',\n",
    "                              'SEACellsOutput/Sman.all_SEACell_assignments.csv' )"
   ]
  },
  {
   "cell_type": "code",
   "execution_count": null,
   "id": "8e3b140e-02a8-44b0-8db7-6d3b54207f5e",
   "metadata": {},
   "outputs": [],
   "source": [
    "# Read in the filtered peak-motif annotations\n",
    "adataPM = readAndAlignMotifHits( 'FilteredPeakMotifHits/Sman.raw_peak_motif_hits.h5ad',\n",
    "                                 'FilteredPeakMotifHits/Sman.filt_peak_motif_hits.h5ad' )"
   ]
  },
  {
   "cell_type": "code",
   "execution_count": null,
   "id": "d4f1b62a-8e1c-493a-a4d3-b03546bb9938",
   "metadata": {},
   "outputs": [],
   "source": [
    "adataPeak = aggregateCountsOverSEACells( adataPeak )"
   ]
  },
  {
   "cell_type": "code",
   "execution_count": null,
   "id": "77ea3a3e-e254-4f80-9930-2a2af81066f1",
   "metadata": {},
   "outputs": [],
   "source": [
    "# (N,50) array of 50 GC matched peak indices per peak\n",
    "bgdPeaks = np.loadtxt( 'ArchROutputs/Sman/Sman.bgd_peaks.txt' ).astype(int) - 1"
   ]
  },
  {
   "cell_type": "code",
   "execution_count": null,
   "id": "ee944361-3860-41de-a9be-72be675500eb",
   "metadata": {},
   "outputs": [],
   "source": [
    "Xdev = calculateChromVARDeviations( adataPeak, adataPM, annotLayer='filtered' )"
   ]
  },
  {
   "cell_type": "code",
   "execution_count": null,
   "id": "aede2fa2-5930-4ba5-bb2f-898dc676f2af",
   "metadata": {},
   "outputs": [],
   "source": [
    "AnnData( X=Xdev.T, obs=adataPeak.obs, var=adataPM.var )\\\n",
    "    .write_h5ad( 'ChromVARDeviations/Mlig.SEACells_devs.h5ad' )"
   ]
  },
  {
   "cell_type": "code",
   "execution_count": null,
   "id": "d1fdc3ee-048f-4561-b3f5-de54e32b0b9c",
   "metadata": {},
   "outputs": [],
   "source": []
  }
 ],
 "metadata": {
  "kernelspec": {
   "display_name": "Python 3 (ipykernel)",
   "language": "python",
   "name": "python3"
  },
  "language_info": {
   "codemirror_mode": {
    "name": "ipython",
    "version": 3
   },
   "file_extension": ".py",
   "mimetype": "text/x-python",
   "name": "python",
   "nbconvert_exporter": "python",
   "pygments_lexer": "ipython3",
   "version": "3.8.13"
  }
 },
 "nbformat": 4,
 "nbformat_minor": 5
}
