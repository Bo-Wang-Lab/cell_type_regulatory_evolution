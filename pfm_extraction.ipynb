{
 "cells": [
  {
   "cell_type": "code",
   "execution_count": null,
   "id": "fae48411-3111-4382-be31-16cbc4fb81f5",
   "metadata": {},
   "outputs": [],
   "source": [
    "import h5py\n",
    "import numpy as np\n",
    "import pandas as pd\n",
    "import modisco\n",
    "import tqdm\n",
    "import io\n",
    "import base64\n",
    "import urllib\n",
    "import vdom.helpers as vdomh\n",
    "import deepdish\n",
    "import pyBigWig\n",
    "import nexusformat.nexus as nx\n",
    "import os"
   ]
  },
  {
   "cell_type": "markdown",
   "id": "640b2a66-6a26-4180-9ae3-3828664be720",
   "metadata": {},
   "source": [
    "# Utility functions"
   ]
  },
  {
   "cell_type": "code",
   "execution_count": null,
   "id": "5dfd0dd3-ac21-4c97-b915-a9a1efcfed44",
   "metadata": {},
   "outputs": [],
   "source": [
    "BACKGROUND_FREQS = np.array([0.25, 0.25, 0.25, 0.25])\n",
    "def info_content(track, pseudocount=0.001):\n",
    "    \"\"\"\n",
    "    Given an L x 4 track, computes information content for each base and\n",
    "    returns it as an L-array.\n",
    "    \"\"\"\n",
    "    num_bases = track.shape[1]\n",
    "    # Normalize track to probabilities along base axis\n",
    "    track_norm = (track + pseudocount) / (np.sum(track, axis=1, keepdims=True) + (num_bases * pseudocount))\n",
    "    ic = track_norm * np.log2(track_norm / np.expand_dims(BACKGROUND_FREQS, axis=0))\n",
    "    return np.sum(ic, axis=1)"
   ]
  },
  {
   "cell_type": "code",
   "execution_count": null,
   "id": "c6e6917c-be97-49ec-9ba2-9bf2873e3195",
   "metadata": {},
   "outputs": [],
   "source": [
    "def trim_motif(pfm, motif, min_ic=0.2, pad=0):\n",
    "    \"\"\"\n",
    "    Given the PFM and motif (both L x 4 arrays) (the motif could be the\n",
    "    PFM itself), trims `motif` by cutting off flanks of low information\n",
    "    content in `pfm`. `min_ic` is the minimum required information\n",
    "    content. If specified this trimmed motif will be extended on either\n",
    "    side by `pad` bases.\n",
    "    If no base passes the `min_ic` threshold, then no trimming is done.\n",
    "    \"\"\"\n",
    "    # Trim motif based on information content\n",
    "    ic = info_content(pfm)\n",
    "    pass_inds = np.where(ic >= min_ic)[0]  # Cut off flanks with less than min_ic IC\n",
    "    \n",
    "    if not pass_inds.size:\n",
    "        return motif\n",
    "\n",
    "    # Expand trimming to +/- pad bp on either side\n",
    "    start, end = max(0, np.min(pass_inds) - pad), min(len(pfm), np.max(pass_inds) + pad + 1)\n",
    "    return motif[start:end]"
   ]
  },
  {
   "cell_type": "code",
   "execution_count": null,
   "id": "ed15a9ca-4dee-4351-9c9d-3324bea2c178",
   "metadata": {},
   "outputs": [],
   "source": [
    "def pfm_to_pwm(pfm):\n",
    "    ic = info_content(pfm)\n",
    "    return pfm * np.expand_dims(ic, axis=1)"
   ]
  },
  {
   "cell_type": "code",
   "execution_count": null,
   "id": "629a7519-aa19-449b-b7cb-1f69861023cd",
   "metadata": {},
   "outputs": [],
   "source": [
    "def extractMotifsFromMoDIScoH5( basedir, task ):\n",
    "    folder_name = []\n",
    "    for folder in os.listdir(basedir):\n",
    "        ctdir = os.path.join(basedir,folder)\n",
    "        if not os.path.isdir( ctdir ) or \\\n",
    "        folder in ['.ipynb_checkpoints','__pycache__']:\n",
    "            continue\n",
    "        folder_names = folder.split(\"/\")[-1]\n",
    "\n",
    "        pfms = {}\n",
    "        pwms = {} \n",
    "        tfm_results_path = os.path.join(ctdir,folder + f'_{task}_modisco_results.h5')   \n",
    "        with h5py.File(tfm_results_path, \"r\") as f:\n",
    "            pos_pattern = f[\"pos_patterns\"]\n",
    "            num_patterns = len(pos_pattern.keys())\n",
    "            for pattern_i, pattern_key in enumerate(pos_pattern.keys()):\n",
    "                pattern = pos_pattern[pattern_key]\n",
    "                pfm = pattern[\"sequence\"][:]\n",
    "                cwm = pattern[\"hypothetical_contribs\"][:]\n",
    "\n",
    "                pfm = trim_motif(pfm,pfm)        \n",
    "                pwm = pfm_to_pwm(pfm)\n",
    "                pfms[pattern_key] = pfm\n",
    "                pwms[pattern_key] = pwm\n",
    "\n",
    "            np.save(os.path.join(ctdir,f\"pfms_{task}.npy\"),pfms)\n",
    "            np.save(os.path.join(ctdir,f\"pwms_{task}.npy\"),pwms)"
   ]
  },
  {
   "cell_type": "code",
   "execution_count": null,
   "id": "b90263fa-9749-45ec-8ca6-da89e02a8022",
   "metadata": {},
   "outputs": [],
   "source": [
    "def extractNSeqletsFromMoDIScoH5( basedir, task ):\n",
    "    folder_name = []\n",
    "    for folder in os.listdir(basedir):\n",
    "        ctdir = os.path.join(basedir,folder)\n",
    "        if not os.path.isdir( ctdir ) or \\\n",
    "        folder in ['.ipynb_checkpoints','__pycache__']:\n",
    "            continue\n",
    "        folder_names = folder.split(\"/\")[-1]\n",
    "\n",
    "        seqlets = {}\n",
    "        tfm_results_path = os.path.join(ctdir,folder + f'_{task}_modisco_results.h5')   \n",
    "        with h5py.File(tfm_results_path, \"r\") as f:\n",
    "            pos_pattern = f[\"pos_patterns\"]\n",
    "            num_patterns = len(pos_pattern.keys())\n",
    "            for pattern_i, pattern_key in enumerate(pos_pattern.keys()):\n",
    "                pattern = pos_pattern[pattern_key]\n",
    "                seqlet = pattern[\"seqlets\"]['n_seqlets'][:]\n",
    "                seqlets[pattern_key] = seqlet[0]\n",
    "            np.save(os.path.join(ctdir,f\"pfms_{task}_n_seqlets.npy\"),seqlets)"
   ]
  },
  {
   "cell_type": "markdown",
   "id": "303cc7a2-e829-4549-a7bf-1626ef7c88a3",
   "metadata": {},
   "source": [
    "# Extract data from all models"
   ]
  },
  {
   "cell_type": "code",
   "execution_count": null,
   "id": "7fa0c62a-3014-4c3d-ac76-89f47f1b9397",
   "metadata": {},
   "outputs": [],
   "source": [
    "extractMotifsFromMoDIScoH5( 'MoDISco_PFMs/Mlig/', 'profile' )\n",
    "extractMotifsFromMoDIScoH5( 'MoDISco_PFMs/Mlig/', 'counts' )\n",
    "extractNSeqletsFromMoDIScoH5( 'MoDISco_PFMs/Mlig/', 'profile' )\n",
    "extractNSeqletsFromMoDIScoH5( 'MoDISco_PFMs/Mlig/', 'counts' )"
   ]
  },
  {
   "cell_type": "code",
   "execution_count": null,
   "id": "a5a9948c-2684-4c8c-8613-8132f51ccb49",
   "metadata": {},
   "outputs": [],
   "source": [
    "extractMotifsFromMoDIScoH5( 'MoDISco_PFMs/Smed/', 'profile' )\n",
    "extractMotifsFromMoDIScoH5( 'MoDISco_PFMs/Smed/', 'counts' )\n",
    "extractNSeqletsFromMoDIScoH5( 'MoDISco_PFMs/Smed/', 'profile' )\n",
    "extractNSeqletsFromMoDIScoH5( 'MoDISco_PFMs/Smed/', 'counts' )"
   ]
  },
  {
   "cell_type": "code",
   "execution_count": null,
   "id": "d4c5e990-6449-4901-afbb-30bac6805e1e",
   "metadata": {},
   "outputs": [],
   "source": [
    "extractMotifsFromMoDIScoH5( 'MoDISco_PFMs/Sman/', 'profile' )\n",
    "extractMotifsFromMoDIScoH5( 'MoDISco_PFMs/Sman/', 'counts' )\n",
    "extractNSeqletsFromMoDIScoH5( 'MoDISco_PFMs/Sman/', 'profile' )\n",
    "extractNSeqletsFromMoDIScoH5( 'MoDISco_PFMs/Sman/', 'counts' )"
   ]
  }
 ],
 "metadata": {
  "kernelspec": {
   "display_name": "Python 3 (ipykernel)",
   "language": "python",
   "name": "python3"
  },
  "language_info": {
   "codemirror_mode": {
    "name": "ipython",
    "version": 3
   },
   "file_extension": ".py",
   "mimetype": "text/x-python",
   "name": "python",
   "nbconvert_exporter": "python",
   "pygments_lexer": "ipython3",
   "version": "3.8.13"
  }
 },
 "nbformat": 4,
 "nbformat_minor": 5
}
