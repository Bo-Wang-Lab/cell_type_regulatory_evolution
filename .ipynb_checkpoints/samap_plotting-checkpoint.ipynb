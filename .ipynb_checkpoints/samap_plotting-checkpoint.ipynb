{
 "cells": [
  {
   "cell_type": "markdown",
   "id": "37d0a5a0",
   "metadata": {},
   "source": [
    "Run this within the SAMap docker container"
   ]
  },
  {
   "cell_type": "code",
   "execution_count": null,
   "id": "859934d5",
   "metadata": {},
   "outputs": [],
   "source": [
    "! pip install plotly==5.8.0\n",
    "! pip install nodejs\n",
    "! pip install ipywidgets>=7.6"
   ]
  },
  {
   "cell_type": "code",
   "execution_count": null,
   "id": "fb1e39e5",
   "metadata": {},
   "outputs": [],
   "source": [
    "! conda install -y -c conda-forge python-kaleido"
   ]
  },
  {
   "cell_type": "code",
   "execution_count": null,
   "id": "611f5be7",
   "metadata": {},
   "outputs": [],
   "source": [
    "import plotly.graph_objects as go\n",
    "import pandas as pd \n",
    "import plotly.express as px\n",
    "import numpy as np"
   ]
  },
  {
   "cell_type": "markdown",
   "id": "a061afca",
   "metadata": {},
   "source": [
    "# Cluster level mappings"
   ]
  },
  {
   "cell_type": "code",
   "execution_count": null,
   "id": "18345e69",
   "metadata": {},
   "outputs": [],
   "source": [
    "# Read in the mapping scores\n",
    "R = pd.read_csv( 'Metadata/GroupFigure_SAMap_scores.csv', index_col=0 )\n",
    "R = R.unstack().reset_index(drop=False)\n",
    "R.columns = ['source','target','Value']\n",
    "R['source_sp'] = [ s.split('_')[0] for s in R.source ]\n",
    "R['target_sp'] = [ t.split('_')[0] for t in R.target ]\n",
    "# Cut the mappings that are below 0.1\n",
    "thresh = 0.1\n",
    "indThresh = R.where( R.Value>thresh ).dropna().index.values\n",
    "# Also keeping edges that represent the max mapping\n",
    "# score for each cluster just so we plot everything\n",
    "# these low scores are manually trimmed out in Illustrator\n",
    "indSourceMax = R.groupby(['source','target_sp']).apply(lambda x:x.Value.idxmax()).values\n",
    "indTargetMax = R.groupby(['target','source_sp']).apply(lambda x:x.Value.idxmax()).values\n",
    "keep = set(indThresh) | set(indSourceMax) | set(indTargetMax)\n",
    "R = R.iloc[R.index.isin(keep),:].drop(['source_sp','target_sp'],axis=1)\n",
    "R"
   ]
  },
  {
   "cell_type": "code",
   "execution_count": null,
   "id": "16236f5d",
   "metadata": {},
   "outputs": [],
   "source": [
    "# Remove this one tiny cluster that's not well annotated\n",
    "R = R.loc[~R.source.str.contains('\\?\\?\\?-1')&\\\n",
    "          ~R.target.str.contains('\\?\\?\\?-1'),:].reset_index(drop=True)\n",
    "# Put species in the order we want\n",
    "R = R.loc[ ((R.source.str.startswith('Ml')&R.target.str.startswith('Pl'))|\n",
    "            (R.source.str.startswith('Pl')&R.target.str.startswith('Sm'))|\n",
    "            (R.source.str.startswith('Sm')&R.target.str.startswith('Ml'))), : ]\\\n",
    "     .reset_index(drop=True)\n",
    "# Rename the Mlig clusters on the right so we can plot separately\n",
    "R.loc[:,'target'] = R.target.str.replace( 'Ml', 'Ml2' )\n",
    "# Add a little bit to the ones that aren't connected so they plot\n",
    "# (again, removed in Illustrator)\n",
    "R.loc[R.Value==0,'Value'] = 1e-4\n",
    "R"
   ]
  },
  {
   "cell_type": "code",
   "execution_count": 1,
   "id": "0eb78459",
   "metadata": {},
   "outputs": [],
   "source": [
    "# Print out all of the edges we'll need to remove later\n",
    "R[R.Value<=thresh]"
   ]
  },
  {
   "cell_type": "code",
   "execution_count": null,
   "id": "19e5a55e",
   "metadata": {},
   "outputs": [],
   "source": [
    "# Order the clusters for plotting\n",
    "label_1 = [ 'Ml_Cathepsin', 'Ml_Intestine-1', 'Ml_Intestine-2', 'Ml_GSC',  \n",
    "            'Ml_Female Germline', 'Ml_Male Germline', 'Ml_Neoblast',  \n",
    "            'Ml_Neural Progenitors', 'Ml_Neural-1', 'Ml_Neural-2', 'Ml_Neural-3', \n",
    "            'Ml_Neural-4', 'Ml_Neural-POU4', 'Ml_Muscle', 'Ml_Epidermal Progenitors',    \n",
    "            'Ml_Epidermal-1', 'Ml_Epidermal-2', 'Ml_Parenchymal-1', 'Ml_Parenchymal-2',   \n",
    "            'Ml_Parenchymal-3', 'Ml_Parenchymal-4', 'Ml_Parenchymal-5', 'Ml_Protonephridia',\n",
    "            'Ml_???-2' ]\n",
    "label_2 = [ 'Pl_Cathepsin', 'Pl_Intestine-1', 'Pl_Intestine-2', 'Pl_Ophis', \n",
    "            'Pl_GSC', 'Pl_GSC progeny/diff germline', 'Pl_Neoblast-1', \n",
    "            'Pl_Neoblast-2', 'Pl_Neural Progenitors', 'Pl_Neural-1', 'Pl_Neural-2', \n",
    "            'Pl_Neural-POU4', 'Pl_Muscle-1', 'Pl_Muscle-2', 'Pl_Muscle-3', \n",
    "            'Pl_Epidermal-1', 'Pl_Epidermal-2', 'Pl_Pharynx', 'Pl_Parenchymal', \n",
    "            'Pl_Protonephridia' ]\n",
    "label_3 = [ 'Sm_Cathepsin', 'Sm_Intestine', 'Sm_S1', 'Sm_GSC', 'Sm_Neoblast',\n",
    "            'Sm_Neural Progenitors', 'Sm_Neural-1', 'Sm_Neural-2', 'Sm_Neural-POU4', \n",
    "            'Sm_Neural-3', 'Sm_Neural-4', 'Sm_Neural-5', 'Sm_Muscle Progenitors',  \n",
    "            'Sm_Muscle-1', 'Sm_Muscle-2', 'Sm_Muscle-3', 'Sm_Tegument Progenitors', \n",
    "            'Sm_Tegument-1', 'Sm_Tegument-2', 'Sm_Vitellocytes', 'Sm_Oesophageal Gland',\n",
    "            'Sm_Protonephridia']\n",
    "label_4 = [ 'Ml2_Cathepsin', 'Ml2_Intestine-1', 'Ml2_Intestine-2', 'Ml2_GSC',  \n",
    "            'Ml2_Female Germline', 'Ml2_Male Germline', 'Ml2_Neoblast',  \n",
    "            'Ml2_Neural Progenitors', 'Ml2_Neural-1', 'Ml2_Neural-2', 'Ml2_Neural-3', \n",
    "            'Ml2_Neural-4', 'Ml2_Neural-POU4', 'Ml2_Muscle', 'Ml2_Epidermal Progenitors',    \n",
    "            'Ml2_Epidermal-1', 'Ml2_Epidermal-2', 'Ml2_Parenchymal-1', 'Ml2_Parenchymal-2',   \n",
    "            'Ml2_Parenchymal-3', 'Ml2_Parenchymal-4', 'Ml2_Parenchymal-5', 'Ml2_Protonephridia',\n",
    "            'Ml2_???-2' ]"
   ]
  },
  {
   "cell_type": "code",
   "execution_count": null,
   "id": "51a1efaf",
   "metadata": {},
   "outputs": [],
   "source": [
    "R12=R[R['source'].isin(label_1)].reset_index(drop=True)\n",
    "R23=R[R['source'].isin(label_2)].reset_index(drop=True)\n",
    "R34=R[R['source'].isin(label_3)].reset_index(drop=True)"
   ]
  },
  {
   "cell_type": "code",
   "execution_count": null,
   "id": "59ba1d05",
   "metadata": {},
   "outputs": [],
   "source": [
    "R12['source_idx'] = R12.apply(lambda x: label_1.index(x.source), axis=1)\n",
    "R12['target_idx'] = R12.apply(lambda x: label_2.index(x.target), axis=1)\n",
    "\n",
    "R23['source_idx'] = R23.apply(lambda x: label_2.index(x.source), axis=1)\n",
    "R23['target_idx'] = R23.apply(lambda x: label_3.index(x.target), axis=1)\n",
    "\n",
    "R34['source_idx'] = R34.apply(lambda x: label_3.index(x.source), axis=1)\n",
    "R34['target_idx'] = R34.apply(lambda x: label_4.index(x.target), axis=1)"
   ]
  },
  {
   "cell_type": "code",
   "execution_count": null,
   "id": "80ebcff4",
   "metadata": {},
   "outputs": [],
   "source": [
    "node_gap=0.005\n",
    "node_width_cof = 0.05"
   ]
  },
  {
   "cell_type": "code",
   "execution_count": null,
   "id": "8aae91e6",
   "metadata": {},
   "outputs": [],
   "source": [
    "x1 = [0.05]*len(label_1)\n",
    "x2 = [0.35]*len(label_2)\n",
    "x3 = [0.65]*len(label_3)\n",
    "x4 = [0.95]*len(label_4)"
   ]
  },
  {
   "cell_type": "code",
   "execution_count": null,
   "id": "c2180280",
   "metadata": {},
   "outputs": [],
   "source": [
    "width1 = []\n",
    "for source in label_1:\n",
    "    width1.append(np.sum(R12[R12['source']==source]['Value'])*node_width_cof)\n",
    "    \n",
    "width2 = []\n",
    "for target in label_2:\n",
    "    left_value = np.sum(R12[R12['target']==target]['Value'])\n",
    "    right_value = np.sum(R23[R23['source']==target]['Value'])\n",
    "    width2.append(max(left_value, right_value)*node_width_cof)\n",
    "    \n",
    "width3 = []\n",
    "for target in label_3:\n",
    "    left_value = np.sum(R23[R23['target']==target]['Value'])\n",
    "    right_value = np.sum(R34[R34['source']==target]['Value'])\n",
    "    width3.append(max(left_value, right_value)*node_width_cof)\n",
    "    \n",
    "width4 = []\n",
    "for target in label_4:\n",
    "    width4.append(np.sum(R34[R34['target']==target]['Value'])*node_width_cof)"
   ]
  },
  {
   "cell_type": "code",
   "execution_count": null,
   "id": "8ec909bf",
   "metadata": {},
   "outputs": [],
   "source": [
    "y1 = []\n",
    "for i in range(len(width1)):\n",
    "    if i==0:\n",
    "        y1.append(width1[0]/2)\n",
    "    else:\n",
    "        y1.append(np.sum(width1[:i]) + i*node_gap + width1[i]/2)\n",
    "\n",
    "y2 = []\n",
    "for i in range(len(width2)):\n",
    "    if i==0:\n",
    "        y2.append(width2[0]/2)\n",
    "    else:\n",
    "        y2.append(np.sum(width2[:i] ) + i*node_gap + width2[i]/2)\n",
    "\n",
    "y3 = []\n",
    "for i in range(len(width3)):\n",
    "    if i==0:\n",
    "        y3.append(width3[0]/2)\n",
    "    else:\n",
    "        y3.append(np.sum(width3[:i] ) + i*node_gap + width3[i]/2)\n",
    "\n",
    "y4 = []\n",
    "for i in range(len(width4)):\n",
    "    if i==0:\n",
    "        y4.append(width4[0]/2)\n",
    "    else:\n",
    "        y4.append(np.sum(width4[:i] ) + i*node_gap + width4[i]/2)"
   ]
  },
  {
   "cell_type": "code",
   "execution_count": null,
   "id": "c1931a2c",
   "metadata": {},
   "outputs": [],
   "source": [
    "source12 = R12['source_idx']\n",
    "source23 = R23['source_idx']+len(label_1)\n",
    "source34 = R34['source_idx']+len(label_1)+len(label_2)\n",
    "\n",
    "target12 = R12['target_idx']+len(label_1)\n",
    "target23 = R23['target_idx']+len(label_1)+len(label_2)\n",
    "target34 = R34['target_idx']+len(label_1)+len(label_2)+len(label_3)\n",
    "\n",
    "values12 = R12['Value']\n",
    "values23 = R23['Value']\n",
    "values34 = R34['Value']"
   ]
  },
  {
   "cell_type": "code",
   "execution_count": null,
   "id": "a73a08f6",
   "metadata": {},
   "outputs": [],
   "source": [
    "tissues = [ 'Cathepsin', 'Protonephridia', 'Intestine', 'Germline', 'Neoblast',\n",
    "            'Neural', 'Muscle', 'Epidermal', 'Pharynx', 'Parenchymal', 'Other' ]\n",
    "\n",
    "cmap = matplotlib.cm.get_cmap('tab20')\n",
    "tcmap = { l: matplotlib.colors.to_hex( cmap(i/(len(tissues)-1)) ) \\\n",
    "             for i, l in enumerate(tissues) }\n",
    "tcmap\n",
    "\n",
    "gtmap = { g: g.split('_')[1].split('-')[0] for g in set(R.source) | set(R.target) }\n",
    "gtmap['Sm_Muscle Progenitors'] = 'Muscle'\n",
    "gtmap['Sm_Neural Progenitors'] = 'Neural'\n",
    "gtmap['Ml_Neural Progenitors'] = 'Neural'\n",
    "gtmap['Pl_Neural Progenitors'] = 'Neural'\n",
    "gtmap['Ml2_Neural Progenitors'] = 'Neural'\n",
    "gtmap['Ml_Female Germline'] = 'Germline'\n",
    "gtmap['Ml2_Female Germline'] = 'Germline'\n",
    "gtmap['Ml_Male Germline'] = 'Germline'\n",
    "gtmap['Ml2_Male Germline'] = 'Germline'\n",
    "gtmap['Ml_GSC'] = 'Germline'\n",
    "gtmap['Ml2_GSC'] = 'Germline'\n",
    "gtmap['Sm_GSC'] = 'Germline'\n",
    "gtmap['Sm_S1'] = 'Neoblast'\n",
    "gtmap['Sm_Vitellocytes'] = 'Other'\n",
    "gtmap['Pl_GSC'] = 'Germline'\n",
    "gtmap['Pl_Ophis'] = 'Other'\n",
    "gtmap['Pl_GSC progeny/diff germline'] = 'Germline'\n",
    "gtmap['Sm_Tegument Progenitors'] = 'Epidermal'\n",
    "gtmap['Sm_Tegument-1'] = 'Epidermal'\n",
    "gtmap['Sm_Tegument-2'] = 'Epidermal'\n",
    "gtmap['Ml_Epidermal Progenitors'] = 'Epidermal'\n",
    "gtmap['Ml2_Epidermal Progenitors'] = 'Epidermal'\n",
    "gtmap['Ml_???-2'] = 'Epidermal'\n",
    "gtmap['Ml2_???-2'] = 'Epidermal'\n",
    "gtmap['Sm_Oesophageal Gland'] = 'Other'\n",
    "gtmap['Sm_Cathepsin'] = 'Cathepsin'\n",
    "gtmap['Ml_Cathepsin'] = 'Cathepsin'\n",
    "gtmap['Ml2_Cathepsin'] = 'Cathepsin'\n",
    "gtmap['Pl_Cathepsin'] = 'Cathepsin'\n",
    "\n",
    "gcmap = { g: tcmap[gtmap[g]] for g in gtmap }\n",
    "gcmap"
   ]
  },
  {
   "cell_type": "code",
   "execution_count": null,
   "id": "1413d43e",
   "metadata": {},
   "outputs": [],
   "source": [
    "color1 = [gcmap[tissue] for tissue in label_1]\n",
    "color2 = [gcmap[tissue] for tissue in label_2]\n",
    "color3 = [gcmap[tissue] for tissue in label_3]\n",
    "color4 = [gcmap[tissue] for tissue in label_4]"
   ]
  },
  {
   "cell_type": "code",
   "execution_count": null,
   "id": "60610006",
   "metadata": {},
   "outputs": [],
   "source": [
    "plot = go.Figure(go.Sankey(arrangement='snap',\n",
    "                           node = {\n",
    "                               \"label\": ['<b>'+x.split('_')[1]+'</b>' for x in label_1+label_2+label_3+label_4],\n",
    "                               \"x\": x1+x2+x3+x4,\n",
    "                               \"y\": y1+y2+y3+y4,\n",
    "                               'pad':10,\n",
    "                               'color':color1+color2+color3+color4},\n",
    "                           link = {\n",
    "                               \"source\": pd.concat([source12, source23, source34]).values,\n",
    "                               \"target\": pd.concat([target12, target23, target34]).values,\n",
    "                               \"value\": pd.concat([values12, values23, values34]).values}))\n",
    "\n",
    "plot.update_layout(width=1000, height=500, font_size=12, font = dict(family='Arial', color='black'))\n",
    "plot.write_image( 'Plots/FigS2/PanelS2c.svg' )\n",
    "plot.show()"
   ]
  },
  {
   "cell_type": "markdown",
   "id": "3fe96ab4",
   "metadata": {},
   "source": [
    "# Family level mappings"
   ]
  },
  {
   "cell_type": "code",
   "execution_count": null,
   "id": "d498a250",
   "metadata": {},
   "outputs": [],
   "source": [
    "R = pd.read_csv( 'Metadata/Family_SAMap_scores.csv', index_col=0 )\n",
    "R = R.unstack().reset_index(drop=False)\n",
    "R.columns = ['Source','Target','Value']\n",
    "R = R.loc[R.Value>=0.3,:]\n",
    "R = R.loc[(R.Source.str.startswith('Ml')&R.Target.str.startswith('Pl'))|\\\n",
    "          (R.Source.str.startswith('Pl')&R.Target.str.startswith('Sm'))|\\\n",
    "          (R.Source.str.startswith('Sm')&R.Target.str.startswith('Ml')),:].reset_index(drop=True)\n",
    "\n",
    "R"
   ]
  },
  {
   "cell_type": "code",
   "execution_count": null,
   "id": "0800c35f",
   "metadata": {},
   "outputs": [],
   "source": [
    "R.loc[R.Target.str.startswith('Ml'),'Target'] = R.Target[R.Target.str.startswith('Ml')]\\\n",
    "                                                         .str.replace('Ml','Ml2')\n",
    "R"
   ]
  },
  {
   "cell_type": "code",
   "execution_count": null,
   "id": "0cb52008",
   "metadata": {},
   "outputs": [],
   "source": [
    "# Add back in the protonephridia\n",
    "toAdd = pd.DataFrame({ 'Source':['Ml_Protonephridia','Pl_Protonephridia','Sm_Protonephridia'],\n",
    "                       'Target':['Pl_Protonephridia','Sm_Protonephridia','Ml2_Protonephridia'],\n",
    "                       'Value':[0.1,0.1,0.1] })\n",
    "R = R.append( toAdd, ignore_index=True )"
   ]
  },
  {
   "cell_type": "code",
   "execution_count": null,
   "id": "509485e9",
   "metadata": {},
   "outputs": [],
   "source": [
    "R"
   ]
  },
  {
   "cell_type": "code",
   "execution_count": null,
   "id": "8d5f4e78",
   "metadata": {},
   "outputs": [],
   "source": [
    "R.Source.unique()"
   ]
  },
  {
   "cell_type": "code",
   "execution_count": null,
   "id": "11d32693",
   "metadata": {},
   "outputs": [],
   "source": [
    "label_1 = ['Ml_Cathepsin', 'Ml_Intestine', 'Ml_Germline', 'Ml_Neoblast', 'Ml_Neural' , 'Ml_Muscle',  \n",
    "           'Ml_Epidermal', 'Ml_Parenchymal', 'Ml_Protonephridia']\n",
    "label_2 = ['Pl_Cathepsin', 'Pl_Intestine', 'Pl_Germline', 'Pl_Neoblast', 'Pl_Neural', 'Pl_Muscle', \n",
    "           'Pl_Epidermal', 'Pl_Parenchymal', 'Pl_Protonephridia']\n",
    "label_3 = ['Sm_Cathepsin', 'Sm_Intestine', 'Sm_Germline', 'Sm_Neoblast', 'Sm_Neural', 'Sm_Muscle',\n",
    "           'Sm_Epidermal', 'Sm_Protonephridia']\n",
    "label_4 = ['Ml2_Cathepsin', 'Ml2_Intestine', 'Ml2_Neoblast', 'Ml2_Neural' , 'Ml2_Muscle',  \n",
    "           'Ml2_Epidermal', 'Ml2_Protonephridia']"
   ]
  },
  {
   "cell_type": "code",
   "execution_count": null,
   "id": "6dfd68f9",
   "metadata": {},
   "outputs": [],
   "source": [
    "R12=R[R['Source'].isin(label_1)].reset_index(drop=True)\n",
    "R23=R[R['Source'].isin(label_2)].reset_index(drop=True)\n",
    "R34=R[R['Source'].isin(label_3)].reset_index(drop=True)"
   ]
  },
  {
   "cell_type": "code",
   "execution_count": null,
   "id": "33309889",
   "metadata": {},
   "outputs": [],
   "source": [
    "R12['source_idx'] = R12.apply(lambda x: label_1.index(x.Source), axis=1)\n",
    "R12['target_idx'] = R12.apply(lambda x: label_2.index(x.Target), axis=1)\n",
    "\n",
    "R23['source_idx'] = R23.apply(lambda x: label_2.index(x.Source), axis=1)\n",
    "R23['target_idx'] = R23.apply(lambda x: label_3.index(x.Target), axis=1)\n",
    "\n",
    "R34['source_idx'] = R34.apply(lambda x: label_3.index(x.Source), axis=1)\n",
    "R34['target_idx'] = R34.apply(lambda x: label_4.index(x.Target), axis=1)"
   ]
  },
  {
   "cell_type": "code",
   "execution_count": null,
   "id": "44d83a40",
   "metadata": {},
   "outputs": [],
   "source": [
    "node_gap=0.005\n",
    "node_width_cof = 0.05"
   ]
  },
  {
   "cell_type": "code",
   "execution_count": null,
   "id": "b9ff9850",
   "metadata": {},
   "outputs": [],
   "source": [
    "x1 = [0.05]*len(label_1)\n",
    "x2 = [0.35]*len(label_2)\n",
    "x3 = [0.65]*len(label_3)\n",
    "x4 = [0.95]*len(label_4)"
   ]
  },
  {
   "cell_type": "code",
   "execution_count": null,
   "id": "4b916a93",
   "metadata": {},
   "outputs": [],
   "source": [
    "width1 = []\n",
    "for source in label_1:\n",
    "    width1.append(np.sum(R12[R12['Source']==source]['Value'])*node_width_cof)\n",
    "    \n",
    "width2 = []\n",
    "for target in label_2:\n",
    "    left_value = np.sum(R12[R12['Target']==target]['Value'])\n",
    "    right_value = np.sum(R23[R23['Source']==target]['Value'])\n",
    "    width2.append(max(left_value, right_value)*node_width_cof)\n",
    "    \n",
    "width3 = []\n",
    "for target in label_3:\n",
    "    left_value = np.sum(R23[R23['Target']==target]['Value'])\n",
    "    right_value = np.sum(R34[R34['Source']==target]['Value'])\n",
    "    width3.append(max(left_value, right_value)*node_width_cof)\n",
    "    \n",
    "width4 = []\n",
    "for target in label_4:\n",
    "    width4.append(np.sum(R34[R34['Target']==target]['Value'])*node_width_cof)"
   ]
  },
  {
   "cell_type": "code",
   "execution_count": null,
   "id": "0af65897",
   "metadata": {},
   "outputs": [],
   "source": [
    "y1 = []\n",
    "for i in range(len(width1)):\n",
    "    if i==0:\n",
    "        y1.append(width1[0]/2)\n",
    "    else:\n",
    "        y1.append(np.sum(width1[:i]) + i*node_gap + width1[i]/2)\n",
    "\n",
    "y2 = []\n",
    "for i in range(len(width2)):\n",
    "    if i==0:\n",
    "        y2.append(width2[0]/2)\n",
    "    else:\n",
    "        y2.append(np.sum(width2[:i] ) + i*node_gap + width2[i]/2)\n",
    "\n",
    "y3 = []\n",
    "for i in range(len(width3)):\n",
    "    if i==0:\n",
    "        y3.append(width3[0]/2)\n",
    "    else:\n",
    "        y3.append(np.sum(width3[:i] ) + i*node_gap + width3[i]/2)\n",
    "\n",
    "y4 = []\n",
    "for i in range(len(width4)):\n",
    "    if i==0:\n",
    "        y4.append(width4[0]/2)\n",
    "    else:\n",
    "        y4.append(np.sum(width4[:i] ) + i*node_gap + width4[i]/2)"
   ]
  },
  {
   "cell_type": "code",
   "execution_count": null,
   "id": "aadabff6",
   "metadata": {},
   "outputs": [],
   "source": [
    "source12 = R12['source_idx']\n",
    "source23 = R23['source_idx']+len(label_1)\n",
    "source34 = R34['source_idx']+len(label_1)+len(label_2)\n",
    "\n",
    "target12 = R12['target_idx']+len(label_1)\n",
    "target23 = R23['target_idx']+len(label_1)+len(label_2)\n",
    "target34 = R34['target_idx']+len(label_1)+len(label_2)+len(label_3)\n",
    "\n",
    "values12 = R12['Value']\n",
    "values23 = R23['Value']\n",
    "values34 = R34['Value']"
   ]
  },
  {
   "cell_type": "code",
   "execution_count": null,
   "id": "49d25959",
   "metadata": {},
   "outputs": [],
   "source": [
    "cmap = {'Cathepsin': '#1A70A4',\n",
    "        'Epidermal': '#F07000',\n",
    "        'Germline': '#188015',\n",
    "        'Intestine': '#D62728',\n",
    "        'Muscle': '#8050B0',\n",
    "        'Neoblast': '#8C564B',\n",
    "        'Neural': '#E070C0',\n",
    "        'Parenchymal': '#BCBD22',\n",
    "        'Protonephridia': '#F07000'}\n",
    "\n",
    "color1 = [cmap[tissue] for tissue in [x.split('_')[1] for x in label_1]]\n",
    "color2 = [cmap[tissue] for tissue in [x.split('_')[1] for x in label_2]]\n",
    "color3 = [cmap[tissue] for tissue in [x.split('_')[1] for x in label_3]]\n",
    "color4 = [cmap[tissue] for tissue in [x.split('_')[1] for x in label_4]]"
   ]
  },
  {
   "cell_type": "code",
   "execution_count": null,
   "id": "d4d6dc81",
   "metadata": {},
   "outputs": [],
   "source": [
    "plot = go.Figure(go.Sankey(arrangement='snap',\n",
    "                           node = {\n",
    "                               \"label\":label_1+label_2+label_3+label_4,\n",
    "                               \"x\": x1+x2+x3+x4,\n",
    "                               \"y\": y1+y2+y3+y4,\n",
    "                               'pad': 15,\n",
    "                               'thickness': 20,\n",
    "                               'line': dict(color = \"black\", width = 1.0),\n",
    "                               'color':color1+color2+color3+color4},\n",
    "                           link = {\n",
    "                               \"source\": pd.concat([source12, source23, source34]).values,\n",
    "                               \"target\": pd.concat([target12, target23, target34]).values,\n",
    "                               \"value\": pd.concat([values12, values23, values34]).values}))\n",
    "\n",
    "plot.update_layout(width=750, height=550, font_size=10, font = dict(family='Arial', color='black'))\n",
    "plot.write_image(\"Plots/Fig1/Panel1e.svg\", format=\"svg\")\n",
    "\n",
    "plot.show()"
   ]
  },
  {
   "cell_type": "markdown",
   "id": "0b32d1ce",
   "metadata": {},
   "source": [
    "# Neural mappings"
   ]
  },
  {
   "cell_type": "code",
   "execution_count": null,
   "id": "e5b29383",
   "metadata": {},
   "outputs": [],
   "source": [
    "R = pd.read_csv( 'Metadata/Neural_SAMap_scores.csv', index_col=0 )\n",
    "R = R.unstack().reset_index(drop=False)\n",
    "R.columns = ['Source','Target','Value']\n",
    "R = R.loc[R.Value>=0.2,:]\n",
    "R = R.loc[(R.Source.str.startswith('Ml')&R.Target.str.startswith('Pl'))|\\\n",
    "          (R.Source.str.startswith('Pl')&R.Target.str.startswith('Sm'))|\\\n",
    "          (R.Source.str.startswith('Sm')&R.Target.str.startswith('Ml')),:].reset_index(drop=True)\n",
    "\n",
    "R"
   ]
  },
  {
   "cell_type": "code",
   "execution_count": null,
   "id": "34b09830",
   "metadata": {},
   "outputs": [],
   "source": [
    "R.loc[R.Target.str.startswith('Ml'),'Target'] = R.Target[R.Target.str.startswith('Ml')]\\\n",
    "                                                         .str.replace('Ml','Ml2')\n",
    "R"
   ]
  },
  {
   "cell_type": "code",
   "execution_count": null,
   "id": "843dded7",
   "metadata": {},
   "outputs": [],
   "source": [
    "label_1 = ['Ml_0', 'Ml_1', 'Ml_2', 'Ml_4', 'Ml_5' , 'Ml_6','Ml_8', 'Ml_9', 'Ml_11']\n",
    "label_2 = ['Pl_0', 'Pl_1', 'Pl_2', 'Pl_3', 'Pl_4', 'Pl_5','Pl_6', 'Pl_7', 'Pl_8']\n",
    "label_3 = ['Sm_0', 'Sm_2', 'Sm_3', 'Sm_4', 'Sm_5', 'Sm_6', 'Sm_7', 'Sm_8','Sm_9', 'Sm_10',\n",
    "           'Sm_12', 'Sm_13', 'Sm_14', 'Sm_15', 'Sm_16', 'Sm_17']\n",
    "label_4 = ['Ml2_0', 'Ml2_1', 'Ml2_2', 'Ml2_3', 'Ml2_4', 'Ml2_5', 'Ml2_6', 'Ml2_8', 'Ml2_9', 'Ml2_11']"
   ]
  },
  {
   "cell_type": "code",
   "execution_count": null,
   "id": "ec46945f",
   "metadata": {},
   "outputs": [],
   "source": [
    "R12=R[R['Source'].isin(label_1)].reset_index(drop=True)\n",
    "R23=R[R['Source'].isin(label_2)].reset_index(drop=True)\n",
    "R34=R[R['Source'].isin(label_3)].reset_index(drop=True)"
   ]
  },
  {
   "cell_type": "code",
   "execution_count": null,
   "id": "5994e0aa",
   "metadata": {},
   "outputs": [],
   "source": [
    "R12['source_idx'] = R12.apply(lambda x: label_1.index(x.Source), axis=1)\n",
    "R12['target_idx'] = R12.apply(lambda x: label_2.index(x.Target), axis=1)\n",
    "\n",
    "R23['source_idx'] = R23.apply(lambda x: label_2.index(x.Source), axis=1)\n",
    "R23['target_idx'] = R23.apply(lambda x: label_3.index(x.Target), axis=1)\n",
    "\n",
    "R34['source_idx'] = R34.apply(lambda x: label_3.index(x.Source), axis=1)\n",
    "R34['target_idx'] = R34.apply(lambda x: label_4.index(x.Target), axis=1)"
   ]
  },
  {
   "cell_type": "code",
   "execution_count": null,
   "id": "8abd24cd",
   "metadata": {},
   "outputs": [],
   "source": [
    "node_gap=0.005\n",
    "node_width_cof = 0.05"
   ]
  },
  {
   "cell_type": "code",
   "execution_count": null,
   "id": "651af523",
   "metadata": {},
   "outputs": [],
   "source": [
    "x1 = [0.05]*len(label_1)\n",
    "x2 = [0.35]*len(label_2)\n",
    "x3 = [0.65]*len(label_3)\n",
    "x4 = [0.95]*len(label_4)"
   ]
  },
  {
   "cell_type": "code",
   "execution_count": null,
   "id": "23be2237",
   "metadata": {},
   "outputs": [],
   "source": [
    "width1 = []\n",
    "for source in label_1:\n",
    "    width1.append(np.sum(R12[R12['Source']==source]['Value'])*node_width_cof)\n",
    "    \n",
    "width2 = []\n",
    "for target in label_2:\n",
    "    left_value = np.sum(R12[R12['Target']==target]['Value'])\n",
    "    right_value = np.sum(R23[R23['Source']==target]['Value'])\n",
    "    width2.append(max(left_value, right_value)*node_width_cof)\n",
    "    \n",
    "width3 = []\n",
    "for target in label_3:\n",
    "    left_value = np.sum(R23[R23['Target']==target]['Value'])\n",
    "    right_value = np.sum(R34[R34['Source']==target]['Value'])\n",
    "    width3.append(max(left_value, right_value)*node_width_cof)\n",
    "    \n",
    "width4 = []\n",
    "for target in label_4:\n",
    "    width4.append(np.sum(R34[R34['Target']==target]['Value'])*node_width_cof)"
   ]
  },
  {
   "cell_type": "code",
   "execution_count": null,
   "id": "c9804f14",
   "metadata": {},
   "outputs": [],
   "source": [
    "y1 = []\n",
    "for i in range(len(width1)):\n",
    "    if i==0:\n",
    "        y1.append(width1[0]/2)\n",
    "    else:\n",
    "        y1.append(np.sum(width1[:i]) + i*node_gap + width1[i]/2)\n",
    "\n",
    "y2 = []\n",
    "for i in range(len(width2)):\n",
    "    if i==0:\n",
    "        y2.append(width2[0]/2)\n",
    "    else:\n",
    "        y2.append(np.sum(width2[:i] ) + i*node_gap + width2[i]/2)\n",
    "\n",
    "y3 = []\n",
    "for i in range(len(width3)):\n",
    "    if i==0:\n",
    "        y3.append(width3[0]/2)\n",
    "    else:\n",
    "        y3.append(np.sum(width3[:i] ) + i*node_gap + width3[i]/2)\n",
    "\n",
    "y4 = []\n",
    "for i in range(len(width4)):\n",
    "    if i==0:\n",
    "        y4.append(width4[0]/2)\n",
    "    else:\n",
    "        y4.append(np.sum(width4[:i] ) + i*node_gap + width4[i]/2)"
   ]
  },
  {
   "cell_type": "code",
   "execution_count": null,
   "id": "4e5c1aec",
   "metadata": {},
   "outputs": [],
   "source": [
    "cmap = {'0': '#1f77b4',\n",
    "        '1': '#aec7e8',\n",
    "        '2': '#ff7f0e',\n",
    "        '3': '#ffbb78',\n",
    "        '4': '#2ca02c',\n",
    "        '5': '#98df8a',\n",
    "        '6': '#d62728',\n",
    "        '7': '#ff9896',\n",
    "        '8': '#9467bd',\n",
    "        '9': '#c5b0d5',\n",
    "        '10': '#8c564b',\n",
    "        '11': '#c49c94',\n",
    "        '12': '#e377c2',\n",
    "        '13': '#f7b6d2',\n",
    "        '14': '#7f7f7f',\n",
    "        '15': '#c7c7c7',\n",
    "        '16': '#bcbd22',\n",
    "        '17': '#dbdb8d'\n",
    "         }\n",
    "\n",
    "color1 = [cmap[tissue] for tissue in [x.split('_')[1] for x in label_1]]\n",
    "color2 = [cmap[tissue] for tissue in [x.split('_')[1] for x in label_2]]\n",
    "color3 = [cmap[tissue] for tissue in [x.split('_')[1] for x in label_3]]\n",
    "color4 = [cmap[tissue] for tissue in [x.split('_')[1] for x in label_4]]"
   ]
  },
  {
   "cell_type": "code",
   "execution_count": null,
   "id": "bae9e1df",
   "metadata": {},
   "outputs": [],
   "source": [
    "plot = go.Figure(go.Sankey(arrangement='snap',\n",
    "                           node = {\n",
    "                               \"label\":  label_1+label_2+label_3+label_4,\n",
    "                               \"x\": x1+x2+x3+x4,\n",
    "                               \"y\": y1+y2+y3+y4,\n",
    "                               'pad': 15,\n",
    "                               'thickness': 20,\n",
    "                               'line': dict(color = \"black\", width = 1.0),\n",
    "                               'color':color1+color2+color3+color4},\n",
    "                           link = {\n",
    "                               \"source\": pd.concat([source12, source23, source34]).values,\n",
    "                               \"target\": pd.concat([target12, target23, target34]).values,\n",
    "                               \"value\": pd.concat([values12, values23, values34]).values}))\n",
    "\n",
    "plot.update_layout(width=850, height=550, font_size=10, font = dict(family='Arial', color='black'))\n",
    "plot.write_image(\"Plots/Fig1/Panel1f.svg\", format=\"svg\")\n",
    "plot.show()"
   ]
  },
  {
   "cell_type": "markdown",
   "id": "8972de2e",
   "metadata": {},
   "source": [
    "# Muscle mappings"
   ]
  },
  {
   "cell_type": "code",
   "execution_count": null,
   "id": "c652e83b",
   "metadata": {},
   "outputs": [],
   "source": [
    "R = pd.read_csv( 'Metadata/Muscle_SAMap_scores.csv', index_col=0 )\n",
    "R = R.unstack().reset_index(drop=False)\n",
    "R.columns = ['Source','Target','Value']\n",
    "R = R.loc[R.Value>=0.2,:]\n",
    "R = R.loc[(R.Source.str.startswith('Ml')&R.Target.str.startswith('Pl'))|\\\n",
    "          (R.Source.str.startswith('Pl')&R.Target.str.startswith('Sm'))|\\\n",
    "          (R.Source.str.startswith('Sm')&R.Target.str.startswith('Ml')),:].reset_index(drop=True)\n",
    "\n",
    "R"
   ]
  },
  {
   "cell_type": "code",
   "execution_count": null,
   "id": "d9b1d716",
   "metadata": {},
   "outputs": [],
   "source": [
    "R.loc[R.Target.str.startswith('Ml'),'Target'] = R.Target[R.Target.str.startswith('Ml')]\\\n",
    "                                                         .str.replace('Ml','Ml2')\n",
    "R"
   ]
  },
  {
   "cell_type": "code",
   "execution_count": null,
   "id": "d8b421a4",
   "metadata": {},
   "outputs": [],
   "source": [
    "# Labels correspond to the leiden clusters from the muscle_subclustering notebook\n",
    "# We re-label them in the illustrator just to go from 0 to N\n",
    "label_1 = ['Ml_0', 'Ml_2', 'Ml_3', 'Ml_5' , 'Ml_8','Ml_1']\n",
    "label_2 = ['Pl_0', 'Pl_1', 'Pl_2', 'Pl_4', 'Pl_7', 'Pl_3','Pl_6']\n",
    "label_3 = ['Sm_2', 'Sm_0', 'Sm_3', 'Sm_6', 'Sm_10', 'Sm_5', 'Sm_4', 'Sm_8' ]\n",
    "label_4 = ['Ml2_2','Ml2_3', 'Ml2_8', 'Ml2_6', 'Ml2_9']"
   ]
  },
  {
   "cell_type": "code",
   "execution_count": null,
   "id": "48682336",
   "metadata": {},
   "outputs": [],
   "source": [
    "R12=R[R['Source'].isin(label_1)].reset_index(drop=True)\n",
    "R23=R[R['Source'].isin(label_2)].reset_index(drop=True)\n",
    "R34=R[R['Source'].isin(label_3)].reset_index(drop=True)"
   ]
  },
  {
   "cell_type": "code",
   "execution_count": null,
   "id": "b2a9da66",
   "metadata": {},
   "outputs": [],
   "source": [
    "R12['source_idx'] = R12.apply(lambda x: label_1.index(x.Source), axis=1)\n",
    "R12['target_idx'] = R12.apply(lambda x: label_2.index(x.Target), axis=1)\n",
    "\n",
    "R23['source_idx'] = R23.apply(lambda x: label_2.index(x.Source), axis=1)\n",
    "R23['target_idx'] = R23.apply(lambda x: label_3.index(x.Target), axis=1)\n",
    "\n",
    "R34['source_idx'] = R34.apply(lambda x: label_3.index(x.Source), axis=1)\n",
    "R34['target_idx'] = R34.apply(lambda x: label_4.index(x.Target), axis=1)"
   ]
  },
  {
   "cell_type": "code",
   "execution_count": null,
   "id": "a7435554",
   "metadata": {},
   "outputs": [],
   "source": [
    "node_gap=0.005\n",
    "node_width_cof = 0.05"
   ]
  },
  {
   "cell_type": "code",
   "execution_count": null,
   "id": "c008e701",
   "metadata": {},
   "outputs": [],
   "source": [
    "x1 = [0.05]*len(label_1)\n",
    "x2 = [0.35]*len(label_2)\n",
    "x3 = [0.65]*len(label_3)\n",
    "x4 = [0.95]*len(label_4)"
   ]
  },
  {
   "cell_type": "code",
   "execution_count": null,
   "id": "7fc9e630",
   "metadata": {},
   "outputs": [],
   "source": [
    "width1 = []\n",
    "for source in label_1:\n",
    "    width1.append(np.sum(R12[R12['Source']==source]['Value'])*node_width_cof)\n",
    "    \n",
    "width2 = []\n",
    "for target in label_2:\n",
    "    left_value = np.sum(R12[R12['Target']==target]['Value'])\n",
    "    right_value = np.sum(R23[R23['Source']==target]['Value'])\n",
    "    width2.append(max(left_value, right_value)*node_width_cof)\n",
    "    \n",
    "width3 = []\n",
    "for target in label_3:\n",
    "    left_value = np.sum(R23[R23['Target']==target]['Value'])\n",
    "    right_value = np.sum(R34[R34['Source']==target]['Value'])\n",
    "    width3.append(max(left_value, right_value)*node_width_cof)\n",
    "    \n",
    "width4 = []\n",
    "for target in label_4:\n",
    "    width4.append(np.sum(R34[R34['Target']==target]['Value'])*node_width_cof)"
   ]
  },
  {
   "cell_type": "code",
   "execution_count": null,
   "id": "87824280",
   "metadata": {},
   "outputs": [],
   "source": [
    "y1 = []\n",
    "for i in range(len(width1)):\n",
    "    if i==0:\n",
    "        y1.append(width1[0]/2)\n",
    "    else:\n",
    "        y1.append(np.sum(width1[:i]) + i*node_gap + width1[i]/2)\n",
    "\n",
    "y2 = []\n",
    "for i in range(len(width2)):\n",
    "    if i==0:\n",
    "        y2.append(width2[0]/2)\n",
    "    else:\n",
    "        y2.append(np.sum(width2[:i] ) + i*node_gap + width2[i]/2)\n",
    "\n",
    "y3 = []\n",
    "for i in range(len(width3)):\n",
    "    if i==0:\n",
    "        y3.append(width3[0]/2)\n",
    "    else:\n",
    "        y3.append(np.sum(width3[:i] ) + i*node_gap + width3[i]/2)\n",
    "\n",
    "y4 = []\n",
    "for i in range(len(width4)):\n",
    "    if i==0:\n",
    "        y4.append(width4[0]/2)\n",
    "    else:\n",
    "        y4.append(np.sum(width4[:i] ) + i*node_gap + width4[i]/2)"
   ]
  },
  {
   "cell_type": "code",
   "execution_count": null,
   "id": "6960b396",
   "metadata": {},
   "outputs": [],
   "source": [
    "source12 = R12['source_idx']\n",
    "source23 = R23['source_idx']+len(label_1)\n",
    "source34 = R34['source_idx']+len(label_1)+len(label_2)\n",
    "\n",
    "target12 = R12['target_idx']+len(label_1)\n",
    "target23 = R23['target_idx']+len(label_1)+len(label_2)\n",
    "target34 = R34['target_idx']+len(label_1)+len(label_2)+len(label_3)\n",
    "\n",
    "values12 = R12['Value']\n",
    "values23 = R23['Value']\n",
    "values34 = R34['Value']"
   ]
  },
  {
   "cell_type": "code",
   "execution_count": null,
   "id": "8bd2f870",
   "metadata": {},
   "outputs": [],
   "source": [
    "cmap = {'0': '#1f77b4',\n",
    "        '1': '#aec7e8',\n",
    "        '2': '#ff7f0e',\n",
    "        '3': '#ffbb78',\n",
    "        '4': '#2ca02c',\n",
    "        '5': '#98df8a',\n",
    "        '6': '#d62728',\n",
    "        '7': '#ff9896',\n",
    "        '8': '#9467bd',\n",
    "        '9': '#c5b0d5',\n",
    "        '10': '#8c564b',\n",
    "        '11': '#c49c94',\n",
    "        '12': '#e377c2',\n",
    "        '13': '#f7b6d2',\n",
    "        '14': '#7f7f7f',\n",
    "        '15': '#c7c7c7',\n",
    "        '16': '#bcbd22',\n",
    "        '17': '#dbdb8d'\n",
    "         }\n",
    "\n",
    "color1 = [cmap[tissue] for tissue in [x.split('_')[1] for x in label_1]]\n",
    "color2 = [cmap[tissue] for tissue in [x.split('_')[1] for x in label_2]]\n",
    "color3 = [cmap[tissue] for tissue in [x.split('_')[1] for x in label_3]]\n",
    "color4 = [cmap[tissue] for tissue in [x.split('_')[1] for x in label_4]]"
   ]
  },
  {
   "cell_type": "code",
   "execution_count": null,
   "id": "5bafbb9d",
   "metadata": {},
   "outputs": [],
   "source": [
    "plot = go.Figure(go.Sankey(arrangement='snap',\n",
    "                           node = {\n",
    "                               \"label\":  label_1+label_2+label_3+label_4,\n",
    "                               \"x\": x1+x2+x3+x4,\n",
    "                               \"y\": y1+y2+y3+y4,\n",
    "                               'pad': 15,\n",
    "                               'thickness': 20,\n",
    "                               'line': dict(color = \"black\", width = 1.0),\n",
    "                               'color':color1+color2+color3+color4},\n",
    "                           link = {\n",
    "                               \"source\": pd.concat([source12, source23, source34]).values,\n",
    "                               \"target\": pd.concat([target12, target23, target34]).values,\n",
    "                               \"value\": pd.concat([values12, values23, values34]).values}))\n",
    "\n",
    "plot.update_layout(width=850, height=550, font_size=10, font = dict(family='Arial', color='black'))\n",
    "plot.write_image(\"Plots/FigS2/PanelS2d.svg\", format=\"svg\")\n",
    "\n",
    "plot.show()"
   ]
  }
 ],
 "metadata": {
  "kernelspec": {
   "display_name": "Python 3 (ipykernel)",
   "language": "python",
   "name": "python3"
  },
  "language_info": {
   "codemirror_mode": {
    "name": "ipython",
    "version": 3
   },
   "file_extension": ".py",
   "mimetype": "text/x-python",
   "name": "python",
   "nbconvert_exporter": "python",
   "pygments_lexer": "ipython3",
   "version": "3.7.13"
  }
 },
 "nbformat": 4,
 "nbformat_minor": 5
}
