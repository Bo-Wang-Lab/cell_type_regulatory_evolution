{
 "cells": [
  {
   "cell_type": "markdown",
   "id": "ed90bdd7-a457-47f0-b12b-81a56ded3097",
   "metadata": {},
   "source": [
    "# !! This notebook should be run from within the SAMap docker container !!"
   ]
  },
  {
   "cell_type": "code",
   "execution_count": null,
   "id": "7786f5da-45f5-49fc-917e-f9d7c4a2f84d",
   "metadata": {},
   "outputs": [],
   "source": [
    "import numpy as np\n",
    "import pandas as pd\n",
    "import seaborn as sns\n",
    "import matplotlib.pyplot as plt\n",
    "import matplotlib\n",
    "from scipy import sparse\n",
    "import anndata as ad\n",
    "import gc\n",
    "\n",
    "from tqdm import tqdm\n",
    "\n",
    "import scanpy as sc\n",
    "\n",
    "from samalg import SAM"
   ]
  },
  {
   "cell_type": "code",
   "execution_count": null,
   "id": "b94d4f1e-2f33-4677-9403-2b0f11b5009e",
   "metadata": {},
   "outputs": [],
   "source": [
    "custom_cmap = matplotlib.colors\\\n",
    "                .LinearSegmentedColormap.from_list( 'custom', plt.get_cmap('Reds')\\\n",
    "                                                                    (np.linspace(0,1,100)**(2)) )"
   ]
  },
  {
   "cell_type": "code",
   "execution_count": null,
   "id": "76df5ea7-f652-4867-bcc9-7d27a688ae15",
   "metadata": {},
   "outputs": [],
   "source": [
    "markerGenes = np.array(['Mlig455_065963', # ctsa\n",
    "                        'Mlig455_058455', # foxf2\n",
    "                        'Mlig455_019041', # ets2\n",
    "                        'Mlig455_035842', # hnf4\n",
    "                        'Mlig455_010977', # apob\n",
    "                        'Mlig455_001873', # gata4\n",
    "                        'Mlig455_063414', # nkx2-2\n",
    "                        'Mlig455_024622', # mat2a\n",
    "                        'Mlig455_055907', # boll\n",
    "                        'Mlig455_012539', # dlx1\n",
    "                        'Mlig455_054167', # cabp7-like\n",
    "                        'Mlig455_001418', # nanos-1\n",
    "                        'Mlig455_058841', # piwi\n",
    "                        'Mlig455_065488', # elavl4\n",
    "                        'Mlig455_017161', # sperm-1\n",
    "                        'Mlig455_059117', # fos\n",
    "                        'Mlig455_061703', # hes1 \n",
    "                        'Mlig455_060907', # piwi\n",
    "                        'Mlig455_034777', # dscaml1\n",
    "                        'Mlig455_048486', # gcm\n",
    "                        'Mlig455_068578', # chat\n",
    "                        'Mlig455_028180', # syt11\n",
    "                        'Mlig455_021418', # pc2\n",
    "                        'Mlig455_010925', # stnB\n",
    "                        'Mlig455_030543', # lhx3\n",
    "                        'Mlig455_024541', # pou4f2\n",
    "                        'Mlig455_034094', # myh2\n",
    "                        'Mlig455_018605', # myod1\n",
    "                        'Mlig455_066621', # nr4a2\n",
    "                        'Mlig455_000356', # notch2\n",
    "                        'Mlig455_024930', # sox15\n",
    "                        'Mlig455_020211', # pax5\n",
    "                        'Mlig455_056728', # rootletin\n",
    "                        'Mlig455_017088', # sspo\n",
    "                        'Mlig455_038182', # ano7\n",
    "                        'Mlig455_029729', # sspo\n",
    "                        'Mlig455_038673', # RNA815_15018.1/kremen2-like\n",
    "                        'Mlig455_059462', # RNA815_17183/wscd2-like\n",
    "                        'Mlig455_025266', # ascl4\n",
    "                        'Mlig455_042563', # ascl5\n",
    "                        'Mlig455_024289', # RNA1310_52977/RNA815_36457/wscd2-like\n",
    "                        'Mlig455_014917', # zan\n",
    "                        'Mlig455_030495', # pax6\n",
    "                        'Mlig455_038010', # ano7\n",
    "                        'Mlig455_035625', # osr2\n",
    "                        'Mlig455_058893', # sall3\n",
    "                        'Mlig455_034928', # eya1\n",
    "                        'Mlig455_020123', # pou3f2\n",
    "                        'Mlig455_033230', # macif-1\n",
    "                        'Mlig455_027638']) # RNA1310_30724/calmodulin6-like\n",
    "\n",
    "names = np.array(['ctsa','foxf2','ets2',\n",
    "                  'hnf4','apob','gata4','nkx2-2','mat2a',\n",
    "                  'boll','dlx1',\n",
    "                  'cabp7-like','nanos1',\n",
    "                  'piwi','elavl4','sperm1',\n",
    "                  'fos','hes1','piwi','dscaml1','gcm',\n",
    "                  'chat','syt11','pc2','stnB','lhx3','pou4f2',\n",
    "                  'myh2','myod1','nr4a2',\n",
    "                  'notch2','sox15','pax5','rootletin',\n",
    "                  'sspo','ano7','sspo','RNA815_15018.1/kremen2-like',\n",
    "                  'RNA815_17183/wscd2-like',\n",
    "                  'ascl4','ascl5','RNA1310_52977/RNA815_36457/wscd2-like',\n",
    "                  'zan','pax6','ano7',\n",
    "                  'osr','sall3','eya1','pou3f2',\n",
    "                  'macif1','RNA1310_30724/calmodulin6-like'])\n",
    "\n",
    "ctOrder = ['Cathepsin','Intestine-1','Intestine-2','GSC','Female Germline','Male Germline','Neoblast',\n",
    "           'Neural Progenitors','Neural-1','Neural-2','Neural-3','Neural-4','Neural-5','Muscle',\n",
    "           'Epidermal Progenitors','Epidermal-1','Epidermal-2','Parenchymal-1','Parenchymal-2',\n",
    "           'Parenchymal-3','Parenchymal-4','Parenchymal-5','Protonephridia','Anchor Cells']"
   ]
  },
  {
   "cell_type": "code",
   "execution_count": null,
   "id": "66769ab5-0777-4204-bff6-8821da0fa67e",
   "metadata": {},
   "outputs": [],
   "source": [
    "adataME = sc.read_h5ad( 'Mlig.SEACells_RNA.h5ad' )\n",
    "adataME.X = adataME.layers['raw']\n",
    "adataME"
   ]
  },
  {
   "cell_type": "code",
   "execution_count": null,
   "id": "55cc0af7-8d07-41a1-8074-769c0853e79b",
   "metadata": {},
   "outputs": [],
   "source": [
    "samME = SAM( counts=adataME )\n",
    "samME.preprocess_data( min_expression=0, filter_genes=False )\n",
    "samME.run( sparse_pca=True, weight_mode='rms', batch_key='Sample' )\n",
    "\n",
    "samME.adata"
   ]
  },
  {
   "cell_type": "code",
   "execution_count": null,
   "id": "47c238b2-f8d6-44e9-8f7b-0793810a3b68",
   "metadata": {},
   "outputs": [],
   "source": [
    "del adataME\n",
    "gc.collect()"
   ]
  },
  {
   "cell_type": "code",
   "execution_count": null,
   "id": "a5dfbfaf-0392-4a12-b02a-6f0e186b325c",
   "metadata": {},
   "outputs": [],
   "source": [
    "dp = sc.pl.dotplot( samME.adata[samME.adata.obs.GroupFigure!='???-1'].copy(), markerGenes, 'GroupFigure',\n",
    "                    standard_scale='var', categories_order=ctOrder, use_raw=False,\n",
    "                    show=False, dendrogram=False, figsize=(21,7), dot_max=0.75, dot_min=0, \n",
    "                    mean_only_expressed=False, cmap=custom_cmap )\n",
    "dp['mainplot_ax'].set_xticklabels(names)\n",
    "plt.savefig( 'Plots/EDFig3/PanelED3_Mlig_gex.svg', format='svg' )\n",
    "plt.show()"
   ]
  },
  {
   "cell_type": "code",
   "execution_count": null,
   "id": "05c75b96-514c-42ea-8da5-148bca47cf54",
   "metadata": {},
   "outputs": [],
   "source": [
    "adataMS = sc.read_h5ad( 'ArchROutputs/Mlig/Mlig.genescores_init.h5ad' )\n",
    "obs = pd.read_csv( 'Metadata/Mlig.final_cluster_annots.csv', index_col=0 )\n",
    "adataMS.obs = obs.loc[adataMS.obs_names,:]\n",
    "adataMS = adataMS[adataMS.obs.Sample=='uncut',:].copy()\n",
    "\n",
    "del obs\n",
    "\n",
    "adataMS"
   ]
  },
  {
   "cell_type": "code",
   "execution_count": null,
   "id": "91bab4b6-37ea-42d9-965b-11b421ab1683",
   "metadata": {},
   "outputs": [],
   "source": [
    "samMS = SAM( counts=adataMS )\n",
    "samMS.preprocess_data( min_expression=0, filter_genes=False )\n",
    "samMS.run( sparse_pca=True, weight_mode='rms', batch_key='Sample' )\n",
    "\n",
    "samMS.adata"
   ]
  },
  {
   "cell_type": "code",
   "execution_count": null,
   "id": "af419881-0783-4b1a-bfaa-486b3be03315",
   "metadata": {},
   "outputs": [],
   "source": [
    "del adataMS\n",
    "gc.collect()"
   ]
  },
  {
   "cell_type": "code",
   "execution_count": null,
   "id": "64c6a69d-305e-4668-9924-60963c6631c6",
   "metadata": {},
   "outputs": [],
   "source": [
    "samMS.dispersion_ranking_NN(save_avgs=True)"
   ]
  },
  {
   "cell_type": "code",
   "execution_count": null,
   "id": "e77fa530-69c1-4650-a8c5-7044aa07ec1b",
   "metadata": {},
   "outputs": [],
   "source": [
    "dp = sc.pl.dotplot( samMS.adata[samMS.adata.obs.GroupFigure!='???-1'].copy(), markerGenes, 'GroupFigure',\n",
    "                    layer='X_knn_avg', standard_scale='var', categories_order=ctOrder, \n",
    "                    show=False, dendrogram=False, figsize=(21,7), dot_max=0.75, dot_min=0, \n",
    "                    mean_only_expressed=False, cmap=custom_cmap )\n",
    "dp['mainplot_ax'].set_xticklabels(names)\n",
    "plt.savefig( 'Plots/EDFig3/PanelED3_Mlig_gs.svg', format='svg' )\n",
    "plt.show()"
   ]
  },
  {
   "cell_type": "code",
   "execution_count": null,
   "id": "de85af9b-e2fc-490b-9cbd-a86c370f8abe",
   "metadata": {},
   "outputs": [],
   "source": [
    "del samME\n",
    "del samMS\n",
    "\n",
    "gc.collect()"
   ]
  },
  {
   "cell_type": "code",
   "execution_count": null,
   "id": "dfdad952-384a-42ec-9ee9-936c62f80a99",
   "metadata": {},
   "outputs": [],
   "source": [
    "markerGenes = np.array(['SMESG000029163.1', # ctsa\n",
    "                        'SMESG000066497.1', # foxf1\n",
    "                        'SMESG000065612.1', # ets1\n",
    "                        'SMESG000079512.1', # nkx2-2\n",
    "                        'SMESG000014588.1', # hnf4\n",
    "                        'SMESG000053199.1', # mat\n",
    "                        'SMESG000003408.1', # porcupine\n",
    "                        'SMESG000039559.1', # gata4\n",
    "                        'SMESG000076072.1', # ophis\n",
    "                        'SMESG000000719.1', # surfactant b\n",
    "                        'SMESG000011334.1', # onecut\n",
    "                        'SMESG000076962.1', # msy4\n",
    "                        'SMESG000018169.1', # nanos\n",
    "                        'SMESG000066384.1', # zfp1\n",
    "                        'SMESG000078256.1', # tp53\n",
    "                        'SMESG000036375.1', # smedwi1\n",
    "                        'SMESG000021009.1', # bruli\n",
    "                        'SMESG000036444.1', # gcm\n",
    "                        'SMESG000051357.1', # chat\n",
    "                        'SMESG000017305.1', # stnb\n",
    "                        'SMESG000008070.1', # pc2\n",
    "                        'SMESG000016766.1', # col4a2\n",
    "                        'SMESG000063104.1', # nr4a2\n",
    "                        'SMESG000034317.1', # myod1\n",
    "                        'SMESG000025013.1', # prog2\n",
    "                        'SMESG000051170.1', # soxP3\n",
    "                        'SMESG000068935.1', # dd_357\n",
    "                        'SMESG000030598.1', # vim\n",
    "                        'SMESG000033673.1', # vit\n",
    "                        'SMESG000065670.1', # foxA\n",
    "                        'SMESG000006381.1', # ano7\n",
    "                        'SMESG000026861.1', # ascl4\n",
    "                        'SMESG000040790.1', # zan6\n",
    "                        'SMESG000005975.1', # six1\n",
    "                        'SMESG000076173.1', # pou3f3\n",
    "                        'SMESG000042801.1']) # sall1\n",
    "\n",
    "names = np.array(['ctsa','foxf1','ets1',\n",
    "                  'nkx2-2','hnf4','mat','porcupine','gata4',\n",
    "                  'ophis','surfactant b',\n",
    "                  'onecut','msy4','nanos',\n",
    "                  'zfp1','tp53','smedwi1','bruli',\n",
    "                  'gcm','chat','stnb','pc2',\n",
    "                  'col4a2','nr4a2','myod1',\n",
    "                  'prog2','soxP3','dd_357','vim',\n",
    "                  'vit','foxA',\n",
    "                  'ano7','ascl4','zan6',\n",
    "                  'six1','pou3f3','sall1'])\n",
    "\n",
    "ctOrder = ['Cathepsin','Intestine-1','Intestine-2','Ophis','GSC','GSC progeny/diff germline',\n",
    "           'Neoblast-1','Neoblast-2','Neural Progenitors','Neural-1','Neural-2','Neural-POU4',\n",
    "           'Muscle-1','Muscle-2','Muscle-3','Epidermal-1','Epidermal-2','Pharynx',\n",
    "           'Parenchymal','Protonephridia']"
   ]
  },
  {
   "cell_type": "code",
   "execution_count": null,
   "id": "6c1308e2-c489-440f-9817-377048578cce",
   "metadata": {},
   "outputs": [],
   "source": [
    "adataPE = sc.read_h5ad('GEXCounts/Smed/Smed.raw_RNA_counts.h5ad')\n",
    "obs = pd.read_csv('Metadata/Smed.final_cluster_annots.csv',index_col=0)\n",
    "adataPE.obs = obs.loc[adataPE.obs_names,:]\n",
    "\n",
    "del obs\n",
    "\n",
    "adataPE"
   ]
  },
  {
   "cell_type": "code",
   "execution_count": null,
   "id": "7179f632-21a0-4ef4-aaf4-c6548b1d11d3",
   "metadata": {},
   "outputs": [],
   "source": [
    "samPE = SAM( counts=adataPE )\n",
    "samPE.preprocess_data( min_expression=0, filter_genes=False )\n",
    "samPE.run( sparse_pca=True, weight_mode='rms', batch_key='Sample' )\n",
    "\n",
    "samPE.adata"
   ]
  },
  {
   "cell_type": "code",
   "execution_count": null,
   "id": "1c7d6410-c4d0-4d94-ad7f-6ccf9a748752",
   "metadata": {},
   "outputs": [],
   "source": [
    "del adataPE\n",
    "gc.collect()"
   ]
  },
  {
   "cell_type": "code",
   "execution_count": null,
   "id": "c4874854-8915-4a97-975a-a20325073251",
   "metadata": {},
   "outputs": [],
   "source": [
    "samPE.dispersion_ranking_NN(save_avgs=True)"
   ]
  },
  {
   "cell_type": "code",
   "execution_count": null,
   "id": "6cc857c8-bdf6-4cd6-b75d-1353d8c6d0ce",
   "metadata": {},
   "outputs": [],
   "source": [
    "dp = sc.pl.dotplot( samPE.adata, markerGenes, 'GroupFigure',\n",
    "                    layer='X_knn_avg', standard_scale='var', categories_order=ctOrder, \n",
    "                    show=False, dendrogram=False, figsize=(21,7), dot_max=0.75, dot_min=0, \n",
    "                    mean_only_expressed=False, cmap=custom_cmap )\n",
    "dp['mainplot_ax'].set_xticklabels(names)\n",
    "plt.savefig( 'Plots/EDFig3/PanelED3_Smed_gex.svg', format='svg' )\n",
    "plt.show()"
   ]
  },
  {
   "cell_type": "code",
   "execution_count": null,
   "id": "d9a1c631-d924-42ba-bcdc-9fa700942c18",
   "metadata": {},
   "outputs": [],
   "source": [
    "adataPS = sc.read_h5ad('ArchROutputs/Smed/Smed.imputed_genescores.h5ad')\n",
    "obs = pd.read_csv('Metadata/Smed.final_cluster_annots.csv',index_col=0)\n",
    "adataPS.obs = obs.loc[adataPS.obs_names,:]\n",
    "\n",
    "del obs\n",
    "\n",
    "adataPS"
   ]
  },
  {
   "cell_type": "code",
   "execution_count": null,
   "id": "2d4822ef-7a50-4dd1-97ad-fbcb9357b498",
   "metadata": {},
   "outputs": [],
   "source": [
    "samPS = SAM( counts=adataPS )\n",
    "samPS.preprocess_data( min_expression=0, filter_genes=False )\n",
    "samPS.run( sparse_pca=True, weight_mode='rms', batch_key='Sample' )\n",
    "\n",
    "samPS.adata"
   ]
  },
  {
   "cell_type": "code",
   "execution_count": null,
   "id": "7fde9366-2966-4f2c-99af-150a8ee1a65a",
   "metadata": {},
   "outputs": [],
   "source": [
    "del adataPS\n",
    "gc.collect()"
   ]
  },
  {
   "cell_type": "code",
   "execution_count": null,
   "id": "bcf8ab37-51e7-4c20-9a9a-711f22c2eb16",
   "metadata": {},
   "outputs": [],
   "source": [
    "samPS.dispersion_ranking_NN(save_avgs=True)"
   ]
  },
  {
   "cell_type": "code",
   "execution_count": null,
   "id": "b1dd3aa6-459b-41bc-b6d8-126f32edd98b",
   "metadata": {},
   "outputs": [],
   "source": [
    "dp = sc.pl.dotplot( samPS.adata, markerGenes, 'GroupFigure',\n",
    "                    layer='X_knn_avg', standard_scale='var', categories_order=ctOrder, \n",
    "                    show=False, dendrogram=False, figsize=(21,7), dot_max=0.75, dot_min=0, \n",
    "                    mean_only_expressed=False, cmap=custom_cmap )\n",
    "dp['mainplot_ax'].set_xticklabels(names)\n",
    "plt.savefig( 'Plots/EDFig3/PanelED3_Smed_gs.svg', format='svg' )\n",
    "plt.show()"
   ]
  },
  {
   "cell_type": "code",
   "execution_count": null,
   "id": "f40217eb-3733-4c19-b042-54033dcf9170",
   "metadata": {},
   "outputs": [],
   "source": [
    "del samPE\n",
    "del samPS\n",
    "\n",
    "gc.collect()"
   ]
  },
  {
   "cell_type": "code",
   "execution_count": null,
   "id": "1d9eda20-fc89-416d-a434-dbb6e5b0f373",
   "metadata": {},
   "outputs": [],
   "source": [
    "markerGenes = np.array(['Smp-212710', # tgfbi\n",
    "                        'Smp-076300', # foxf1\n",
    "                        'Smp-034410', # ctsf\n",
    "                        'Smp-174700', # hnf4\n",
    "                        'Smp-103610', # cb1.1\n",
    "                        'Smp-347780', # nkx2-5\n",
    "                        'Smp-248100', # nr\n",
    "                        'Smp-041540', # eled\n",
    "                        'Smp-055740', # nanos1\n",
    "                        'Smp-144860', # boule\n",
    "                        'Smp-051920', # nanos2\n",
    "                        'Smp-175590', # fgfrA\n",
    "                        'Smp-139530', # tp53\n",
    "                        'Smp-145470', # zfp1\n",
    "                        'Smp-171130', # gcm\n",
    "                        'Smp-146910', # chat\n",
    "                        'Smp-175900', # syt2\n",
    "                        'Smp-342080', # stnB\n",
    "                        'Smp-077980', # pc2\n",
    "                        'Smp-340200', # pou4f2\n",
    "                        'Smp-345610', # lhx3\n",
    "                        'Smp-194830', # kk7\n",
    "                        'Smp-167400', # myod1\n",
    "                        'Smp-018250', # troponin\n",
    "                        'Smp-139200', # nr4a2\n",
    "                        'Smp-195190', # sm13\n",
    "                        'Smp-335630', # tsp2\n",
    "                        'Smp-346900', # sm25\n",
    "                        'Smp-045200', # tal\n",
    "                        'Smp-049580', # zfp1\n",
    "                        'Smp-241610', # p48\n",
    "                        'Smp-167830', # ataxin2\n",
    "                        'Smp-085840', # meg4.2\n",
    "                        'Smp-331700', # foxA\n",
    "                        'Smp-335600', # sialidase\n",
    "                        'Smp-344230', # pou\n",
    "                        'Smp-128060']) # sall1\n",
    "\n",
    "names = np.array(['tgfbi','foxf1','ctsf',\n",
    "                  'hnf4','cb1.1','nkx2-5',\n",
    "                  'nr',\n",
    "                  'eled','nanos1','boule',\n",
    "                  'nanos2','fgfrB','tp53','zfp1',\n",
    "                  'gcm','chat','syt2','stnB','pc2',\n",
    "                  'pou4f2','lhx3','kk7',\n",
    "                  'myod1','troponin','nr4a2',\n",
    "                  'sm13','tsp2','sm25','tal','zfp1',\n",
    "                  'p48','ataxin2',\n",
    "                  'meg4.1','foxA',\n",
    "                  'sialidase','pou','sall1'])\n",
    "\n",
    "ctOrder = ['Cathepsin','Intestine','S1','GSC','Neoblast','Neural Progenitors','Neural-1','Neural-2',\n",
    "           'Neural-POU4','Neural-3','Neural-4','Neural-5','Muscle Progenitors','Muscle-1','Muscle-2',\n",
    "           'Muscle-3','Tegument Progenitors','Tegument-1','Tegument-2','Vitellocytes',\n",
    "           'Oesophageal Gland','Protonephridia']"
   ]
  },
  {
   "cell_type": "code",
   "execution_count": null,
   "id": "a8353d18-9b99-42c4-af09-f025e61e83d1",
   "metadata": {},
   "outputs": [],
   "source": [
    "adataSE = sc.read_h5ad( 'ArchROutputs/Sman/Sman.imputed_RNA_cp10k.h5ad' )\n",
    "obs = pd.read_csv( 'Metadata/Sman.final_cluster_annots.csv', index_col=0 )\n",
    "adataSE.obs = obs.loc[adataSE.obs_names,:]\n",
    "\n",
    "del obs\n",
    "\n",
    "adataSE"
   ]
  },
  {
   "cell_type": "code",
   "execution_count": null,
   "id": "2a3f779d-a1ed-44b4-a704-5cb4fbbe2926",
   "metadata": {},
   "outputs": [],
   "source": [
    "samSE = SAM( counts=adataSE )\n",
    "samSE.preprocess_data( min_expression=0, filter_genes=False )\n",
    "samSE.run( sparse_pca=True, weight_mode='rms', batch_key='Sample' )\n",
    "\n",
    "samSE.adata"
   ]
  },
  {
   "cell_type": "code",
   "execution_count": null,
   "id": "e810485e-13e5-447f-9fe4-cc7cd863e71d",
   "metadata": {},
   "outputs": [],
   "source": [
    "del adataSE\n",
    "gc.collect()"
   ]
  },
  {
   "cell_type": "code",
   "execution_count": null,
   "id": "f8d00d93-ae00-4818-9b15-d6bdf9a6c4cd",
   "metadata": {},
   "outputs": [],
   "source": [
    "samSE.dispersion_ranking_NN(save_avgs=True)"
   ]
  },
  {
   "cell_type": "code",
   "execution_count": null,
   "id": "5f34db79-e961-46fb-b7ce-d7b11e8434d7",
   "metadata": {},
   "outputs": [],
   "source": [
    "dp = sc.pl.dotplot( samSE.adata, markerGenes, 'GroupFigure',\n",
    "                    layer='X_knn_avg', standard_scale='var', categories_order=ctOrder, \n",
    "                    show=False, dendrogram=False, figsize=(21,7), dot_max=0.75, dot_min=0, \n",
    "                    mean_only_expressed=False, cmap=custom_cmap )\n",
    "dp['mainplot_ax'].set_xticklabels(names)\n",
    "plt.savefig( 'Plots/EDFig3/PanelED3_Sman_gex.svg', format='svg' )\n",
    "plt.show()"
   ]
  },
  {
   "cell_type": "code",
   "execution_count": null,
   "id": "181b5f12-d828-4369-9103-81075404966b",
   "metadata": {},
   "outputs": [],
   "source": [
    "adataSS = sc.read_h5ad( 'ArchROutputs/Sman/Sman.genescores.h5ad' )\n",
    "obs = pd.read_csv( 'Metadata/Smed.final_cluster_annots.csv', index_col=0 )\n",
    "adataSS.obs = obs.loc[adataSS.obs_names,:]\n",
    "\n",
    "del obs\n",
    "\n",
    "adataSS"
   ]
  },
  {
   "cell_type": "code",
   "execution_count": null,
   "id": "a4c527e1-38ba-4b74-901e-d32ba8ea0504",
   "metadata": {},
   "outputs": [],
   "source": [
    "samSS = SAM( counts=adataSS )\n",
    "samSS.preprocess_data( min_expression=0, filter_genes=False )\n",
    "samSS.run( sparse_pca=True, weight_mode='rms', batch_key='Sample' )\n",
    "\n",
    "samSS.adata"
   ]
  },
  {
   "cell_type": "code",
   "execution_count": null,
   "id": "159484d6-a859-45f2-aa3e-d9a137dba3c6",
   "metadata": {},
   "outputs": [],
   "source": [
    "del adataSS\n",
    "gc.collect()"
   ]
  },
  {
   "cell_type": "code",
   "execution_count": null,
   "id": "d8164262-5699-406d-9b85-559cfa3444b1",
   "metadata": {},
   "outputs": [],
   "source": [
    "samSS.dispersion_ranking_NN(save_avgs=True)"
   ]
  },
  {
   "cell_type": "code",
   "execution_count": null,
   "id": "d37aa745-024c-4f09-9610-698182549a72",
   "metadata": {},
   "outputs": [],
   "source": [
    "dp = sc.pl.dotplot( samSS.adata, markerGenes, 'GroupFigure',\n",
    "                    layer='X_knn_avg', standard_scale='var', categories_order=ctOrder, \n",
    "                    show=False, dendrogram=False, figsize=(21,7), dot_max=0.75, dot_min=0, \n",
    "                    mean_only_expressed=False, cmap=custom_cmap )\n",
    "dp['mainplot_ax'].set_xticklabels(names)\n",
    "plt.savefig( 'Plots/EDFig3/PanelED3_Sman_gs.svg', format='svg' )\n",
    "plt.show()"
   ]
  },
  {
   "cell_type": "code",
   "execution_count": null,
   "id": "eda68712-c2bc-48e7-a415-ed5aaad7ab04",
   "metadata": {},
   "outputs": [],
   "source": [
    "del samSE\n",
    "del samSS\n",
    "\n",
    "gc.collect()"
   ]
  },
  {
   "cell_type": "code",
   "execution_count": null,
   "id": "31712973-edb5-468b-91b4-f38aa74fa0c3",
   "metadata": {},
   "outputs": [],
   "source": []
  }
 ],
 "metadata": {
  "kernelspec": {
   "display_name": "Python 3 (ipykernel)",
   "language": "python",
   "name": "python3"
  },
  "language_info": {
   "codemirror_mode": {
    "name": "ipython",
    "version": 3
   },
   "file_extension": ".py",
   "mimetype": "text/x-python",
   "name": "python",
   "nbconvert_exporter": "python",
   "pygments_lexer": "ipython3",
   "version": "3.8.13"
  }
 },
 "nbformat": 4,
 "nbformat_minor": 5
}
